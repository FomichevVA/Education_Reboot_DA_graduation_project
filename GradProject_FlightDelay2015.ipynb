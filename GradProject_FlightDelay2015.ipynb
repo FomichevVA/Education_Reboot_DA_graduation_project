{
 "cells": [
  {
   "cell_type": "markdown",
   "id": "fed6f182",
   "metadata": {
    "toc": true
   },
   "source": [
    "<h1>Table of Contents<span class=\"tocSkip\"></span></h1>\n",
    "<div class=\"toc\"><ul class=\"toc-item\"><li><span><a href=\"#Импорт-библиотек-и-модулей\" data-toc-modified-id=\"Импорт-библиотек-и-модулей-1\"><span class=\"toc-item-num\">1&nbsp;&nbsp;</span>Импорт библиотек и модулей</a></span></li><li><span><a href=\"#Обзор-данных\" data-toc-modified-id=\"Обзор-данных-2\"><span class=\"toc-item-num\">2&nbsp;&nbsp;</span>Обзор данных</a></span><ul class=\"toc-item\"><li><span><a href=\"#Импорт-данных\" data-toc-modified-id=\"Импорт-данных-2.1\"><span class=\"toc-item-num\">2.1&nbsp;&nbsp;</span>Импорт данных</a></span></li><li><span><a href=\"#Исследование-таблица\" data-toc-modified-id=\"Исследование-таблица-2.2\"><span class=\"toc-item-num\">2.2&nbsp;&nbsp;</span>Исследование таблица</a></span></li></ul></li><li><span><a href=\"#Исправление-кодировки-аэропортов-за-октябрь-2015\" data-toc-modified-id=\"Исправление-кодировки-аэропортов-за-октябрь-2015-3\"><span class=\"toc-item-num\">3&nbsp;&nbsp;</span>Исправление кодировки аэропортов за октябрь 2015</a></span><ul class=\"toc-item\"><li><span><a href=\"#Наличие-кривых-кодов\" data-toc-modified-id=\"Наличие-кривых-кодов-3.1\"><span class=\"toc-item-num\">3.1&nbsp;&nbsp;</span>Наличие кривых кодов</a></span></li><li><span><a href=\"#Импортируем-таблицу-соответствия-кодов\" data-toc-modified-id=\"Импортируем-таблицу-соответствия-кодов-3.2\"><span class=\"toc-item-num\">3.2&nbsp;&nbsp;</span>Импортируем таблицу соответствия кодов</a></span></li><li><span><a href=\"#Исправляем-аэропорт-вылета\" data-toc-modified-id=\"Исправляем-аэропорт-вылета-3.3\"><span class=\"toc-item-num\">3.3&nbsp;&nbsp;</span>Исправляем аэропорт вылета</a></span></li><li><span><a href=\"#Исправляем-аэропорт-прилета\" data-toc-modified-id=\"Исправляем-аэропорт-прилета-3.4\"><span class=\"toc-item-num\">3.4&nbsp;&nbsp;</span>Исправляем аэропорт прилета</a></span></li><li><span><a href=\"#Сохраняем-исправления-в-файл\" data-toc-modified-id=\"Сохраняем-исправления-в-файл-3.5\"><span class=\"toc-item-num\">3.5&nbsp;&nbsp;</span>Сохраняем исправления в файл</a></span></li></ul></li><li><span><a href=\"#Задание-1.-Найти-аэропорт-с-минимальной-задержкой-вылета\" data-toc-modified-id=\"Задание-1.-Найти-аэропорт-с-минимальной-задержкой-вылета-4\"><span class=\"toc-item-num\">4&nbsp;&nbsp;</span>Задание 1. Найти аэропорт с минимальной задержкой вылета</a></span><ul class=\"toc-item\"><li><span><a href=\"#Аэропорт-с-минимальным-временем-задержки\" data-toc-modified-id=\"Аэропорт-с-минимальным-временем-задержки-4.1\"><span class=\"toc-item-num\">4.1&nbsp;&nbsp;</span>Аэропорт с минимальным временем задержки</a></span></li></ul></li><li><span><a href=\"#Задание-2.-Самая-пунктуальная-авиакомпания-на-прилет-в-Los-Angeles-International-Airport\" data-toc-modified-id=\"Задание-2.-Самая-пунктуальная-авиакомпания-на-прилет-в-Los-Angeles-International-Airport-5\"><span class=\"toc-item-num\">5&nbsp;&nbsp;</span>Задание 2. Самая пунктуальная авиакомпания на прилет в Los Angeles International Airport</a></span></li><li><span><a href=\"#Задайти-аэропорт,-где-самолёты-проводят-больше-всего-времени-на-рулении-(среднее-значение)\" data-toc-modified-id=\"Задайти-аэропорт,-где-самолёты-проводят-больше-всего-времени-на-рулении-(среднее-значение)-6\"><span class=\"toc-item-num\">6&nbsp;&nbsp;</span>Задайти аэропорт, где самолёты проводят больше всего времени на рулении (среднее значение)</a></span></li></ul></div>"
   ]
  },
  {
   "cell_type": "markdown",
   "id": "fc1581a9",
   "metadata": {},
   "source": [
    "# Импорт библиотек и модулей"
   ]
  },
  {
   "cell_type": "code",
   "execution_count": 1,
   "id": "151bd0c3",
   "metadata": {},
   "outputs": [],
   "source": [
    "import pandas as pd\n",
    "import numpy as np"
   ]
  },
  {
   "cell_type": "markdown",
   "id": "8e482189",
   "metadata": {},
   "source": [
    "# Обзор данных"
   ]
  },
  {
   "cell_type": "markdown",
   "id": "580e1ef1",
   "metadata": {},
   "source": [
    "## Импорт данных"
   ]
  },
  {
   "cell_type": "code",
   "execution_count": 2,
   "id": "db81a97b",
   "metadata": {},
   "outputs": [],
   "source": [
    "# авиакомпании\n",
    "al_pd = pd.read_csv('airlines.csv') \n",
    "# аэропорты\n",
    "ap_pd = pd.read_csv('airports.csv') "
   ]
  },
  {
   "cell_type": "markdown",
   "id": "bc860860",
   "metadata": {},
   "source": [
    "Проведем оптимизацию, используя методы из статей https://habr.com/ru/articles/468637/ , https://habr.com/ru/articles/467785/ и https://habr.com/ru/companies/ruvds/articles/442516/\n",
    "— object в category;\n",
    "— int64 в uint8;\n",
    "— float64 в float32."
   ]
  },
  {
   "cell_type": "code",
   "execution_count": 7,
   "id": "e8daaf48",
   "metadata": {},
   "outputs": [],
   "source": [
    "# полеты\n",
    "# Проведем оптимизацию, используя методы из предыдущего поста и статьи:\n",
    "# — object в category;\n",
    "# — int64 в uint8;\n",
    "# — float64 в float32.\n",
    "# fl_pd = pd.read_csv('flights.csv',low_memory=False) \n",
    "fl_pd = pd.read_csv('flights.csv',low_memory=False,dtype ={\n",
    "'YEAR':'uint8', 'MONTH':'uint8','DAY':'uint8','DAY_OF_WEEK':'uint8','AIRLINE':'category', \n",
    "'FLIGHT_NUMBER':'uint8','TAIL_NUMBER':'category','ORIGIN_AIRPORT':'category',\n",
    "'DESTINATION_AIRPORT':'category','SCHEDULED_DEPARTURE':'uint8','DEPARTURE_TIME':'float32',\n",
    "'DEPARTURE_DELAY':'float32','TAXI_OUT':'float32', 'WHEELS_OFF':'float32',\n",
    "'SCHEDULED_TIME':'float32','ELAPSED_TIME':'float32', 'AIR_TIME':'float32', 'DISTANCE':'uint8',\n",
    "'WHEELS_ON':'float32','TAXI_IN':'float32','SCHEDULED_ARRIVAL':'uint8','ARRIVAL_TIME':'float32',\n",
    "'ARRIVAL_DELAY':'float32','DIVERTED':'uint8','CANCELLED':'uint8','CANCELLATION_REASON':'category',\n",
    "'AIR_SYSTEM_DELAY':'float32','SECURITY_DELAY':'float32','AIRLINE_DELAY':'float32',\n",
    "'LATE_AIRCRAFT_DELAY':'float32','WEATHER_DELAY':'float32'\n",
    "}) "
   ]
  },
  {
   "cell_type": "code",
   "execution_count": 8,
   "id": "e1e398b2",
   "metadata": {},
   "outputs": [
    {
     "name": "stdout",
     "output_type": "stream",
     "text": [
      "<class 'pandas.core.frame.DataFrame'>\n",
      "RangeIndex: 5819079 entries, 0 to 5819078\n",
      "Data columns (total 31 columns):\n",
      " #   Column               Dtype   \n",
      "---  ------               -----   \n",
      " 0   YEAR                 uint8   \n",
      " 1   MONTH                uint8   \n",
      " 2   DAY                  uint8   \n",
      " 3   DAY_OF_WEEK          uint8   \n",
      " 4   AIRLINE              category\n",
      " 5   FLIGHT_NUMBER        uint8   \n",
      " 6   TAIL_NUMBER          category\n",
      " 7   ORIGIN_AIRPORT       category\n",
      " 8   DESTINATION_AIRPORT  category\n",
      " 9   SCHEDULED_DEPARTURE  uint8   \n",
      " 10  DEPARTURE_TIME       float32 \n",
      " 11  DEPARTURE_DELAY      float32 \n",
      " 12  TAXI_OUT             float32 \n",
      " 13  WHEELS_OFF           float32 \n",
      " 14  SCHEDULED_TIME       float32 \n",
      " 15  ELAPSED_TIME         float32 \n",
      " 16  AIR_TIME             float32 \n",
      " 17  DISTANCE             uint8   \n",
      " 18  WHEELS_ON            float32 \n",
      " 19  TAXI_IN              float32 \n",
      " 20  SCHEDULED_ARRIVAL    uint8   \n",
      " 21  ARRIVAL_TIME         float32 \n",
      " 22  ARRIVAL_DELAY        float32 \n",
      " 23  DIVERTED             uint8   \n",
      " 24  CANCELLED            uint8   \n",
      " 25  CANCELLATION_REASON  category\n",
      " 26  AIR_SYSTEM_DELAY     float32 \n",
      " 27  SECURITY_DELAY       float32 \n",
      " 28  AIRLINE_DELAY        float32 \n",
      " 29  LATE_AIRCRAFT_DELAY  float32 \n",
      " 30  WEATHER_DELAY        float32 \n",
      "dtypes: category(5), float32(16), uint8(10)\n",
      "memory usage: 455.6 MB\n",
      "None\n"
     ]
    }
   ],
   "source": [
    "print(fl_pd.info(memory_usage='deep'))"
   ]
  },
  {
   "cell_type": "markdown",
   "id": "d6678877",
   "metadata": {},
   "source": [
    "## Исследование таблица"
   ]
  },
  {
   "cell_type": "code",
   "execution_count": 15,
   "id": "63fa3661",
   "metadata": {},
   "outputs": [
    {
     "data": {
      "text/html": [
       "<div>\n",
       "<style scoped>\n",
       "    .dataframe tbody tr th:only-of-type {\n",
       "        vertical-align: middle;\n",
       "    }\n",
       "\n",
       "    .dataframe tbody tr th {\n",
       "        vertical-align: top;\n",
       "    }\n",
       "\n",
       "    .dataframe thead th {\n",
       "        text-align: right;\n",
       "    }\n",
       "</style>\n",
       "<table border=\"1\" class=\"dataframe\">\n",
       "  <thead>\n",
       "    <tr style=\"text-align: right;\">\n",
       "      <th></th>\n",
       "      <th>IATA_CODE</th>\n",
       "      <th>AIRPORT</th>\n",
       "      <th>CITY</th>\n",
       "      <th>STATE</th>\n",
       "      <th>COUNTRY</th>\n",
       "      <th>LATITUDE</th>\n",
       "      <th>LONGITUDE</th>\n",
       "    </tr>\n",
       "  </thead>\n",
       "  <tbody>\n",
       "    <tr>\n",
       "      <th>0</th>\n",
       "      <td>ABE</td>\n",
       "      <td>Lehigh Valley International Airport</td>\n",
       "      <td>Allentown</td>\n",
       "      <td>PA</td>\n",
       "      <td>USA</td>\n",
       "      <td>40.65236</td>\n",
       "      <td>-75.44040</td>\n",
       "    </tr>\n",
       "    <tr>\n",
       "      <th>1</th>\n",
       "      <td>ABI</td>\n",
       "      <td>Abilene Regional Airport</td>\n",
       "      <td>Abilene</td>\n",
       "      <td>TX</td>\n",
       "      <td>USA</td>\n",
       "      <td>32.41132</td>\n",
       "      <td>-99.68190</td>\n",
       "    </tr>\n",
       "    <tr>\n",
       "      <th>2</th>\n",
       "      <td>ABQ</td>\n",
       "      <td>Albuquerque International Sunport</td>\n",
       "      <td>Albuquerque</td>\n",
       "      <td>NM</td>\n",
       "      <td>USA</td>\n",
       "      <td>35.04022</td>\n",
       "      <td>-106.60919</td>\n",
       "    </tr>\n",
       "    <tr>\n",
       "      <th>3</th>\n",
       "      <td>ABR</td>\n",
       "      <td>Aberdeen Regional Airport</td>\n",
       "      <td>Aberdeen</td>\n",
       "      <td>SD</td>\n",
       "      <td>USA</td>\n",
       "      <td>45.44906</td>\n",
       "      <td>-98.42183</td>\n",
       "    </tr>\n",
       "    <tr>\n",
       "      <th>4</th>\n",
       "      <td>ABY</td>\n",
       "      <td>Southwest Georgia Regional Airport</td>\n",
       "      <td>Albany</td>\n",
       "      <td>GA</td>\n",
       "      <td>USA</td>\n",
       "      <td>31.53552</td>\n",
       "      <td>-84.19447</td>\n",
       "    </tr>\n",
       "  </tbody>\n",
       "</table>\n",
       "</div>"
      ],
      "text/plain": [
       "  IATA_CODE                              AIRPORT         CITY STATE COUNTRY  \\\n",
       "0       ABE  Lehigh Valley International Airport    Allentown    PA     USA   \n",
       "1       ABI             Abilene Regional Airport      Abilene    TX     USA   \n",
       "2       ABQ    Albuquerque International Sunport  Albuquerque    NM     USA   \n",
       "3       ABR            Aberdeen Regional Airport     Aberdeen    SD     USA   \n",
       "4       ABY   Southwest Georgia Regional Airport       Albany    GA     USA   \n",
       "\n",
       "   LATITUDE  LONGITUDE  \n",
       "0  40.65236  -75.44040  \n",
       "1  32.41132  -99.68190  \n",
       "2  35.04022 -106.60919  \n",
       "3  45.44906  -98.42183  \n",
       "4  31.53552  -84.19447  "
      ]
     },
     "execution_count": 15,
     "metadata": {},
     "output_type": "execute_result"
    }
   ],
   "source": [
    "ap_pd.head()"
   ]
  },
  {
   "cell_type": "code",
   "execution_count": 16,
   "id": "508f108b",
   "metadata": {},
   "outputs": [
    {
     "data": {
      "text/html": [
       "<div>\n",
       "<style scoped>\n",
       "    .dataframe tbody tr th:only-of-type {\n",
       "        vertical-align: middle;\n",
       "    }\n",
       "\n",
       "    .dataframe tbody tr th {\n",
       "        vertical-align: top;\n",
       "    }\n",
       "\n",
       "    .dataframe thead th {\n",
       "        text-align: right;\n",
       "    }\n",
       "</style>\n",
       "<table border=\"1\" class=\"dataframe\">\n",
       "  <thead>\n",
       "    <tr style=\"text-align: right;\">\n",
       "      <th></th>\n",
       "      <th>YEAR</th>\n",
       "      <th>MONTH</th>\n",
       "      <th>DAY</th>\n",
       "      <th>DAY_OF_WEEK</th>\n",
       "      <th>AIRLINE</th>\n",
       "      <th>FLIGHT_NUMBER</th>\n",
       "      <th>TAIL_NUMBER</th>\n",
       "      <th>ORIGIN_AIRPORT</th>\n",
       "      <th>DESTINATION_AIRPORT</th>\n",
       "      <th>SCHEDULED_DEPARTURE</th>\n",
       "      <th>...</th>\n",
       "      <th>ARRIVAL_TIME</th>\n",
       "      <th>ARRIVAL_DELAY</th>\n",
       "      <th>DIVERTED</th>\n",
       "      <th>CANCELLED</th>\n",
       "      <th>CANCELLATION_REASON</th>\n",
       "      <th>AIR_SYSTEM_DELAY</th>\n",
       "      <th>SECURITY_DELAY</th>\n",
       "      <th>AIRLINE_DELAY</th>\n",
       "      <th>LATE_AIRCRAFT_DELAY</th>\n",
       "      <th>WEATHER_DELAY</th>\n",
       "    </tr>\n",
       "  </thead>\n",
       "  <tbody>\n",
       "    <tr>\n",
       "      <th>0</th>\n",
       "      <td>223</td>\n",
       "      <td>1</td>\n",
       "      <td>1</td>\n",
       "      <td>4</td>\n",
       "      <td>AS</td>\n",
       "      <td>98</td>\n",
       "      <td>N407AS</td>\n",
       "      <td>ANC</td>\n",
       "      <td>SEA</td>\n",
       "      <td>5</td>\n",
       "      <td>...</td>\n",
       "      <td>408.0</td>\n",
       "      <td>-22.0</td>\n",
       "      <td>0</td>\n",
       "      <td>0</td>\n",
       "      <td>NaN</td>\n",
       "      <td>NaN</td>\n",
       "      <td>NaN</td>\n",
       "      <td>NaN</td>\n",
       "      <td>NaN</td>\n",
       "      <td>NaN</td>\n",
       "    </tr>\n",
       "    <tr>\n",
       "      <th>1</th>\n",
       "      <td>223</td>\n",
       "      <td>1</td>\n",
       "      <td>1</td>\n",
       "      <td>4</td>\n",
       "      <td>AA</td>\n",
       "      <td>32</td>\n",
       "      <td>N3KUAA</td>\n",
       "      <td>LAX</td>\n",
       "      <td>PBI</td>\n",
       "      <td>10</td>\n",
       "      <td>...</td>\n",
       "      <td>741.0</td>\n",
       "      <td>-9.0</td>\n",
       "      <td>0</td>\n",
       "      <td>0</td>\n",
       "      <td>NaN</td>\n",
       "      <td>NaN</td>\n",
       "      <td>NaN</td>\n",
       "      <td>NaN</td>\n",
       "      <td>NaN</td>\n",
       "      <td>NaN</td>\n",
       "    </tr>\n",
       "    <tr>\n",
       "      <th>2</th>\n",
       "      <td>223</td>\n",
       "      <td>1</td>\n",
       "      <td>1</td>\n",
       "      <td>4</td>\n",
       "      <td>US</td>\n",
       "      <td>72</td>\n",
       "      <td>N171US</td>\n",
       "      <td>SFO</td>\n",
       "      <td>CLT</td>\n",
       "      <td>20</td>\n",
       "      <td>...</td>\n",
       "      <td>811.0</td>\n",
       "      <td>5.0</td>\n",
       "      <td>0</td>\n",
       "      <td>0</td>\n",
       "      <td>NaN</td>\n",
       "      <td>NaN</td>\n",
       "      <td>NaN</td>\n",
       "      <td>NaN</td>\n",
       "      <td>NaN</td>\n",
       "      <td>NaN</td>\n",
       "    </tr>\n",
       "    <tr>\n",
       "      <th>3</th>\n",
       "      <td>223</td>\n",
       "      <td>1</td>\n",
       "      <td>1</td>\n",
       "      <td>4</td>\n",
       "      <td>AA</td>\n",
       "      <td>2</td>\n",
       "      <td>N3HYAA</td>\n",
       "      <td>LAX</td>\n",
       "      <td>MIA</td>\n",
       "      <td>20</td>\n",
       "      <td>...</td>\n",
       "      <td>756.0</td>\n",
       "      <td>-9.0</td>\n",
       "      <td>0</td>\n",
       "      <td>0</td>\n",
       "      <td>NaN</td>\n",
       "      <td>NaN</td>\n",
       "      <td>NaN</td>\n",
       "      <td>NaN</td>\n",
       "      <td>NaN</td>\n",
       "      <td>NaN</td>\n",
       "    </tr>\n",
       "    <tr>\n",
       "      <th>4</th>\n",
       "      <td>223</td>\n",
       "      <td>1</td>\n",
       "      <td>1</td>\n",
       "      <td>4</td>\n",
       "      <td>AS</td>\n",
       "      <td>135</td>\n",
       "      <td>N527AS</td>\n",
       "      <td>SEA</td>\n",
       "      <td>ANC</td>\n",
       "      <td>25</td>\n",
       "      <td>...</td>\n",
       "      <td>259.0</td>\n",
       "      <td>-21.0</td>\n",
       "      <td>0</td>\n",
       "      <td>0</td>\n",
       "      <td>NaN</td>\n",
       "      <td>NaN</td>\n",
       "      <td>NaN</td>\n",
       "      <td>NaN</td>\n",
       "      <td>NaN</td>\n",
       "      <td>NaN</td>\n",
       "    </tr>\n",
       "  </tbody>\n",
       "</table>\n",
       "<p>5 rows × 31 columns</p>\n",
       "</div>"
      ],
      "text/plain": [
       "   YEAR  MONTH  DAY  DAY_OF_WEEK AIRLINE  FLIGHT_NUMBER TAIL_NUMBER  \\\n",
       "0   223      1    1            4      AS             98      N407AS   \n",
       "1   223      1    1            4      AA             32      N3KUAA   \n",
       "2   223      1    1            4      US             72      N171US   \n",
       "3   223      1    1            4      AA              2      N3HYAA   \n",
       "4   223      1    1            4      AS            135      N527AS   \n",
       "\n",
       "  ORIGIN_AIRPORT DESTINATION_AIRPORT  SCHEDULED_DEPARTURE  ...  ARRIVAL_TIME  \\\n",
       "0            ANC                 SEA                    5  ...         408.0   \n",
       "1            LAX                 PBI                   10  ...         741.0   \n",
       "2            SFO                 CLT                   20  ...         811.0   \n",
       "3            LAX                 MIA                   20  ...         756.0   \n",
       "4            SEA                 ANC                   25  ...         259.0   \n",
       "\n",
       "   ARRIVAL_DELAY  DIVERTED  CANCELLED  CANCELLATION_REASON  AIR_SYSTEM_DELAY  \\\n",
       "0          -22.0         0          0                  NaN               NaN   \n",
       "1           -9.0         0          0                  NaN               NaN   \n",
       "2            5.0         0          0                  NaN               NaN   \n",
       "3           -9.0         0          0                  NaN               NaN   \n",
       "4          -21.0         0          0                  NaN               NaN   \n",
       "\n",
       "   SECURITY_DELAY  AIRLINE_DELAY  LATE_AIRCRAFT_DELAY  WEATHER_DELAY  \n",
       "0             NaN            NaN                  NaN            NaN  \n",
       "1             NaN            NaN                  NaN            NaN  \n",
       "2             NaN            NaN                  NaN            NaN  \n",
       "3             NaN            NaN                  NaN            NaN  \n",
       "4             NaN            NaN                  NaN            NaN  \n",
       "\n",
       "[5 rows x 31 columns]"
      ]
     },
     "execution_count": 16,
     "metadata": {},
     "output_type": "execute_result"
    }
   ],
   "source": [
    "fl_pd.head()"
   ]
  },
  {
   "cell_type": "code",
   "execution_count": 17,
   "id": "afcd7ecd",
   "metadata": {
    "scrolled": false
   },
   "outputs": [
    {
     "data": {
      "text/html": [
       "<div>\n",
       "<style scoped>\n",
       "    .dataframe tbody tr th:only-of-type {\n",
       "        vertical-align: middle;\n",
       "    }\n",
       "\n",
       "    .dataframe tbody tr th {\n",
       "        vertical-align: top;\n",
       "    }\n",
       "\n",
       "    .dataframe thead th {\n",
       "        text-align: right;\n",
       "    }\n",
       "</style>\n",
       "<table border=\"1\" class=\"dataframe\">\n",
       "  <thead>\n",
       "    <tr style=\"text-align: right;\">\n",
       "      <th></th>\n",
       "      <th>YEAR</th>\n",
       "      <th>MONTH</th>\n",
       "      <th>DAY</th>\n",
       "      <th>DAY_OF_WEEK</th>\n",
       "      <th>AIRLINE</th>\n",
       "      <th>FLIGHT_NUMBER</th>\n",
       "      <th>TAIL_NUMBER</th>\n",
       "      <th>ORIGIN_AIRPORT</th>\n",
       "      <th>DESTINATION_AIRPORT</th>\n",
       "      <th>SCHEDULED_DEPARTURE</th>\n",
       "      <th>...</th>\n",
       "      <th>ARRIVAL_TIME</th>\n",
       "      <th>ARRIVAL_DELAY</th>\n",
       "      <th>DIVERTED</th>\n",
       "      <th>CANCELLED</th>\n",
       "      <th>CANCELLATION_REASON</th>\n",
       "      <th>AIR_SYSTEM_DELAY</th>\n",
       "      <th>SECURITY_DELAY</th>\n",
       "      <th>AIRLINE_DELAY</th>\n",
       "      <th>LATE_AIRCRAFT_DELAY</th>\n",
       "      <th>WEATHER_DELAY</th>\n",
       "    </tr>\n",
       "  </thead>\n",
       "  <tbody>\n",
       "    <tr>\n",
       "      <th>5743017</th>\n",
       "      <td>223</td>\n",
       "      <td>12</td>\n",
       "      <td>27</td>\n",
       "      <td>7</td>\n",
       "      <td>EV</td>\n",
       "      <td>219</td>\n",
       "      <td>N15986</td>\n",
       "      <td>ORD</td>\n",
       "      <td>RDU</td>\n",
       "      <td>223</td>\n",
       "      <td>...</td>\n",
       "      <td>1031.0</td>\n",
       "      <td>-4.0</td>\n",
       "      <td>0</td>\n",
       "      <td>0</td>\n",
       "      <td>NaN</td>\n",
       "      <td>NaN</td>\n",
       "      <td>NaN</td>\n",
       "      <td>NaN</td>\n",
       "      <td>NaN</td>\n",
       "      <td>NaN</td>\n",
       "    </tr>\n",
       "    <tr>\n",
       "      <th>226109</th>\n",
       "      <td>223</td>\n",
       "      <td>1</td>\n",
       "      <td>15</td>\n",
       "      <td>4</td>\n",
       "      <td>OO</td>\n",
       "      <td>12</td>\n",
       "      <td>N105SY</td>\n",
       "      <td>SAT</td>\n",
       "      <td>SFO</td>\n",
       "      <td>14</td>\n",
       "      <td>...</td>\n",
       "      <td>1740.0</td>\n",
       "      <td>-12.0</td>\n",
       "      <td>0</td>\n",
       "      <td>0</td>\n",
       "      <td>NaN</td>\n",
       "      <td>NaN</td>\n",
       "      <td>NaN</td>\n",
       "      <td>NaN</td>\n",
       "      <td>NaN</td>\n",
       "      <td>NaN</td>\n",
       "    </tr>\n",
       "    <tr>\n",
       "      <th>2386753</th>\n",
       "      <td>223</td>\n",
       "      <td>6</td>\n",
       "      <td>1</td>\n",
       "      <td>1</td>\n",
       "      <td>HA</td>\n",
       "      <td>101</td>\n",
       "      <td>N483HA</td>\n",
       "      <td>ITO</td>\n",
       "      <td>HNL</td>\n",
       "      <td>109</td>\n",
       "      <td>...</td>\n",
       "      <td>703.0</td>\n",
       "      <td>-7.0</td>\n",
       "      <td>0</td>\n",
       "      <td>0</td>\n",
       "      <td>NaN</td>\n",
       "      <td>NaN</td>\n",
       "      <td>NaN</td>\n",
       "      <td>NaN</td>\n",
       "      <td>NaN</td>\n",
       "      <td>NaN</td>\n",
       "    </tr>\n",
       "  </tbody>\n",
       "</table>\n",
       "<p>3 rows × 31 columns</p>\n",
       "</div>"
      ],
      "text/plain": [
       "         YEAR  MONTH  DAY  DAY_OF_WEEK AIRLINE  FLIGHT_NUMBER TAIL_NUMBER  \\\n",
       "5743017   223     12   27            7      EV            219      N15986   \n",
       "226109    223      1   15            4      OO             12      N105SY   \n",
       "2386753   223      6    1            1      HA            101      N483HA   \n",
       "\n",
       "        ORIGIN_AIRPORT DESTINATION_AIRPORT  SCHEDULED_DEPARTURE  ...  \\\n",
       "5743017            ORD                 RDU                  223  ...   \n",
       "226109             SAT                 SFO                   14  ...   \n",
       "2386753            ITO                 HNL                  109  ...   \n",
       "\n",
       "         ARRIVAL_TIME  ARRIVAL_DELAY  DIVERTED  CANCELLED  \\\n",
       "5743017        1031.0           -4.0         0          0   \n",
       "226109         1740.0          -12.0         0          0   \n",
       "2386753         703.0           -7.0         0          0   \n",
       "\n",
       "         CANCELLATION_REASON  AIR_SYSTEM_DELAY  SECURITY_DELAY  AIRLINE_DELAY  \\\n",
       "5743017                  NaN               NaN             NaN            NaN   \n",
       "226109                   NaN               NaN             NaN            NaN   \n",
       "2386753                  NaN               NaN             NaN            NaN   \n",
       "\n",
       "         LATE_AIRCRAFT_DELAY  WEATHER_DELAY  \n",
       "5743017                  NaN            NaN  \n",
       "226109                   NaN            NaN  \n",
       "2386753                  NaN            NaN  \n",
       "\n",
       "[3 rows x 31 columns]"
      ]
     },
     "execution_count": 17,
     "metadata": {},
     "output_type": "execute_result"
    }
   ],
   "source": [
    "fl_pd.sample(3)"
   ]
  },
  {
   "cell_type": "code",
   "execution_count": 18,
   "id": "0b5a24ed",
   "metadata": {},
   "outputs": [
    {
     "data": {
      "text/plain": [
       "['ORD', 'SEA', 'MCI', 'MAF', 'ATL', ..., 'DEN', 'SWF', '12954', 'HNL', 'RNO']\n",
       "Length: 38\n",
       "Categories (628, object): ['10135', '10136', '10140', '10141', ..., 'WYS', 'XNA', 'YAK', 'YUM']"
      ]
     },
     "execution_count": 18,
     "metadata": {},
     "output_type": "execute_result"
    }
   ],
   "source": [
    "fl_pd['ORIGIN_AIRPORT'].sample(60).unique()"
   ]
  },
  {
   "cell_type": "code",
   "execution_count": 19,
   "id": "6a9f5d0c",
   "metadata": {},
   "outputs": [
    {
     "data": {
      "text/plain": [
       "(5819079, 31)"
      ]
     },
     "execution_count": 19,
     "metadata": {},
     "output_type": "execute_result"
    }
   ],
   "source": [
    "fl_pd.shape"
   ]
  },
  {
   "cell_type": "code",
   "execution_count": 14,
   "id": "f9d09fd8",
   "metadata": {},
   "outputs": [
    {
     "data": {
      "text/plain": [
       "(5732926, 31)"
      ]
     },
     "execution_count": 14,
     "metadata": {},
     "output_type": "execute_result"
    }
   ],
   "source": [
    "fl_pd[(fl_pd['DEPARTURE_DELAY'].notna())].shape"
   ]
  },
  {
   "cell_type": "code",
   "execution_count": 20,
   "id": "bdf9a293",
   "metadata": {},
   "outputs": [
    {
     "data": {
      "text/plain": [
       "(89884, 31)"
      ]
     },
     "execution_count": 20,
     "metadata": {},
     "output_type": "execute_result"
    }
   ],
   "source": [
    "fl_pd[fl_pd['CANCELLED']==1].shape"
   ]
  },
  {
   "cell_type": "code",
   "execution_count": 21,
   "id": "22c5cfc5",
   "metadata": {},
   "outputs": [
    {
     "data": {
      "text/plain": [
       "count    86153.0\n",
       "mean         1.0\n",
       "std          0.0\n",
       "min          1.0\n",
       "25%          1.0\n",
       "50%          1.0\n",
       "75%          1.0\n",
       "max          1.0\n",
       "Name: CANCELLED, dtype: float64"
      ]
     },
     "execution_count": 21,
     "metadata": {},
     "output_type": "execute_result"
    }
   ],
   "source": [
    "fl_pd[(fl_pd['DEPARTURE_DELAY'].isna())].CANCELLED.describe()"
   ]
  },
  {
   "cell_type": "code",
   "execution_count": 22,
   "id": "5cbe0c2f",
   "metadata": {},
   "outputs": [
    {
     "data": {
      "text/html": [
       "<div>\n",
       "<style scoped>\n",
       "    .dataframe tbody tr th:only-of-type {\n",
       "        vertical-align: middle;\n",
       "    }\n",
       "\n",
       "    .dataframe tbody tr th {\n",
       "        vertical-align: top;\n",
       "    }\n",
       "\n",
       "    .dataframe thead th {\n",
       "        text-align: right;\n",
       "    }\n",
       "</style>\n",
       "<table border=\"1\" class=\"dataframe\">\n",
       "  <thead>\n",
       "    <tr style=\"text-align: right;\">\n",
       "      <th></th>\n",
       "      <th>IATA_CODE</th>\n",
       "      <th>AIRPORT</th>\n",
       "      <th>CITY</th>\n",
       "      <th>STATE</th>\n",
       "      <th>COUNTRY</th>\n",
       "      <th>LATITUDE</th>\n",
       "      <th>LONGITUDE</th>\n",
       "    </tr>\n",
       "  </thead>\n",
       "  <tbody>\n",
       "    <tr>\n",
       "      <th>141</th>\n",
       "      <td>HNL</td>\n",
       "      <td>Honolulu International Airport</td>\n",
       "      <td>Honolulu</td>\n",
       "      <td>HI</td>\n",
       "      <td>USA</td>\n",
       "      <td>21.31869</td>\n",
       "      <td>-157.92241</td>\n",
       "    </tr>\n",
       "    <tr>\n",
       "      <th>162</th>\n",
       "      <td>ITO</td>\n",
       "      <td>Hilo International Airport</td>\n",
       "      <td>Hilo</td>\n",
       "      <td>HI</td>\n",
       "      <td>USA</td>\n",
       "      <td>19.72026</td>\n",
       "      <td>-155.04847</td>\n",
       "    </tr>\n",
       "    <tr>\n",
       "      <th>170</th>\n",
       "      <td>KOA</td>\n",
       "      <td>Kona International Airport at Keahole</td>\n",
       "      <td>Kailua/Kona</td>\n",
       "      <td>HI</td>\n",
       "      <td>USA</td>\n",
       "      <td>19.73877</td>\n",
       "      <td>-156.04563</td>\n",
       "    </tr>\n",
       "    <tr>\n",
       "      <th>184</th>\n",
       "      <td>LIH</td>\n",
       "      <td>Lihue Airport</td>\n",
       "      <td>Lihue</td>\n",
       "      <td>HI</td>\n",
       "      <td>USA</td>\n",
       "      <td>21.97598</td>\n",
       "      <td>-159.33896</td>\n",
       "    </tr>\n",
       "    <tr>\n",
       "      <th>223</th>\n",
       "      <td>OGG</td>\n",
       "      <td>Kahului Airport</td>\n",
       "      <td>Kahului</td>\n",
       "      <td>HI</td>\n",
       "      <td>USA</td>\n",
       "      <td>20.89865</td>\n",
       "      <td>-156.43046</td>\n",
       "    </tr>\n",
       "  </tbody>\n",
       "</table>\n",
       "</div>"
      ],
      "text/plain": [
       "    IATA_CODE                                AIRPORT         CITY STATE  \\\n",
       "141       HNL         Honolulu International Airport     Honolulu    HI   \n",
       "162       ITO             Hilo International Airport         Hilo    HI   \n",
       "170       KOA  Kona International Airport at Keahole  Kailua/Kona    HI   \n",
       "184       LIH                          Lihue Airport        Lihue    HI   \n",
       "223       OGG                        Kahului Airport      Kahului    HI   \n",
       "\n",
       "    COUNTRY  LATITUDE  LONGITUDE  \n",
       "141     USA  21.31869 -157.92241  \n",
       "162     USA  19.72026 -155.04847  \n",
       "170     USA  19.73877 -156.04563  \n",
       "184     USA  21.97598 -159.33896  \n",
       "223     USA  20.89865 -156.43046  "
      ]
     },
     "execution_count": 22,
     "metadata": {},
     "output_type": "execute_result"
    }
   ],
   "source": [
    "ap_pd[ap_pd['STATE']=='HI']"
   ]
  },
  {
   "cell_type": "code",
   "execution_count": null,
   "id": "7fcc3f4e",
   "metadata": {},
   "outputs": [],
   "source": [
    "# города где больше одного аэропорта\n",
    "ap_pd.groupby(['CITY']).agg('count')[ap_pd.groupby(['CITY']).agg('count')['AIRPORT']!=1]"
   ]
  },
  {
   "cell_type": "code",
   "execution_count": null,
   "id": "c1754141",
   "metadata": {},
   "outputs": [],
   "source": [
    "# самые крайние по широте и долготе аэропорты в базе\n",
    "ap_pd[(ap_pd['LONGITUDE'] == ap_pd['LONGITUDE'].min())|\n",
    "      (ap_pd['LONGITUDE'] == ap_pd['LONGITUDE'].max())|\n",
    "      (ap_pd['LATITUDE'] == ap_pd['LATITUDE'].min())|\n",
    "      (ap_pd['LATITUDE'] == ap_pd['LATITUDE'].max())]"
   ]
  },
  {
   "cell_type": "code",
   "execution_count": 11,
   "id": "2eb24f4c",
   "metadata": {
    "scrolled": true
   },
   "outputs": [
    {
     "data": {
      "text/html": [
       "<div>\n",
       "<style scoped>\n",
       "    .dataframe tbody tr th:only-of-type {\n",
       "        vertical-align: middle;\n",
       "    }\n",
       "\n",
       "    .dataframe tbody tr th {\n",
       "        vertical-align: top;\n",
       "    }\n",
       "\n",
       "    .dataframe thead th {\n",
       "        text-align: right;\n",
       "    }\n",
       "</style>\n",
       "<table border=\"1\" class=\"dataframe\">\n",
       "  <thead>\n",
       "    <tr style=\"text-align: right;\">\n",
       "      <th></th>\n",
       "      <th>IATA_CODE</th>\n",
       "      <th>AIRPORT</th>\n",
       "      <th>CITY</th>\n",
       "      <th>STATE</th>\n",
       "      <th>COUNTRY</th>\n",
       "      <th>LATITUDE</th>\n",
       "      <th>LONGITUDE</th>\n",
       "    </tr>\n",
       "  </thead>\n",
       "  <tbody>\n",
       "    <tr>\n",
       "      <th>17</th>\n",
       "      <td>ANC</td>\n",
       "      <td>Ted Stevens Anchorage International Airport</td>\n",
       "      <td>Anchorage</td>\n",
       "      <td>AK</td>\n",
       "      <td>USA</td>\n",
       "      <td>61.17432</td>\n",
       "      <td>-149.99619</td>\n",
       "    </tr>\n",
       "    <tr>\n",
       "      <th>277</th>\n",
       "      <td>SEA</td>\n",
       "      <td>Seattle-Tacoma International Airport</td>\n",
       "      <td>Seattle</td>\n",
       "      <td>WA</td>\n",
       "      <td>USA</td>\n",
       "      <td>47.44898</td>\n",
       "      <td>-122.30931</td>\n",
       "    </tr>\n",
       "  </tbody>\n",
       "</table>\n",
       "</div>"
      ],
      "text/plain": [
       "    IATA_CODE                                      AIRPORT       CITY STATE  \\\n",
       "17        ANC  Ted Stevens Anchorage International Airport  Anchorage    AK   \n",
       "277       SEA         Seattle-Tacoma International Airport    Seattle    WA   \n",
       "\n",
       "    COUNTRY  LATITUDE  LONGITUDE  \n",
       "17      USA  61.17432 -149.99619  \n",
       "277     USA  47.44898 -122.30931  "
      ]
     },
     "execution_count": 11,
     "metadata": {},
     "output_type": "execute_result"
    }
   ],
   "source": [
    "ap_pd[(ap_pd['IATA_CODE'] == 'ANC')|(ap_pd['IATA_CODE'] == 'SEA')]\n",
    "# ap_pd.head()"
   ]
  },
  {
   "cell_type": "markdown",
   "id": "fadae427",
   "metadata": {},
   "source": [
    "# Исправление кодировки аэропортов за октябрь 2015"
   ]
  },
  {
   "cell_type": "markdown",
   "id": "fe7f222f",
   "metadata": {},
   "source": [
    "## Наличие кривых кодов"
   ]
  },
  {
   "cell_type": "code",
   "execution_count": 23,
   "id": "d3d6a7f0",
   "metadata": {
    "scrolled": true
   },
   "outputs": [
    {
     "data": {
      "text/plain": [
       "['MCI', 'DAL', 'LAX', 'CLT', 'BTR', ..., 'DAY', '12953', 'BOI', 'RDU', 'SBA']\n",
       "Length: 41\n",
       "Categories (628, object): ['10135', '10136', '10140', '10141', ..., 'WYS', 'XNA', 'YAK', 'YUM']"
      ]
     },
     "execution_count": 23,
     "metadata": {},
     "output_type": "execute_result"
    }
   ],
   "source": [
    "# есть кривые кодировки\n",
    "fl_pd['ORIGIN_AIRPORT'].sample(60).unique()"
   ]
  },
  {
   "cell_type": "code",
   "execution_count": 24,
   "id": "5e7c1e84",
   "metadata": {},
   "outputs": [
    {
     "data": {
      "text/plain": [
       "['13930', '11433', '14730', '10397', '12264', '12892', '12191']\n",
       "Categories (628, object): ['10135', '10136', '10140', '10141', ..., 'WYS', 'XNA', 'YAK', 'YUM']"
      ]
     },
     "execution_count": 24,
     "metadata": {},
     "output_type": "execute_result"
    }
   ],
   "source": [
    "# вывод неслькольких только \"плохих\" кодов\n",
    "fl_pd[~fl_pd['ORIGIN_AIRPORT'].str.contains('^[A-Z][A-Z][A-Z]$', regex=True, na=False)].ORIGIN_AIRPORT.sample(10).unique()"
   ]
  },
  {
   "cell_type": "code",
   "execution_count": 25,
   "id": "2587f4dd",
   "metadata": {},
   "outputs": [
    {
     "data": {
      "text/plain": [
       "306"
      ]
     },
     "execution_count": 25,
     "metadata": {},
     "output_type": "execute_result"
    }
   ],
   "source": [
    "# вывод неслькольких только \"плохих\" кодов\n",
    "fl_pd[~fl_pd['ORIGIN_AIRPORT'].str.contains('^[A-Z][A-Z][A-Z]$', regex=True, na=False)].ORIGIN_AIRPORT.nunique()"
   ]
  },
  {
   "cell_type": "markdown",
   "id": "532a5f23",
   "metadata": {},
   "source": [
    "## Импортируем таблицу соответствия кодов"
   ]
  },
  {
   "cell_type": "markdown",
   "id": "c011a4dc",
   "metadata": {},
   "source": [
    "Два файла ниже взяты от сюда\n",
    "\n",
    "5-digit codes: https://www.transtats.bts.gov/FieldInfo.asp?Field_Desc=Origin%20Airport%2C%20Airport%20ID.%20An%20identification%20number%20assigned%20by%20US%20DOT%20to%20identify%20a%20unique%20airport.%20%20Use%20this%20field%20for%20airport%20analysis%20across%20a%20range%20of%20years%20because%20an%20airport%20can%20change%20its%20airport%20code%20and%20airport%20codes%20can%20be%20reused.&Field_Type=Num&Lookup_Table=L_AIRPORT_ID&Table_ID=236&SYS_Table_Name=T_ONTIME&Sys_Field_Name=ORIGIN_AIRPORT_ID\n",
    "3-letter codes: https://www.transtats.bts.gov/FieldInfo.asp?Field_Desc=Origin%20Airport&Field_Type=Char&Lookup_Table=L_AIRPORT&Table_ID=236&SYS_Table_Name=T_ONTIME&Sys_Field_Name=ORIGIN"
   ]
  },
  {
   "cell_type": "code",
   "execution_count": 27,
   "id": "66841f13",
   "metadata": {},
   "outputs": [],
   "source": [
    "d5_ap_df = pd.read_csv('L_AIRPORT_ID.csv')\n",
    "c3_ap_df = pd.read_csv('L_AIRPORT.csv')"
   ]
  },
  {
   "cell_type": "code",
   "execution_count": 28,
   "id": "e02016d7",
   "metadata": {},
   "outputs": [
    {
     "data": {
      "text/plain": [
       "6395"
      ]
     },
     "execution_count": 28,
     "metadata": {},
     "output_type": "execute_result"
    }
   ],
   "source": [
    "d5_ap_df.shape\n",
    "d5_ap_df['Description'].nunique()"
   ]
  },
  {
   "cell_type": "code",
   "execution_count": 29,
   "id": "7be23afa",
   "metadata": {
    "scrolled": true
   },
   "outputs": [
    {
     "data": {
      "text/plain": [
       "6387"
      ]
     },
     "execution_count": 29,
     "metadata": {},
     "output_type": "execute_result"
    }
   ],
   "source": [
    "c3_ap_df.shape\n",
    "c3_ap_df['Description'].nunique()"
   ]
  },
  {
   "cell_type": "code",
   "execution_count": 30,
   "id": "9ae06e14",
   "metadata": {},
   "outputs": [
    {
     "data": {
      "text/plain": [
       "(322, 9)"
      ]
     },
     "execution_count": 30,
     "metadata": {},
     "output_type": "execute_result"
    }
   ],
   "source": [
    "# Подтягиваем описания для аэропортов США из файла L_AIRPORT.csv\n",
    "descr_ap_df = ap_pd.merge(c3_ap_df, how = 'inner', left_on = 'IATA_CODE', right_on='Code')\n",
    "descr_ap_df.shape"
   ]
  },
  {
   "cell_type": "code",
   "execution_count": 31,
   "id": "09a7ddb7",
   "metadata": {},
   "outputs": [
    {
     "data": {
      "text/html": [
       "<div>\n",
       "<style scoped>\n",
       "    .dataframe tbody tr th:only-of-type {\n",
       "        vertical-align: middle;\n",
       "    }\n",
       "\n",
       "    .dataframe tbody tr th {\n",
       "        vertical-align: top;\n",
       "    }\n",
       "\n",
       "    .dataframe thead th {\n",
       "        text-align: right;\n",
       "    }\n",
       "</style>\n",
       "<table border=\"1\" class=\"dataframe\">\n",
       "  <thead>\n",
       "    <tr style=\"text-align: right;\">\n",
       "      <th></th>\n",
       "      <th>IATA_CODE</th>\n",
       "      <th>Code_y</th>\n",
       "      <th>Code_s</th>\n",
       "    </tr>\n",
       "  </thead>\n",
       "  <tbody>\n",
       "    <tr>\n",
       "      <th>0</th>\n",
       "      <td>ABE</td>\n",
       "      <td>10135</td>\n",
       "      <td>10135</td>\n",
       "    </tr>\n",
       "    <tr>\n",
       "      <th>1</th>\n",
       "      <td>ABI</td>\n",
       "      <td>10136</td>\n",
       "      <td>10136</td>\n",
       "    </tr>\n",
       "    <tr>\n",
       "      <th>2</th>\n",
       "      <td>ABQ</td>\n",
       "      <td>10140</td>\n",
       "      <td>10140</td>\n",
       "    </tr>\n",
       "    <tr>\n",
       "      <th>3</th>\n",
       "      <td>ABR</td>\n",
       "      <td>10141</td>\n",
       "      <td>10141</td>\n",
       "    </tr>\n",
       "    <tr>\n",
       "      <th>4</th>\n",
       "      <td>ABY</td>\n",
       "      <td>10146</td>\n",
       "      <td>10146</td>\n",
       "    </tr>\n",
       "  </tbody>\n",
       "</table>\n",
       "</div>"
      ],
      "text/plain": [
       "  IATA_CODE  Code_y Code_s\n",
       "0       ABE   10135  10135\n",
       "1       ABI   10136  10136\n",
       "2       ABQ   10140  10140\n",
       "3       ABR   10141  10141\n",
       "4       ABY   10146  10146"
      ]
     },
     "execution_count": 31,
     "metadata": {},
     "output_type": "execute_result"
    }
   ],
   "source": [
    "# Подтягиваем коды по полю Description из файла L_AIRPORT_ID.csv\n",
    "cod_ap_df = descr_ap_df.merge(d5_ap_df, how = 'inner', on = 'Description')\n",
    "cod_ap_df = cod_ap_df.drop(['AIRPORT','CITY','STATE','COUNTRY','LATITUDE','LONGITUDE','Description','Code_x'],axis = 1)\n",
    "cod_ap_df['Code_s'] = cod_ap_df['Code_y'].apply(lambda x: str(x))\n",
    "cod_ap_df.head()"
   ]
  },
  {
   "cell_type": "code",
   "execution_count": 32,
   "id": "aa84be73",
   "metadata": {},
   "outputs": [
    {
     "data": {
      "text/html": [
       "<div>\n",
       "<style scoped>\n",
       "    .dataframe tbody tr th:only-of-type {\n",
       "        vertical-align: middle;\n",
       "    }\n",
       "\n",
       "    .dataframe tbody tr th {\n",
       "        vertical-align: top;\n",
       "    }\n",
       "\n",
       "    .dataframe thead th {\n",
       "        text-align: right;\n",
       "    }\n",
       "</style>\n",
       "<table border=\"1\" class=\"dataframe\">\n",
       "  <thead>\n",
       "    <tr style=\"text-align: right;\">\n",
       "      <th></th>\n",
       "      <th>IATA_CODE</th>\n",
       "      <th>Code_y</th>\n",
       "      <th>Code_s</th>\n",
       "    </tr>\n",
       "  </thead>\n",
       "  <tbody>\n",
       "    <tr>\n",
       "      <th>277</th>\n",
       "      <td>SEA</td>\n",
       "      <td>14747</td>\n",
       "      <td>14747</td>\n",
       "    </tr>\n",
       "  </tbody>\n",
       "</table>\n",
       "</div>"
      ],
      "text/plain": [
       "    IATA_CODE  Code_y Code_s\n",
       "277       SEA   14747  14747"
      ]
     },
     "execution_count": 32,
     "metadata": {},
     "output_type": "execute_result"
    }
   ],
   "source": [
    "cod_ap_df[(cod_ap_df['Code_y']==14747)]"
   ]
  },
  {
   "cell_type": "code",
   "execution_count": 33,
   "id": "d2f9dc1b",
   "metadata": {
    "scrolled": true
   },
   "outputs": [
    {
     "data": {
      "text/html": [
       "<div>\n",
       "<style scoped>\n",
       "    .dataframe tbody tr th:only-of-type {\n",
       "        vertical-align: middle;\n",
       "    }\n",
       "\n",
       "    .dataframe tbody tr th {\n",
       "        vertical-align: top;\n",
       "    }\n",
       "\n",
       "    .dataframe thead th {\n",
       "        text-align: right;\n",
       "    }\n",
       "</style>\n",
       "<table border=\"1\" class=\"dataframe\">\n",
       "  <thead>\n",
       "    <tr style=\"text-align: right;\">\n",
       "      <th></th>\n",
       "      <th>IATA_CODE</th>\n",
       "      <th>Code_y</th>\n",
       "      <th>Code_s</th>\n",
       "    </tr>\n",
       "  </thead>\n",
       "  <tbody>\n",
       "    <tr>\n",
       "      <th>321</th>\n",
       "      <td>YUM</td>\n",
       "      <td>13785</td>\n",
       "      <td>13785</td>\n",
       "    </tr>\n",
       "    <tr>\n",
       "      <th>322</th>\n",
       "      <td>YUM</td>\n",
       "      <td>16218</td>\n",
       "      <td>16218</td>\n",
       "    </tr>\n",
       "  </tbody>\n",
       "</table>\n",
       "</div>"
      ],
      "text/plain": [
       "    IATA_CODE  Code_y Code_s\n",
       "321       YUM   13785  13785\n",
       "322       YUM   16218  16218"
      ]
     },
     "execution_count": 33,
     "metadata": {},
     "output_type": "execute_result"
    }
   ],
   "source": [
    "cod_ap_df[(cod_ap_df['IATA_CODE']=='YUM')]"
   ]
  },
  {
   "cell_type": "code",
   "execution_count": null,
   "id": "ab52ef12",
   "metadata": {},
   "outputs": [],
   "source": []
  },
  {
   "cell_type": "code",
   "execution_count": 34,
   "id": "50230e8f",
   "metadata": {},
   "outputs": [
    {
     "data": {
      "text/html": [
       "<div>\n",
       "<style scoped>\n",
       "    .dataframe tbody tr th:only-of-type {\n",
       "        vertical-align: middle;\n",
       "    }\n",
       "\n",
       "    .dataframe tbody tr th {\n",
       "        vertical-align: top;\n",
       "    }\n",
       "\n",
       "    .dataframe thead th {\n",
       "        text-align: right;\n",
       "    }\n",
       "</style>\n",
       "<table border=\"1\" class=\"dataframe\">\n",
       "  <thead>\n",
       "    <tr style=\"text-align: right;\">\n",
       "      <th></th>\n",
       "      <th>YEAR</th>\n",
       "      <th>MONTH</th>\n",
       "      <th>DAY</th>\n",
       "      <th>DAY_OF_WEEK</th>\n",
       "      <th>AIRLINE</th>\n",
       "      <th>FLIGHT_NUMBER</th>\n",
       "      <th>TAIL_NUMBER</th>\n",
       "      <th>ORIGIN_AIRPORT</th>\n",
       "      <th>DESTINATION_AIRPORT</th>\n",
       "      <th>SCHEDULED_DEPARTURE</th>\n",
       "      <th>...</th>\n",
       "      <th>ARRIVAL_TIME</th>\n",
       "      <th>ARRIVAL_DELAY</th>\n",
       "      <th>DIVERTED</th>\n",
       "      <th>CANCELLED</th>\n",
       "      <th>CANCELLATION_REASON</th>\n",
       "      <th>AIR_SYSTEM_DELAY</th>\n",
       "      <th>SECURITY_DELAY</th>\n",
       "      <th>AIRLINE_DELAY</th>\n",
       "      <th>LATE_AIRCRAFT_DELAY</th>\n",
       "      <th>WEATHER_DELAY</th>\n",
       "    </tr>\n",
       "  </thead>\n",
       "  <tbody>\n",
       "  </tbody>\n",
       "</table>\n",
       "<p>0 rows × 31 columns</p>\n",
       "</div>"
      ],
      "text/plain": [
       "Empty DataFrame\n",
       "Columns: [YEAR, MONTH, DAY, DAY_OF_WEEK, AIRLINE, FLIGHT_NUMBER, TAIL_NUMBER, ORIGIN_AIRPORT, DESTINATION_AIRPORT, SCHEDULED_DEPARTURE, DEPARTURE_TIME, DEPARTURE_DELAY, TAXI_OUT, WHEELS_OFF, SCHEDULED_TIME, ELAPSED_TIME, AIR_TIME, DISTANCE, WHEELS_ON, TAXI_IN, SCHEDULED_ARRIVAL, ARRIVAL_TIME, ARRIVAL_DELAY, DIVERTED, CANCELLED, CANCELLATION_REASON, AIR_SYSTEM_DELAY, SECURITY_DELAY, AIRLINE_DELAY, LATE_AIRCRAFT_DELAY, WEATHER_DELAY]\n",
       "Index: []\n",
       "\n",
       "[0 rows x 31 columns]"
      ]
     },
     "execution_count": 34,
     "metadata": {},
     "output_type": "execute_result"
    }
   ],
   "source": [
    "filter_list = [13785]\n",
    "fl_pd[(fl_pd['ORIGIN_AIRPORT'].isin(filter_list))|(fl_pd['DESTINATION_AIRPORT'].isin(filter_list))]"
   ]
  },
  {
   "cell_type": "markdown",
   "id": "2cbdcf2a",
   "metadata": {},
   "source": [
    "## Исправляем аэропорт вылета"
   ]
  },
  {
   "cell_type": "code",
   "execution_count": 35,
   "id": "125f7ab0",
   "metadata": {},
   "outputs": [
    {
     "data": {
      "text/plain": [
       "(5819079, 31)"
      ]
     },
     "execution_count": 35,
     "metadata": {},
     "output_type": "execute_result"
    }
   ],
   "source": [
    "# преобразуем все в значения в поле ORIGIN_AIRPORT в строку т.к. есть integer\n",
    "fl_pd['ORIGIN_AIRPORT_s'] = fl_pd['ORIGIN_AIRPORT'].apply(lambda x: str(x))\n",
    "# делаем левый join по ID аэропорта\n",
    "flO_df = fl_pd.merge(cod_ap_df, how = 'left', left_on = 'ORIGIN_AIRPORT_s', right_on = 'Code_s')\n",
    "# заполняем пустоты значениями из поля ORIGIN_AIRPORT\n",
    "flO_df['ORIGIN_AIRPORT_'] = flO_df['IATA_CODE'].fillna(flO_df['ORIGIN_AIRPORT_s'])\n",
    "flO_df = flO_df.drop(['ORIGIN_AIRPORT','ORIGIN_AIRPORT_s','Code_y','Code_s','IATA_CODE'],axis=1)\n",
    "flO_df.shape"
   ]
  },
  {
   "cell_type": "code",
   "execution_count": 36,
   "id": "7e6de6c3",
   "metadata": {},
   "outputs": [
    {
     "data": {
      "text/plain": [
       "322"
      ]
     },
     "execution_count": 36,
     "metadata": {},
     "output_type": "execute_result"
    }
   ],
   "source": [
    "flO_df['ORIGIN_AIRPORT_'].nunique()"
   ]
  },
  {
   "cell_type": "code",
   "execution_count": 37,
   "id": "d73be22e",
   "metadata": {},
   "outputs": [
    {
     "data": {
      "text/plain": [
       "Index(['YEAR', 'MONTH', 'DAY', 'DAY_OF_WEEK', 'AIRLINE', 'FLIGHT_NUMBER',\n",
       "       'TAIL_NUMBER', 'DESTINATION_AIRPORT', 'SCHEDULED_DEPARTURE',\n",
       "       'DEPARTURE_TIME', 'DEPARTURE_DELAY', 'TAXI_OUT', 'WHEELS_OFF',\n",
       "       'SCHEDULED_TIME', 'ELAPSED_TIME', 'AIR_TIME', 'DISTANCE', 'WHEELS_ON',\n",
       "       'TAXI_IN', 'SCHEDULED_ARRIVAL', 'ARRIVAL_TIME', 'ARRIVAL_DELAY',\n",
       "       'DIVERTED', 'CANCELLED', 'CANCELLATION_REASON', 'AIR_SYSTEM_DELAY',\n",
       "       'SECURITY_DELAY', 'AIRLINE_DELAY', 'LATE_AIRCRAFT_DELAY',\n",
       "       'WEATHER_DELAY', 'ORIGIN_AIRPORT_'],\n",
       "      dtype='object')"
      ]
     },
     "execution_count": 37,
     "metadata": {},
     "output_type": "execute_result"
    }
   ],
   "source": [
    "flO_df.columns"
   ]
  },
  {
   "cell_type": "markdown",
   "id": "73c08bcc",
   "metadata": {},
   "source": [
    "## Исправляем аэропорт прилета"
   ]
  },
  {
   "cell_type": "code",
   "execution_count": 38,
   "id": "35400476",
   "metadata": {},
   "outputs": [
    {
     "data": {
      "text/plain": [
       "(5819079, 31)"
      ]
     },
     "execution_count": 38,
     "metadata": {},
     "output_type": "execute_result"
    }
   ],
   "source": [
    "# преобразуем все в значения в поле DESTINATION_AIRPORT в строку т.к. есть integer\n",
    "flO_df['DESTINATION_AIRPORT_s'] = flO_df['DESTINATION_AIRPORT'].apply(lambda x: str(x))\n",
    "# делаем левый join по ID аэропорта\n",
    "fl_df = flO_df.merge(cod_ap_df, how = 'left', left_on = 'DESTINATION_AIRPORT_s', right_on = 'Code_s')\n",
    "# заполняем пустоты значениями из поля DESTINATION_AIRPORT\n",
    "fl_df['DESTINATION_AIRPORT_'] = fl_df['IATA_CODE'].fillna(fl_df['DESTINATION_AIRPORT_s'])\n",
    "fl_df = fl_df.drop(['DESTINATION_AIRPORT','DESTINATION_AIRPORT_s','Code_y','Code_s','IATA_CODE'],axis=1)\n",
    "fl_df.shape"
   ]
  },
  {
   "cell_type": "code",
   "execution_count": 39,
   "id": "1ea33b1e",
   "metadata": {},
   "outputs": [
    {
     "data": {
      "text/plain": [
       "322"
      ]
     },
     "execution_count": 39,
     "metadata": {},
     "output_type": "execute_result"
    }
   ],
   "source": [
    "fl_df['DESTINATION_AIRPORT_'].nunique()"
   ]
  },
  {
   "cell_type": "code",
   "execution_count": 161,
   "id": "ff8d6b72",
   "metadata": {},
   "outputs": [
    {
     "data": {
      "text/plain": [
       "Index(['YEAR', 'MONTH', 'DAY', 'DAY_OF_WEEK', 'AIRLINE', 'FLIGHT_NUMBER',\n",
       "       'TAIL_NUMBER', 'SCHEDULED_DEPARTURE', 'DEPARTURE_TIME',\n",
       "       'DEPARTURE_DELAY', 'TAXI_OUT', 'WHEELS_OFF', 'SCHEDULED_TIME',\n",
       "       'ELAPSED_TIME', 'AIR_TIME', 'DISTANCE', 'WHEELS_ON', 'TAXI_IN',\n",
       "       'SCHEDULED_ARRIVAL', 'ARRIVAL_TIME', 'ARRIVAL_DELAY', 'DIVERTED',\n",
       "       'CANCELLED', 'CANCELLATION_REASON', 'AIR_SYSTEM_DELAY',\n",
       "       'SECURITY_DELAY', 'AIRLINE_DELAY', 'LATE_AIRCRAFT_DELAY',\n",
       "       'WEATHER_DELAY', 'ORIGIN_AIRPORT_', 'DESTINATION_AIRPORT_'],\n",
       "      dtype='object')"
      ]
     },
     "execution_count": 161,
     "metadata": {},
     "output_type": "execute_result"
    }
   ],
   "source": [
    "fl_df.columns"
   ]
  },
  {
   "cell_type": "markdown",
   "id": "94637fad",
   "metadata": {},
   "source": [
    "## Сохраняем исправления в файл"
   ]
  },
  {
   "cell_type": "code",
   "execution_count": 165,
   "id": "16f1d221",
   "metadata": {},
   "outputs": [],
   "source": [
    "fl_df.to_csv(r'corrected_flights.csv')"
   ]
  },
  {
   "cell_type": "markdown",
   "id": "6d68ceb5",
   "metadata": {},
   "source": [
    "# Задание 1. Найти аэропорт с минимальной задержкой вылета  "
   ]
  },
  {
   "cell_type": "code",
   "execution_count": 40,
   "id": "5675ddbf",
   "metadata": {
    "collapsed": true
   },
   "outputs": [
    {
     "data": {
      "text/html": [
       "<div>\n",
       "<style scoped>\n",
       "    .dataframe tbody tr th:only-of-type {\n",
       "        vertical-align: middle;\n",
       "    }\n",
       "\n",
       "    .dataframe tbody tr th {\n",
       "        vertical-align: top;\n",
       "    }\n",
       "\n",
       "    .dataframe thead th {\n",
       "        text-align: right;\n",
       "    }\n",
       "</style>\n",
       "<table border=\"1\" class=\"dataframe\">\n",
       "  <thead>\n",
       "    <tr style=\"text-align: right;\">\n",
       "      <th></th>\n",
       "      <th>YEAR</th>\n",
       "      <th>MONTH</th>\n",
       "      <th>DAY</th>\n",
       "      <th>DAY_OF_WEEK</th>\n",
       "      <th>AIRLINE</th>\n",
       "      <th>FLIGHT_NUMBER</th>\n",
       "      <th>TAIL_NUMBER</th>\n",
       "      <th>SCHEDULED_DEPARTURE</th>\n",
       "      <th>DEPARTURE_TIME</th>\n",
       "      <th>DEPARTURE_DELAY</th>\n",
       "      <th>...</th>\n",
       "      <th>DIVERTED</th>\n",
       "      <th>CANCELLED</th>\n",
       "      <th>CANCELLATION_REASON</th>\n",
       "      <th>AIR_SYSTEM_DELAY</th>\n",
       "      <th>SECURITY_DELAY</th>\n",
       "      <th>AIRLINE_DELAY</th>\n",
       "      <th>LATE_AIRCRAFT_DELAY</th>\n",
       "      <th>WEATHER_DELAY</th>\n",
       "      <th>ORIGIN_AIRPORT_</th>\n",
       "      <th>DESTINATION_AIRPORT_</th>\n",
       "    </tr>\n",
       "  </thead>\n",
       "  <tbody>\n",
       "    <tr>\n",
       "      <th>4071708</th>\n",
       "      <td>223</td>\n",
       "      <td>9</td>\n",
       "      <td>10</td>\n",
       "      <td>4</td>\n",
       "      <td>AA</td>\n",
       "      <td>36</td>\n",
       "      <td>N3LAAA</td>\n",
       "      <td>58</td>\n",
       "      <td>1852.0</td>\n",
       "      <td>2.0</td>\n",
       "      <td>...</td>\n",
       "      <td>0</td>\n",
       "      <td>0</td>\n",
       "      <td>NaN</td>\n",
       "      <td>NaN</td>\n",
       "      <td>NaN</td>\n",
       "      <td>NaN</td>\n",
       "      <td>NaN</td>\n",
       "      <td>NaN</td>\n",
       "      <td>MIA</td>\n",
       "      <td>LAS</td>\n",
       "    </tr>\n",
       "    <tr>\n",
       "      <th>2938307</th>\n",
       "      <td>223</td>\n",
       "      <td>7</td>\n",
       "      <td>3</td>\n",
       "      <td>5</td>\n",
       "      <td>DL</td>\n",
       "      <td>178</td>\n",
       "      <td>N307DQ</td>\n",
       "      <td>159</td>\n",
       "      <td>2206.0</td>\n",
       "      <td>-1.0</td>\n",
       "      <td>...</td>\n",
       "      <td>0</td>\n",
       "      <td>0</td>\n",
       "      <td>NaN</td>\n",
       "      <td>NaN</td>\n",
       "      <td>NaN</td>\n",
       "      <td>NaN</td>\n",
       "      <td>NaN</td>\n",
       "      <td>NaN</td>\n",
       "      <td>ATL</td>\n",
       "      <td>LEX</td>\n",
       "    </tr>\n",
       "    <tr>\n",
       "      <th>2093688</th>\n",
       "      <td>223</td>\n",
       "      <td>5</td>\n",
       "      <td>13</td>\n",
       "      <td>3</td>\n",
       "      <td>EV</td>\n",
       "      <td>148</td>\n",
       "      <td>N840AS</td>\n",
       "      <td>195</td>\n",
       "      <td>1732.0</td>\n",
       "      <td>1.0</td>\n",
       "      <td>...</td>\n",
       "      <td>0</td>\n",
       "      <td>0</td>\n",
       "      <td>NaN</td>\n",
       "      <td>NaN</td>\n",
       "      <td>NaN</td>\n",
       "      <td>NaN</td>\n",
       "      <td>NaN</td>\n",
       "      <td>NaN</td>\n",
       "      <td>ATL</td>\n",
       "      <td>TYS</td>\n",
       "    </tr>\n",
       "    <tr>\n",
       "      <th>4142953</th>\n",
       "      <td>223</td>\n",
       "      <td>9</td>\n",
       "      <td>15</td>\n",
       "      <td>2</td>\n",
       "      <td>OO</td>\n",
       "      <td>18</td>\n",
       "      <td>N593ML</td>\n",
       "      <td>121</td>\n",
       "      <td>1351.0</td>\n",
       "      <td>-10.0</td>\n",
       "      <td>...</td>\n",
       "      <td>0</td>\n",
       "      <td>0</td>\n",
       "      <td>NaN</td>\n",
       "      <td>NaN</td>\n",
       "      <td>NaN</td>\n",
       "      <td>NaN</td>\n",
       "      <td>NaN</td>\n",
       "      <td>NaN</td>\n",
       "      <td>OTH</td>\n",
       "      <td>SFO</td>\n",
       "    </tr>\n",
       "    <tr>\n",
       "      <th>2529388</th>\n",
       "      <td>223</td>\n",
       "      <td>6</td>\n",
       "      <td>9</td>\n",
       "      <td>2</td>\n",
       "      <td>EV</td>\n",
       "      <td>100</td>\n",
       "      <td>N667GB</td>\n",
       "      <td>245</td>\n",
       "      <td>1523.0</td>\n",
       "      <td>-2.0</td>\n",
       "      <td>...</td>\n",
       "      <td>0</td>\n",
       "      <td>0</td>\n",
       "      <td>NaN</td>\n",
       "      <td>NaN</td>\n",
       "      <td>NaN</td>\n",
       "      <td>NaN</td>\n",
       "      <td>NaN</td>\n",
       "      <td>NaN</td>\n",
       "      <td>DFW</td>\n",
       "      <td>ACT</td>\n",
       "    </tr>\n",
       "    <tr>\n",
       "      <th>3806574</th>\n",
       "      <td>223</td>\n",
       "      <td>8</td>\n",
       "      <td>24</td>\n",
       "      <td>1</td>\n",
       "      <td>NK</td>\n",
       "      <td>164</td>\n",
       "      <td>N629NK</td>\n",
       "      <td>226</td>\n",
       "      <td>2014.0</td>\n",
       "      <td>-4.0</td>\n",
       "      <td>...</td>\n",
       "      <td>0</td>\n",
       "      <td>0</td>\n",
       "      <td>NaN</td>\n",
       "      <td>NaN</td>\n",
       "      <td>NaN</td>\n",
       "      <td>NaN</td>\n",
       "      <td>NaN</td>\n",
       "      <td>NaN</td>\n",
       "      <td>FLL</td>\n",
       "      <td>MCO</td>\n",
       "    </tr>\n",
       "    <tr>\n",
       "      <th>2621712</th>\n",
       "      <td>223</td>\n",
       "      <td>6</td>\n",
       "      <td>15</td>\n",
       "      <td>1</td>\n",
       "      <td>F9</td>\n",
       "      <td>0</td>\n",
       "      <td>N935FR</td>\n",
       "      <td>203</td>\n",
       "      <td>715.0</td>\n",
       "      <td>0.0</td>\n",
       "      <td>...</td>\n",
       "      <td>0</td>\n",
       "      <td>0</td>\n",
       "      <td>NaN</td>\n",
       "      <td>NaN</td>\n",
       "      <td>NaN</td>\n",
       "      <td>NaN</td>\n",
       "      <td>NaN</td>\n",
       "      <td>NaN</td>\n",
       "      <td>ATL</td>\n",
       "      <td>PHL</td>\n",
       "    </tr>\n",
       "    <tr>\n",
       "      <th>2870357</th>\n",
       "      <td>223</td>\n",
       "      <td>6</td>\n",
       "      <td>29</td>\n",
       "      <td>1</td>\n",
       "      <td>MQ</td>\n",
       "      <td>89</td>\n",
       "      <td>N646MQ</td>\n",
       "      <td>136</td>\n",
       "      <td>1948.0</td>\n",
       "      <td>20.0</td>\n",
       "      <td>...</td>\n",
       "      <td>0</td>\n",
       "      <td>0</td>\n",
       "      <td>NaN</td>\n",
       "      <td>0.0</td>\n",
       "      <td>0.0</td>\n",
       "      <td>0.0</td>\n",
       "      <td>17.0</td>\n",
       "      <td>0.0</td>\n",
       "      <td>DSM</td>\n",
       "      <td>ORD</td>\n",
       "    </tr>\n",
       "    <tr>\n",
       "      <th>5516457</th>\n",
       "      <td>223</td>\n",
       "      <td>12</td>\n",
       "      <td>12</td>\n",
       "      <td>6</td>\n",
       "      <td>DL</td>\n",
       "      <td>76</td>\n",
       "      <td>N825DN</td>\n",
       "      <td>106</td>\n",
       "      <td>1128.0</td>\n",
       "      <td>-2.0</td>\n",
       "      <td>...</td>\n",
       "      <td>0</td>\n",
       "      <td>0</td>\n",
       "      <td>NaN</td>\n",
       "      <td>NaN</td>\n",
       "      <td>NaN</td>\n",
       "      <td>NaN</td>\n",
       "      <td>NaN</td>\n",
       "      <td>NaN</td>\n",
       "      <td>SEA</td>\n",
       "      <td>MSP</td>\n",
       "    </tr>\n",
       "    <tr>\n",
       "      <th>2343443</th>\n",
       "      <td>223</td>\n",
       "      <td>5</td>\n",
       "      <td>29</td>\n",
       "      <td>5</td>\n",
       "      <td>AA</td>\n",
       "      <td>98</td>\n",
       "      <td>N861AA</td>\n",
       "      <td>162</td>\n",
       "      <td>1322.0</td>\n",
       "      <td>232.0</td>\n",
       "      <td>...</td>\n",
       "      <td>0</td>\n",
       "      <td>0</td>\n",
       "      <td>NaN</td>\n",
       "      <td>0.0</td>\n",
       "      <td>0.0</td>\n",
       "      <td>0.0</td>\n",
       "      <td>214.0</td>\n",
       "      <td>0.0</td>\n",
       "      <td>DFW</td>\n",
       "      <td>LAX</td>\n",
       "    </tr>\n",
       "    <tr>\n",
       "      <th>5065129</th>\n",
       "      <td>223</td>\n",
       "      <td>11</td>\n",
       "      <td>13</td>\n",
       "      <td>5</td>\n",
       "      <td>AA</td>\n",
       "      <td>39</td>\n",
       "      <td>N877AA</td>\n",
       "      <td>188</td>\n",
       "      <td>653.0</td>\n",
       "      <td>-7.0</td>\n",
       "      <td>...</td>\n",
       "      <td>0</td>\n",
       "      <td>0</td>\n",
       "      <td>NaN</td>\n",
       "      <td>NaN</td>\n",
       "      <td>NaN</td>\n",
       "      <td>NaN</td>\n",
       "      <td>NaN</td>\n",
       "      <td>NaN</td>\n",
       "      <td>SAN</td>\n",
       "      <td>DFW</td>\n",
       "    </tr>\n",
       "    <tr>\n",
       "      <th>1590874</th>\n",
       "      <td>223</td>\n",
       "      <td>4</td>\n",
       "      <td>12</td>\n",
       "      <td>7</td>\n",
       "      <td>US</td>\n",
       "      <td>72</td>\n",
       "      <td>N713UW</td>\n",
       "      <td>89</td>\n",
       "      <td>1655.0</td>\n",
       "      <td>30.0</td>\n",
       "      <td>...</td>\n",
       "      <td>0</td>\n",
       "      <td>0</td>\n",
       "      <td>NaN</td>\n",
       "      <td>0.0</td>\n",
       "      <td>0.0</td>\n",
       "      <td>28.0</td>\n",
       "      <td>0.0</td>\n",
       "      <td>0.0</td>\n",
       "      <td>CLT</td>\n",
       "      <td>PVD</td>\n",
       "    </tr>\n",
       "    <tr>\n",
       "      <th>5583129</th>\n",
       "      <td>223</td>\n",
       "      <td>12</td>\n",
       "      <td>16</td>\n",
       "      <td>3</td>\n",
       "      <td>AA</td>\n",
       "      <td>124</td>\n",
       "      <td>N679AW</td>\n",
       "      <td>18</td>\n",
       "      <td>1805.0</td>\n",
       "      <td>-5.0</td>\n",
       "      <td>...</td>\n",
       "      <td>0</td>\n",
       "      <td>0</td>\n",
       "      <td>NaN</td>\n",
       "      <td>NaN</td>\n",
       "      <td>NaN</td>\n",
       "      <td>NaN</td>\n",
       "      <td>NaN</td>\n",
       "      <td>NaN</td>\n",
       "      <td>PHX</td>\n",
       "      <td>LAS</td>\n",
       "    </tr>\n",
       "    <tr>\n",
       "      <th>5365563</th>\n",
       "      <td>223</td>\n",
       "      <td>12</td>\n",
       "      <td>2</td>\n",
       "      <td>3</td>\n",
       "      <td>UA</td>\n",
       "      <td>167</td>\n",
       "      <td>N78501</td>\n",
       "      <td>249</td>\n",
       "      <td>1530.0</td>\n",
       "      <td>1.0</td>\n",
       "      <td>...</td>\n",
       "      <td>0</td>\n",
       "      <td>0</td>\n",
       "      <td>NaN</td>\n",
       "      <td>NaN</td>\n",
       "      <td>NaN</td>\n",
       "      <td>NaN</td>\n",
       "      <td>NaN</td>\n",
       "      <td>NaN</td>\n",
       "      <td>EWR</td>\n",
       "      <td>SAN</td>\n",
       "    </tr>\n",
       "    <tr>\n",
       "      <th>417556</th>\n",
       "      <td>223</td>\n",
       "      <td>1</td>\n",
       "      <td>28</td>\n",
       "      <td>3</td>\n",
       "      <td>EV</td>\n",
       "      <td>10</td>\n",
       "      <td>N879AS</td>\n",
       "      <td>226</td>\n",
       "      <td>1311.0</td>\n",
       "      <td>21.0</td>\n",
       "      <td>...</td>\n",
       "      <td>0</td>\n",
       "      <td>0</td>\n",
       "      <td>NaN</td>\n",
       "      <td>NaN</td>\n",
       "      <td>NaN</td>\n",
       "      <td>NaN</td>\n",
       "      <td>NaN</td>\n",
       "      <td>NaN</td>\n",
       "      <td>DFW</td>\n",
       "      <td>MEI</td>\n",
       "    </tr>\n",
       "  </tbody>\n",
       "</table>\n",
       "<p>15 rows × 31 columns</p>\n",
       "</div>"
      ],
      "text/plain": [
       "         YEAR  MONTH  DAY  DAY_OF_WEEK AIRLINE  FLIGHT_NUMBER TAIL_NUMBER  \\\n",
       "4071708   223      9   10            4      AA             36      N3LAAA   \n",
       "2938307   223      7    3            5      DL            178      N307DQ   \n",
       "2093688   223      5   13            3      EV            148      N840AS   \n",
       "4142953   223      9   15            2      OO             18      N593ML   \n",
       "2529388   223      6    9            2      EV            100      N667GB   \n",
       "3806574   223      8   24            1      NK            164      N629NK   \n",
       "2621712   223      6   15            1      F9              0      N935FR   \n",
       "2870357   223      6   29            1      MQ             89      N646MQ   \n",
       "5516457   223     12   12            6      DL             76      N825DN   \n",
       "2343443   223      5   29            5      AA             98      N861AA   \n",
       "5065129   223     11   13            5      AA             39      N877AA   \n",
       "1590874   223      4   12            7      US             72      N713UW   \n",
       "5583129   223     12   16            3      AA            124      N679AW   \n",
       "5365563   223     12    2            3      UA            167      N78501   \n",
       "417556    223      1   28            3      EV             10      N879AS   \n",
       "\n",
       "         SCHEDULED_DEPARTURE  DEPARTURE_TIME  DEPARTURE_DELAY  ...  DIVERTED  \\\n",
       "4071708                   58          1852.0              2.0  ...         0   \n",
       "2938307                  159          2206.0             -1.0  ...         0   \n",
       "2093688                  195          1732.0              1.0  ...         0   \n",
       "4142953                  121          1351.0            -10.0  ...         0   \n",
       "2529388                  245          1523.0             -2.0  ...         0   \n",
       "3806574                  226          2014.0             -4.0  ...         0   \n",
       "2621712                  203           715.0              0.0  ...         0   \n",
       "2870357                  136          1948.0             20.0  ...         0   \n",
       "5516457                  106          1128.0             -2.0  ...         0   \n",
       "2343443                  162          1322.0            232.0  ...         0   \n",
       "5065129                  188           653.0             -7.0  ...         0   \n",
       "1590874                   89          1655.0             30.0  ...         0   \n",
       "5583129                   18          1805.0             -5.0  ...         0   \n",
       "5365563                  249          1530.0              1.0  ...         0   \n",
       "417556                   226          1311.0             21.0  ...         0   \n",
       "\n",
       "         CANCELLED  CANCELLATION_REASON  AIR_SYSTEM_DELAY  SECURITY_DELAY  \\\n",
       "4071708          0                  NaN               NaN             NaN   \n",
       "2938307          0                  NaN               NaN             NaN   \n",
       "2093688          0                  NaN               NaN             NaN   \n",
       "4142953          0                  NaN               NaN             NaN   \n",
       "2529388          0                  NaN               NaN             NaN   \n",
       "3806574          0                  NaN               NaN             NaN   \n",
       "2621712          0                  NaN               NaN             NaN   \n",
       "2870357          0                  NaN               0.0             0.0   \n",
       "5516457          0                  NaN               NaN             NaN   \n",
       "2343443          0                  NaN               0.0             0.0   \n",
       "5065129          0                  NaN               NaN             NaN   \n",
       "1590874          0                  NaN               0.0             0.0   \n",
       "5583129          0                  NaN               NaN             NaN   \n",
       "5365563          0                  NaN               NaN             NaN   \n",
       "417556           0                  NaN               NaN             NaN   \n",
       "\n",
       "         AIRLINE_DELAY  LATE_AIRCRAFT_DELAY  WEATHER_DELAY  ORIGIN_AIRPORT_  \\\n",
       "4071708            NaN                  NaN            NaN              MIA   \n",
       "2938307            NaN                  NaN            NaN              ATL   \n",
       "2093688            NaN                  NaN            NaN              ATL   \n",
       "4142953            NaN                  NaN            NaN              OTH   \n",
       "2529388            NaN                  NaN            NaN              DFW   \n",
       "3806574            NaN                  NaN            NaN              FLL   \n",
       "2621712            NaN                  NaN            NaN              ATL   \n",
       "2870357            0.0                 17.0            0.0              DSM   \n",
       "5516457            NaN                  NaN            NaN              SEA   \n",
       "2343443            0.0                214.0            0.0              DFW   \n",
       "5065129            NaN                  NaN            NaN              SAN   \n",
       "1590874           28.0                  0.0            0.0              CLT   \n",
       "5583129            NaN                  NaN            NaN              PHX   \n",
       "5365563            NaN                  NaN            NaN              EWR   \n",
       "417556             NaN                  NaN            NaN              DFW   \n",
       "\n",
       "         DESTINATION_AIRPORT_  \n",
       "4071708                   LAS  \n",
       "2938307                   LEX  \n",
       "2093688                   TYS  \n",
       "4142953                   SFO  \n",
       "2529388                   ACT  \n",
       "3806574                   MCO  \n",
       "2621712                   PHL  \n",
       "2870357                   ORD  \n",
       "5516457                   MSP  \n",
       "2343443                   LAX  \n",
       "5065129                   DFW  \n",
       "1590874                   PVD  \n",
       "5583129                   LAS  \n",
       "5365563                   SAN  \n",
       "417556                    MEI  \n",
       "\n",
       "[15 rows x 31 columns]"
      ]
     },
     "execution_count": 40,
     "metadata": {},
     "output_type": "execute_result"
    }
   ],
   "source": [
    "fl_df.sample(15)"
   ]
  },
  {
   "cell_type": "code",
   "execution_count": 45,
   "id": "1461177c",
   "metadata": {},
   "outputs": [],
   "source": [
    "# берем данные только по задержке рейса(не пустые) и аэропорт.\n",
    "dd_fl_df = fl_df[(fl_df['DEPARTURE_DELAY'].notna())][['ORIGIN_AIRPORT_','DEPARTURE_DELAY']]\n"
   ]
  },
  {
   "cell_type": "code",
   "execution_count": 46,
   "id": "755ce23a",
   "metadata": {},
   "outputs": [
    {
     "data": {
      "text/plain": [
       "(5732926, 2)"
      ]
     },
     "execution_count": 46,
     "metadata": {},
     "output_type": "execute_result"
    }
   ],
   "source": [
    "dd_fl_df.shape"
   ]
  },
  {
   "cell_type": "code",
   "execution_count": 56,
   "id": "f228cc27",
   "metadata": {
    "collapsed": true
   },
   "outputs": [
    {
     "data": {
      "text/html": [
       "<div>\n",
       "<style scoped>\n",
       "    .dataframe tbody tr th:only-of-type {\n",
       "        vertical-align: middle;\n",
       "    }\n",
       "\n",
       "    .dataframe tbody tr th {\n",
       "        vertical-align: top;\n",
       "    }\n",
       "\n",
       "    .dataframe thead th {\n",
       "        text-align: right;\n",
       "    }\n",
       "</style>\n",
       "<table border=\"1\" class=\"dataframe\">\n",
       "  <thead>\n",
       "    <tr style=\"text-align: right;\">\n",
       "      <th></th>\n",
       "      <th>DEPARTURE_DELAY</th>\n",
       "    </tr>\n",
       "    <tr>\n",
       "      <th>ORIGIN_AIRPORT_</th>\n",
       "      <th></th>\n",
       "    </tr>\n",
       "  </thead>\n",
       "  <tbody>\n",
       "    <tr>\n",
       "      <th>YAK</th>\n",
       "      <td>-6.070932</td>\n",
       "    </tr>\n",
       "    <tr>\n",
       "      <th>CNY</th>\n",
       "      <td>-6.058537</td>\n",
       "    </tr>\n",
       "    <tr>\n",
       "      <th>EKO</th>\n",
       "      <td>-3.933333</td>\n",
       "    </tr>\n",
       "    <tr>\n",
       "      <th>VEL</th>\n",
       "      <td>-3.740000</td>\n",
       "    </tr>\n",
       "    <tr>\n",
       "      <th>CDV</th>\n",
       "      <td>-3.454545</td>\n",
       "    </tr>\n",
       "    <tr>\n",
       "      <th>...</th>\n",
       "      <td>...</td>\n",
       "    </tr>\n",
       "    <tr>\n",
       "      <th>OTH</th>\n",
       "      <td>18.969696</td>\n",
       "    </tr>\n",
       "    <tr>\n",
       "      <th>PPG</th>\n",
       "      <td>20.844828</td>\n",
       "    </tr>\n",
       "    <tr>\n",
       "      <th>HYA</th>\n",
       "      <td>23.182926</td>\n",
       "    </tr>\n",
       "    <tr>\n",
       "      <th>MVY</th>\n",
       "      <td>24.685184</td>\n",
       "    </tr>\n",
       "    <tr>\n",
       "      <th>ILG</th>\n",
       "      <td>29.391752</td>\n",
       "    </tr>\n",
       "  </tbody>\n",
       "</table>\n",
       "<p>322 rows × 1 columns</p>\n",
       "</div>"
      ],
      "text/plain": [
       "                 DEPARTURE_DELAY\n",
       "ORIGIN_AIRPORT_                 \n",
       "YAK                    -6.070932\n",
       "CNY                    -6.058537\n",
       "EKO                    -3.933333\n",
       "VEL                    -3.740000\n",
       "CDV                    -3.454545\n",
       "...                          ...\n",
       "OTH                    18.969696\n",
       "PPG                    20.844828\n",
       "HYA                    23.182926\n",
       "MVY                    24.685184\n",
       "ILG                    29.391752\n",
       "\n",
       "[322 rows x 1 columns]"
      ]
     },
     "execution_count": 56,
     "metadata": {},
     "output_type": "execute_result"
    }
   ],
   "source": [
    "# считаем среднее время задержки по каждому аэропорту\n",
    "mean_dd_fl_df = dd_fl_df.groupby(['ORIGIN_AIRPORT_']).mean().sort_values('DEPARTURE_DELAY')\n",
    "mean_dd_fl_df\n",
    "# mean_dd_fl_pd"
   ]
  },
  {
   "cell_type": "markdown",
   "id": "95f83984",
   "metadata": {},
   "source": [
    "## Аэропорт с минимальным временем задержки"
   ]
  },
  {
   "cell_type": "code",
   "execution_count": 75,
   "id": "475e989e",
   "metadata": {},
   "outputs": [
    {
     "name": "stdout",
     "output_type": "stream",
     "text": [
      "IATA_CODE                YAK\n",
      "AIRPORT      Yakutat Airport\n",
      "CITY                 Yakutat\n",
      "STATE                     AK\n",
      "COUNTRY                  USA\n",
      "LATITUDE            59.50336\n",
      "LONGITUDE         -139.66023\n",
      "Name: 320, dtype: object\n",
      "Среднее время задержки, мин: [-6.070932]\n"
     ]
    },
    {
     "data": {
      "text/plain": [
       "IATA_CODE                YAK\n",
       "AIRPORT      Yakutat Airport\n",
       "CITY                 Yakutat\n",
       "STATE                     AK\n",
       "COUNTRY                  USA\n",
       "LATITUDE            59.50336\n",
       "LONGITUDE         -139.66023\n",
       "Name: 320, dtype: object"
      ]
     },
     "execution_count": 75,
     "metadata": {},
     "output_type": "execute_result"
    }
   ],
   "source": [
    "# Аэропорт с минимальным временем задержки\n",
    "ap_s = ap_pd[(ap_pd['IATA_CODE']==mean_dd_fl_df.index[0])].squeeze()\n",
    "print(ap_s)\n",
    "print(f'Среднее время задержки, мин: {mean_dd_fl_df.iloc[0].values}')\n"
   ]
  },
  {
   "cell_type": "code",
   "execution_count": 76,
   "id": "8b43bed5",
   "metadata": {
    "scrolled": true
   },
   "outputs": [
    {
     "data": {
      "text/html": [
       "<div>\n",
       "<style scoped>\n",
       "    .dataframe tbody tr th:only-of-type {\n",
       "        vertical-align: middle;\n",
       "    }\n",
       "\n",
       "    .dataframe tbody tr th {\n",
       "        vertical-align: top;\n",
       "    }\n",
       "\n",
       "    .dataframe thead th {\n",
       "        text-align: right;\n",
       "    }\n",
       "</style>\n",
       "<table border=\"1\" class=\"dataframe\">\n",
       "  <thead>\n",
       "    <tr style=\"text-align: right;\">\n",
       "      <th></th>\n",
       "      <th>IATA_CODE</th>\n",
       "      <th>AIRPORT</th>\n",
       "      <th>CITY</th>\n",
       "      <th>STATE</th>\n",
       "      <th>COUNTRY</th>\n",
       "      <th>LATITUDE</th>\n",
       "      <th>LONGITUDE</th>\n",
       "    </tr>\n",
       "  </thead>\n",
       "  <tbody>\n",
       "    <tr>\n",
       "      <th>154</th>\n",
       "      <td>ILG</td>\n",
       "      <td>Wilmington Airport</td>\n",
       "      <td>Wilmington</td>\n",
       "      <td>DE</td>\n",
       "      <td>USA</td>\n",
       "      <td>39.67872</td>\n",
       "      <td>-75.60653</td>\n",
       "    </tr>\n",
       "    <tr>\n",
       "      <th>320</th>\n",
       "      <td>YAK</td>\n",
       "      <td>Yakutat Airport</td>\n",
       "      <td>Yakutat</td>\n",
       "      <td>AK</td>\n",
       "      <td>USA</td>\n",
       "      <td>59.50336</td>\n",
       "      <td>-139.66023</td>\n",
       "    </tr>\n",
       "  </tbody>\n",
       "</table>\n",
       "</div>"
      ],
      "text/plain": [
       "    IATA_CODE             AIRPORT        CITY STATE COUNTRY  LATITUDE  \\\n",
       "154       ILG  Wilmington Airport  Wilmington    DE     USA  39.67872   \n",
       "320       YAK     Yakutat Airport     Yakutat    AK     USA  59.50336   \n",
       "\n",
       "     LONGITUDE  \n",
       "154  -75.60653  \n",
       "320 -139.66023  "
      ]
     },
     "execution_count": 76,
     "metadata": {},
     "output_type": "execute_result"
    }
   ],
   "source": [
    "# смотрю аэропорты максичмальным и минимальным средним временем задержки\n",
    "filter_list_a = ['YAK','ILG']\n",
    "ap_pd[(ap_pd['IATA_CODE'].isin(filter_list_a))]"
   ]
  },
  {
   "attachments": {},
   "cell_type": "markdown",
   "id": "ab69f885",
   "metadata": {},
   "source": [
    "# Задание 2. Самая пунктуальная авиакомпания на прилет в Los Angeles International Airport"
   ]
  },
  {
   "cell_type": "code",
   "execution_count": 97,
   "id": "032f81af",
   "metadata": {},
   "outputs": [
    {
     "data": {
      "text/plain": [
       "'LAX'"
      ]
     },
     "execution_count": 97,
     "metadata": {},
     "output_type": "execute_result"
    }
   ],
   "source": [
    "# код Los Angeles International Airport\n",
    "ap_code = ap_pd[(ap_pd['AIRPORT']=='Los Angeles International Airport')].IATA_CODE.iloc[0]\n",
    "ap_code"
   ]
  },
  {
   "cell_type": "code",
   "execution_count": 151,
   "id": "1be5e71f",
   "metadata": {},
   "outputs": [
    {
     "data": {
      "text/html": [
       "<div>\n",
       "<style scoped>\n",
       "    .dataframe tbody tr th:only-of-type {\n",
       "        vertical-align: middle;\n",
       "    }\n",
       "\n",
       "    .dataframe tbody tr th {\n",
       "        vertical-align: top;\n",
       "    }\n",
       "\n",
       "    .dataframe thead th {\n",
       "        text-align: right;\n",
       "    }\n",
       "</style>\n",
       "<table border=\"1\" class=\"dataframe\">\n",
       "  <thead>\n",
       "    <tr style=\"text-align: right;\">\n",
       "      <th></th>\n",
       "      <th>AIRLINE</th>\n",
       "      <th>ARRIVAL_DELAY</th>\n",
       "      <th>ABS_ARRIVAL_DELAY</th>\n",
       "    </tr>\n",
       "  </thead>\n",
       "  <tbody>\n",
       "    <tr>\n",
       "      <th>101</th>\n",
       "      <td>OO</td>\n",
       "      <td>0.0</td>\n",
       "      <td>0.0</td>\n",
       "    </tr>\n",
       "    <tr>\n",
       "      <th>103</th>\n",
       "      <td>OO</td>\n",
       "      <td>-16.0</td>\n",
       "      <td>16.0</td>\n",
       "    </tr>\n",
       "    <tr>\n",
       "      <th>129</th>\n",
       "      <td>OO</td>\n",
       "      <td>56.0</td>\n",
       "      <td>56.0</td>\n",
       "    </tr>\n",
       "    <tr>\n",
       "      <th>156</th>\n",
       "      <td>UA</td>\n",
       "      <td>4.0</td>\n",
       "      <td>4.0</td>\n",
       "    </tr>\n",
       "    <tr>\n",
       "      <th>195</th>\n",
       "      <td>UA</td>\n",
       "      <td>-11.0</td>\n",
       "      <td>11.0</td>\n",
       "    </tr>\n",
       "  </tbody>\n",
       "</table>\n",
       "</div>"
      ],
      "text/plain": [
       "    AIRLINE  ARRIVAL_DELAY  ABS_ARRIVAL_DELAY\n",
       "101      OO            0.0                0.0\n",
       "103      OO          -16.0               16.0\n",
       "129      OO           56.0               56.0\n",
       "156      UA            4.0                4.0\n",
       "195      UA          -11.0               11.0"
      ]
     },
     "execution_count": 151,
     "metadata": {},
     "output_type": "execute_result"
    }
   ],
   "source": [
    "# берем только данные по нужному аэропорту и стобцы: авиакомпания, время задержки прилёта.\n",
    "lax_fl_df = fl_df[(fl_df['DESTINATION_AIRPORT_']==ap_code)][['AIRLINE','ARRIVAL_DELAY']]\n",
    "# убираем строки с отсутствующими значениями \n",
    "lax_fl_df = lax_fl_df[(lax_fl_df['ARRIVAL_DELAY'].notna())]\n",
    "# lax_fl_df.shape\n",
    "# время задержки берем по модулю, т.к. пунктуальность это прибытьие точно в срок без опозданий и раньше времени\n",
    "lax_fl_df['ABS_ARRIVAL_DELAY'] = lax_fl_df['ARRIVAL_DELAY'].apply(lambda x: abs(x))\n",
    "lax_fl_df.head()"
   ]
  },
  {
   "cell_type": "code",
   "execution_count": 148,
   "id": "601e5cbf",
   "metadata": {},
   "outputs": [
    {
     "data": {
      "text/html": [
       "<div>\n",
       "<style scoped>\n",
       "    .dataframe tbody tr th:only-of-type {\n",
       "        vertical-align: middle;\n",
       "    }\n",
       "\n",
       "    .dataframe tbody tr th {\n",
       "        vertical-align: top;\n",
       "    }\n",
       "\n",
       "    .dataframe thead th {\n",
       "        text-align: right;\n",
       "    }\n",
       "</style>\n",
       "<table border=\"1\" class=\"dataframe\">\n",
       "  <thead>\n",
       "    <tr style=\"text-align: right;\">\n",
       "      <th></th>\n",
       "      <th>IATA_CODE</th>\n",
       "      <th>AIRLINE</th>\n",
       "    </tr>\n",
       "  </thead>\n",
       "  <tbody>\n",
       "    <tr>\n",
       "      <th>6</th>\n",
       "      <td>AS</td>\n",
       "      <td>Alaska Airlines Inc.</td>\n",
       "    </tr>\n",
       "  </tbody>\n",
       "</table>\n",
       "</div>"
      ],
      "text/plain": [
       "  IATA_CODE               AIRLINE\n",
       "6        AS  Alaska Airlines Inc."
      ]
     },
     "execution_count": 148,
     "metadata": {},
     "output_type": "execute_result"
    }
   ],
   "source": [
    "mean_lax_fd_df = lax_fl_df.groupby('AIRLINE').mean().sort_values('ABS_ARRIVAL_DELAY')\n",
    "al_code=mean_lax_fd_df[(mean_lax_fd_df['ABS_ARRIVAL_DELAY']==mean_lax_fd_df['ABS_ARRIVAL_DELAY'].min())].index[0]\n",
    "# type(al_code)\n",
    "al_pd[(al_pd['IATA_CODE']==al_code)]"
   ]
  },
  {
   "attachments": {},
   "cell_type": "markdown",
   "id": "8250545b",
   "metadata": {},
   "source": [
    "# Задание 3. Найти аэропорт, где самолёты проводят больше всего времени на рулении (среднее значение)"
   ]
  },
  {
   "cell_type": "code",
   "execution_count": 166,
   "id": "93d3da77",
   "metadata": {},
   "outputs": [
    {
     "data": {
      "text/plain": [
       "(5819079, 4)"
      ]
     },
     "execution_count": 166,
     "metadata": {},
     "output_type": "execute_result"
    }
   ],
   "source": [
    "# \"Время на руление\" указано в двух столбцах. Это TAXI_OUT(руление перед вылетом,\n",
    "# соотвественно аэропорт указан в ORIGIN_AIRPORT_) и TAXI_IN (руление после посадки,\n",
    "# соответственно аэропорт в DESTINATION_AIRPORT_)\n",
    "# taxi_out\n",
    "taxi_out_fl_df = fl_df[['ORIGIN_AIRPORT_','TAXI_OUT']]\n",
    "taxi_out_fl_df = taxi_out_fl_df.rename(columns={'ORIGIN_AIRPORT_':'AIRPORT','TAXI_OUT':'TAXI'})\n",
    "# taxi_in\n",
    "taxi_in_fl_df  = fl_df[['DESTINATION_AIRPORT_','TAXI_IN']]\n",
    "taxi_in_fl_df = taxi_in_fl_df.rename(columns={'DESTINATION_AIRPORT_':'AIRPORT','TAXI_IN':'TAXI'})\n"
   ]
  },
  {
   "cell_type": "code",
   "execution_count": 172,
   "id": "12ec08ed",
   "metadata": {},
   "outputs": [
    {
     "data": {
      "text/plain": [
       "(11638158, 2)"
      ]
     },
     "execution_count": 172,
     "metadata": {},
     "output_type": "execute_result"
    }
   ],
   "source": [
    "taxi_df = pd.concat([taxi_out_fl_df,taxi_in_fl_df])\n",
    "taxi_df.shape"
   ]
  },
  {
   "cell_type": "code",
   "execution_count": 178,
   "id": "10c30d31",
   "metadata": {},
   "outputs": [
    {
     "data": {
      "text/html": [
       "<div>\n",
       "<style scoped>\n",
       "    .dataframe tbody tr th:only-of-type {\n",
       "        vertical-align: middle;\n",
       "    }\n",
       "\n",
       "    .dataframe tbody tr th {\n",
       "        vertical-align: top;\n",
       "    }\n",
       "\n",
       "    .dataframe thead th {\n",
       "        text-align: right;\n",
       "    }\n",
       "</style>\n",
       "<table border=\"1\" class=\"dataframe\">\n",
       "  <thead>\n",
       "    <tr style=\"text-align: right;\">\n",
       "      <th></th>\n",
       "      <th>TAXI</th>\n",
       "    </tr>\n",
       "    <tr>\n",
       "      <th>AIRPORT</th>\n",
       "      <th></th>\n",
       "    </tr>\n",
       "  </thead>\n",
       "  <tbody>\n",
       "    <tr>\n",
       "      <th>CNY</th>\n",
       "      <td>4.626829</td>\n",
       "    </tr>\n",
       "    <tr>\n",
       "      <th>VEL</th>\n",
       "      <td>4.761905</td>\n",
       "    </tr>\n",
       "    <tr>\n",
       "      <th>ADQ</th>\n",
       "      <td>4.964516</td>\n",
       "    </tr>\n",
       "    <tr>\n",
       "      <th>BET</th>\n",
       "      <td>5.463452</td>\n",
       "    </tr>\n",
       "    <tr>\n",
       "      <th>DLG</th>\n",
       "      <td>5.584415</td>\n",
       "    </tr>\n",
       "    <tr>\n",
       "      <th>...</th>\n",
       "      <td>...</td>\n",
       "    </tr>\n",
       "    <tr>\n",
       "      <th>CLT</th>\n",
       "      <td>14.645538</td>\n",
       "    </tr>\n",
       "    <tr>\n",
       "      <th>EWR</th>\n",
       "      <td>14.879636</td>\n",
       "    </tr>\n",
       "    <tr>\n",
       "      <th>ORD</th>\n",
       "      <td>16.365225</td>\n",
       "    </tr>\n",
       "    <tr>\n",
       "      <th>JFK</th>\n",
       "      <td>17.745089</td>\n",
       "    </tr>\n",
       "    <tr>\n",
       "      <th>LGA</th>\n",
       "      <td>17.788691</td>\n",
       "    </tr>\n",
       "  </tbody>\n",
       "</table>\n",
       "<p>322 rows × 1 columns</p>\n",
       "</div>"
      ],
      "text/plain": [
       "              TAXI\n",
       "AIRPORT           \n",
       "CNY       4.626829\n",
       "VEL       4.761905\n",
       "ADQ       4.964516\n",
       "BET       5.463452\n",
       "DLG       5.584415\n",
       "...            ...\n",
       "CLT      14.645538\n",
       "EWR      14.879636\n",
       "ORD      16.365225\n",
       "JFK      17.745089\n",
       "LGA      17.788691\n",
       "\n",
       "[322 rows x 1 columns]"
      ]
     },
     "execution_count": 178,
     "metadata": {},
     "output_type": "execute_result"
    }
   ],
   "source": [
    "# вычисляем среднее время руления по каждому аэропорту\n",
    "avg_taxi_df = taxi_df.groupby('AIRPORT', dropna=True).mean().sort_values(by='TAXI')\n",
    "avg_taxi_df"
   ]
  },
  {
   "cell_type": "code",
   "execution_count": 181,
   "id": "f39b9d63",
   "metadata": {},
   "outputs": [
    {
     "data": {
      "text/html": [
       "<div>\n",
       "<style scoped>\n",
       "    .dataframe tbody tr th:only-of-type {\n",
       "        vertical-align: middle;\n",
       "    }\n",
       "\n",
       "    .dataframe tbody tr th {\n",
       "        vertical-align: top;\n",
       "    }\n",
       "\n",
       "    .dataframe thead th {\n",
       "        text-align: right;\n",
       "    }\n",
       "</style>\n",
       "<table border=\"1\" class=\"dataframe\">\n",
       "  <thead>\n",
       "    <tr style=\"text-align: right;\">\n",
       "      <th></th>\n",
       "      <th>IATA_CODE</th>\n",
       "      <th>AIRPORT</th>\n",
       "      <th>CITY</th>\n",
       "      <th>STATE</th>\n",
       "      <th>COUNTRY</th>\n",
       "      <th>LATITUDE</th>\n",
       "      <th>LONGITUDE</th>\n",
       "    </tr>\n",
       "  </thead>\n",
       "  <tbody>\n",
       "    <tr>\n",
       "      <th>70</th>\n",
       "      <td>CNY</td>\n",
       "      <td>Canyonlands Field</td>\n",
       "      <td>Moab</td>\n",
       "      <td>UT</td>\n",
       "      <td>USA</td>\n",
       "      <td>38.75496</td>\n",
       "      <td>-109.75484</td>\n",
       "    </tr>\n",
       "    <tr>\n",
       "      <th>182</th>\n",
       "      <td>LGA</td>\n",
       "      <td>LaGuardia Airport (Marine Air Terminal)</td>\n",
       "      <td>New York</td>\n",
       "      <td>NY</td>\n",
       "      <td>USA</td>\n",
       "      <td>40.77724</td>\n",
       "      <td>-73.87261</td>\n",
       "    </tr>\n",
       "  </tbody>\n",
       "</table>\n",
       "</div>"
      ],
      "text/plain": [
       "    IATA_CODE                                  AIRPORT      CITY STATE  \\\n",
       "70        CNY                        Canyonlands Field      Moab    UT   \n",
       "182       LGA  LaGuardia Airport (Marine Air Terminal)  New York    NY   \n",
       "\n",
       "    COUNTRY  LATITUDE  LONGITUDE  \n",
       "70      USA  38.75496 -109.75484  \n",
       "182     USA  40.77724  -73.87261  "
      ]
     },
     "execution_count": 181,
     "metadata": {},
     "output_type": "execute_result"
    }
   ],
   "source": [
    "# посмотрим аэропорты с минимальным и максимльными значениями\n",
    "filter_ = ['CNY','LGA']\n",
    "ap_pd[(ap_pd['IATA_CODE'].isin(filter_))]"
   ]
  },
  {
   "cell_type": "code",
   "execution_count": 187,
   "id": "034c7638",
   "metadata": {},
   "outputs": [
    {
     "data": {
      "text/html": [
       "<div>\n",
       "<style scoped>\n",
       "    .dataframe tbody tr th:only-of-type {\n",
       "        vertical-align: middle;\n",
       "    }\n",
       "\n",
       "    .dataframe tbody tr th {\n",
       "        vertical-align: top;\n",
       "    }\n",
       "\n",
       "    .dataframe thead th {\n",
       "        text-align: right;\n",
       "    }\n",
       "</style>\n",
       "<table border=\"1\" class=\"dataframe\">\n",
       "  <thead>\n",
       "    <tr style=\"text-align: right;\">\n",
       "      <th></th>\n",
       "      <th>IATA_CODE</th>\n",
       "      <th>AIRPORT</th>\n",
       "      <th>CITY</th>\n",
       "      <th>STATE</th>\n",
       "      <th>COUNTRY</th>\n",
       "      <th>LATITUDE</th>\n",
       "      <th>LONGITUDE</th>\n",
       "    </tr>\n",
       "  </thead>\n",
       "  <tbody>\n",
       "    <tr>\n",
       "      <th>182</th>\n",
       "      <td>LGA</td>\n",
       "      <td>LaGuardia Airport (Marine Air Terminal)</td>\n",
       "      <td>New York</td>\n",
       "      <td>NY</td>\n",
       "      <td>USA</td>\n",
       "      <td>40.77724</td>\n",
       "      <td>-73.87261</td>\n",
       "    </tr>\n",
       "  </tbody>\n",
       "</table>\n",
       "</div>"
      ],
      "text/plain": [
       "    IATA_CODE                                  AIRPORT      CITY STATE  \\\n",
       "182       LGA  LaGuardia Airport (Marine Air Terminal)  New York    NY   \n",
       "\n",
       "    COUNTRY  LATITUDE  LONGITUDE  \n",
       "182     USA  40.77724  -73.87261  "
      ]
     },
     "execution_count": 187,
     "metadata": {},
     "output_type": "execute_result"
    }
   ],
   "source": [
    "# Находим аэропорт с максимальным средним значением времени затрачиваемого на руление\n",
    "filter_s = avg_taxi_df[(avg_taxi_df['TAXI'] == avg_taxi_df['TAXI'].max())]\n",
    "ap_pd[(ap_pd['IATA_CODE'].isin(filter_s.index))]"
   ]
  },
  {
   "cell_type": "code",
   "execution_count": null,
   "id": "ba0b0006",
   "metadata": {},
   "outputs": [],
   "source": []
  },
  {
   "cell_type": "code",
   "execution_count": null,
   "id": "c3635a3c",
   "metadata": {},
   "outputs": [],
   "source": []
  },
  {
   "cell_type": "code",
   "execution_count": null,
   "id": "39bdb798",
   "metadata": {},
   "outputs": [],
   "source": []
  },
  {
   "cell_type": "code",
   "execution_count": null,
   "id": "f0adec6a",
   "metadata": {},
   "outputs": [],
   "source": []
  }
 ],
 "metadata": {
  "kernelspec": {
   "display_name": "Python 3 (ipykernel)",
   "language": "python",
   "name": "python3"
  },
  "language_info": {
   "codemirror_mode": {
    "name": "ipython",
    "version": 3
   },
   "file_extension": ".py",
   "mimetype": "text/x-python",
   "name": "python",
   "nbconvert_exporter": "python",
   "pygments_lexer": "ipython3",
   "version": "3.10.9"
  },
  "nbTranslate": {
   "displayLangs": [
    "*"
   ],
   "hotkey": "alt-t",
   "langInMainMenu": true,
   "sourceLang": "en",
   "targetLang": "fr",
   "useGoogleTranslate": true
  },
  "toc": {
   "base_numbering": 1,
   "nav_menu": {},
   "number_sections": true,
   "sideBar": true,
   "skip_h1_title": false,
   "title_cell": "Table of Contents",
   "title_sidebar": "Contents",
   "toc_cell": true,
   "toc_position": {},
   "toc_section_display": true,
   "toc_window_display": true
  }
 },
 "nbformat": 4,
 "nbformat_minor": 5
}
