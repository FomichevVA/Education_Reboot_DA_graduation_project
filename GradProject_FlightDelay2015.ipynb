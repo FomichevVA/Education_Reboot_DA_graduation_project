{
 "cells": [
  {
   "cell_type": "markdown",
   "id": "fed6f182",
   "metadata": {
    "toc": true
   },
   "source": [
    "<h1>Table of Contents<span class=\"tocSkip\"></span></h1>\n",
    "<div class=\"toc\"><ul class=\"toc-item\"><li><span><a href=\"#Импорт-библиотек-и-модулей\" data-toc-modified-id=\"Импорт-библиотек-и-модулей-1\"><span class=\"toc-item-num\">1&nbsp;&nbsp;</span>Импорт библиотек и модулей</a></span></li><li><span><a href=\"#Обзор-данных\" data-toc-modified-id=\"Обзор-данных-2\"><span class=\"toc-item-num\">2&nbsp;&nbsp;</span>Обзор данных</a></span><ul class=\"toc-item\"><li><span><a href=\"#Импорт-данных\" data-toc-modified-id=\"Импорт-данных-2.1\"><span class=\"toc-item-num\">2.1&nbsp;&nbsp;</span>Импорт данных</a></span></li><li><span><a href=\"#Исследование-таблица\" data-toc-modified-id=\"Исследование-таблица-2.2\"><span class=\"toc-item-num\">2.2&nbsp;&nbsp;</span>Исследование таблица</a></span></li></ul></li><li><span><a href=\"#Исправление-кодировки-аэропортов-за-октябрь-2015\" data-toc-modified-id=\"Исправление-кодировки-аэропортов-за-октябрь-2015-3\"><span class=\"toc-item-num\">3&nbsp;&nbsp;</span>Исправление кодировки аэропортов за октябрь 2015</a></span><ul class=\"toc-item\"><li><span><a href=\"#Наличие-кривых-кодов\" data-toc-modified-id=\"Наличие-кривых-кодов-3.1\"><span class=\"toc-item-num\">3.1&nbsp;&nbsp;</span>Наличие кривых кодов</a></span></li><li><span><a href=\"#Импортируем-таблицу-соответствия-кодов\" data-toc-modified-id=\"Импортируем-таблицу-соответствия-кодов-3.2\"><span class=\"toc-item-num\">3.2&nbsp;&nbsp;</span>Импортируем таблицу соответствия кодов</a></span></li><li><span><a href=\"#Исправляем-аэропорт-вылета\" data-toc-modified-id=\"Исправляем-аэропорт-вылета-3.3\"><span class=\"toc-item-num\">3.3&nbsp;&nbsp;</span>Исправляем аэропорт вылета</a></span></li><li><span><a href=\"#Исправляем-аэропорт-прилета\" data-toc-modified-id=\"Исправляем-аэропорт-прилета-3.4\"><span class=\"toc-item-num\">3.4&nbsp;&nbsp;</span>Исправляем аэропорт прилета</a></span></li><li><span><a href=\"#Сохраняем-исправления-в-файл\" data-toc-modified-id=\"Сохраняем-исправления-в-файл-3.5\"><span class=\"toc-item-num\">3.5&nbsp;&nbsp;</span>Сохраняем исправления в файл</a></span></li></ul></li><li><span><a href=\"#Задание-1.-Найти-аэропорт-с-минимальной-задержкой-вылета\" data-toc-modified-id=\"Задание-1.-Найти-аэропорт-с-минимальной-задержкой-вылета-4\"><span class=\"toc-item-num\">4&nbsp;&nbsp;</span>Задание 1. Найти аэропорт с минимальной задержкой вылета</a></span><ul class=\"toc-item\"><li><span><a href=\"#Аэропорт-с-минимальным-временем-задержки\" data-toc-modified-id=\"Аэропорт-с-минимальным-временем-задержки-4.1\"><span class=\"toc-item-num\">4.1&nbsp;&nbsp;</span>Аэропорт с минимальным временем задержки</a></span></li><li><span><a href=\"#Вывод-точки-координат-аэропорта-на-карту\" data-toc-modified-id=\"Вывод-точки-координат-аэропорта-на-карту-4.2\"><span class=\"toc-item-num\">4.2&nbsp;&nbsp;</span>Вывод точки координат аэропорта на карту</a></span></li><li><span><a href=\"#Альтернативное-решение(берем-только-положительные-задержки,-отрицательные-значения-это-не-задержки)\" data-toc-modified-id=\"Альтернативное-решение(берем-только-положительные-задержки,-отрицательные-значения-это-не-задержки)-4.3\"><span class=\"toc-item-num\">4.3&nbsp;&nbsp;</span>Альтернативное решение(берем только положительные задержки, отрицательные значения это не задержки)</a></span></li></ul></li><li><span><a href=\"#Задание-2.-Самая-пунктуальная-авиакомпания-на-прилет-в-Los-Angeles-International-Airport\" data-toc-modified-id=\"Задание-2.-Самая-пунктуальная-авиакомпания-на-прилет-в-Los-Angeles-International-Airport-5\"><span class=\"toc-item-num\">5&nbsp;&nbsp;</span>Задание 2. Самая пунктуальная авиакомпания на прилет в Los Angeles International Airport</a></span></li><li><span><a href=\"#Задание-3.-Найти-аэропорт,-где-самолёты-проводят-больше-всего-времени-на-рулении-(среднее-значение)\" data-toc-modified-id=\"Задание-3.-Найти-аэропорт,-где-самолёты-проводят-больше-всего-времени-на-рулении-(среднее-значение)-6\"><span class=\"toc-item-num\">6&nbsp;&nbsp;</span>Задание 3. Найти аэропорт, где самолёты проводят больше всего времени на рулении (среднее значение)</a></span></li><li><span><a href=\"#Модель-которая-будет-выбирать-топ-3-аэропорта-прилета-(вероятность-опоздания-минимальная-–-RMSE-метрика),--в-зависимости-от-аэропорта-вылета\" data-toc-modified-id=\"Модель-которая-будет-выбирать-топ-3-аэропорта-прилета-(вероятность-опоздания-минимальная-–-RMSE-метрика),--в-зависимости-от-аэропорта-вылета-7\"><span class=\"toc-item-num\">7&nbsp;&nbsp;</span>Модель которая будет выбирать топ 3 аэропорта прилета (вероятность опоздания минимальная – RMSE метрика),  в зависимости от аэропорта вылета</a></span><ul class=\"toc-item\"><li><span><a href=\"#смотрим-вероятность-опоздания-для-конкретного-аэропорта\" data-toc-modified-id=\"смотрим-вероятность-опоздания-для-конкретного-аэропорта-7.1\"><span class=\"toc-item-num\">7.1&nbsp;&nbsp;</span>смотрим вероятность опоздания для конкретного аэропорта</a></span></li><li><span><a href=\"#Решение-простым-перебором\" data-toc-modified-id=\"Решение-простым-перебором-7.2\"><span class=\"toc-item-num\">7.2&nbsp;&nbsp;</span>Решение простым перебором</a></span></li><li><span><a href=\"#Решение-с-использованием-TimeSeries\" data-toc-modified-id=\"Решение-с-использованием-TimeSeries-7.3\"><span class=\"toc-item-num\">7.3&nbsp;&nbsp;</span>Решение с использованием TimeSeries</a></span></li></ul></li></ul></div>"
   ]
  },
  {
   "cell_type": "markdown",
   "id": "fc1581a9",
   "metadata": {},
   "source": [
    "# Импорт библиотек и модулей"
   ]
  },
  {
   "cell_type": "code",
   "execution_count": 1,
   "id": "acd62db9",
   "metadata": {
    "collapsed": true
   },
   "outputs": [
    {
     "name": "stdout",
     "output_type": "stream",
     "text": [
      "Defaulting to user installation because normal site-packages is not writeable\n",
      "Collecting ipyleaflet\n",
      "  Downloading ipyleaflet-0.17.3-py3-none-any.whl (3.4 MB)\n",
      "     ---------------------------------------- 3.4/3.4 MB 3.5 MB/s eta 0:00:00\n",
      "Requirement already satisfied: ipywidgets<9,>=7.6.0 in c:\\programdata\\anaconda3\\lib\\site-packages (from ipyleaflet) (7.6.5)\n",
      "Collecting xyzservices>=2021.8.1\n",
      "  Downloading xyzservices-2023.5.0-py3-none-any.whl (56 kB)\n",
      "     -------------------------------------- 56.5/56.5 kB 424.1 kB/s eta 0:00:00\n",
      "Collecting branca>=0.5.0\n",
      "  Downloading branca-0.6.0-py3-none-any.whl (24 kB)\n",
      "Collecting traittypes<3,>=0.2.1\n",
      "  Downloading traittypes-0.2.1-py2.py3-none-any.whl (8.6 kB)\n",
      "Requirement already satisfied: jinja2 in c:\\programdata\\anaconda3\\lib\\site-packages (from branca>=0.5.0->ipyleaflet) (3.1.2)\n",
      "Requirement already satisfied: ipython-genutils~=0.2.0 in c:\\programdata\\anaconda3\\lib\\site-packages (from ipywidgets<9,>=7.6.0->ipyleaflet) (0.2.0)\n",
      "Requirement already satisfied: jupyterlab-widgets>=1.0.0 in c:\\programdata\\anaconda3\\lib\\site-packages (from ipywidgets<9,>=7.6.0->ipyleaflet) (1.0.0)\n",
      "Requirement already satisfied: ipykernel>=4.5.1 in c:\\programdata\\anaconda3\\lib\\site-packages (from ipywidgets<9,>=7.6.0->ipyleaflet) (6.19.2)\n",
      "Requirement already satisfied: widgetsnbextension~=3.5.0 in c:\\programdata\\anaconda3\\lib\\site-packages (from ipywidgets<9,>=7.6.0->ipyleaflet) (3.5.2)\n",
      "Requirement already satisfied: traitlets>=4.3.1 in c:\\programdata\\anaconda3\\lib\\site-packages (from ipywidgets<9,>=7.6.0->ipyleaflet) (5.7.1)\n",
      "Requirement already satisfied: ipython>=4.0.0 in c:\\programdata\\anaconda3\\lib\\site-packages (from ipywidgets<9,>=7.6.0->ipyleaflet) (8.10.0)\n",
      "Requirement already satisfied: nbformat>=4.2.0 in c:\\programdata\\anaconda3\\lib\\site-packages (from ipywidgets<9,>=7.6.0->ipyleaflet) (5.7.0)\n",
      "Requirement already satisfied: tornado>=6.1 in c:\\programdata\\anaconda3\\lib\\site-packages (from ipykernel>=4.5.1->ipywidgets<9,>=7.6.0->ipyleaflet) (6.1)\n",
      "Requirement already satisfied: debugpy>=1.0 in c:\\programdata\\anaconda3\\lib\\site-packages (from ipykernel>=4.5.1->ipywidgets<9,>=7.6.0->ipyleaflet) (1.5.1)\n",
      "Requirement already satisfied: comm>=0.1.1 in c:\\programdata\\anaconda3\\lib\\site-packages (from ipykernel>=4.5.1->ipywidgets<9,>=7.6.0->ipyleaflet) (0.1.2)\n",
      "Requirement already satisfied: jupyter-client>=6.1.12 in c:\\programdata\\anaconda3\\lib\\site-packages (from ipykernel>=4.5.1->ipywidgets<9,>=7.6.0->ipyleaflet) (7.3.4)\n",
      "Requirement already satisfied: matplotlib-inline>=0.1 in c:\\programdata\\anaconda3\\lib\\site-packages (from ipykernel>=4.5.1->ipywidgets<9,>=7.6.0->ipyleaflet) (0.1.6)\n",
      "Requirement already satisfied: psutil in c:\\programdata\\anaconda3\\lib\\site-packages (from ipykernel>=4.5.1->ipywidgets<9,>=7.6.0->ipyleaflet) (5.9.0)\n",
      "Requirement already satisfied: packaging in c:\\programdata\\anaconda3\\lib\\site-packages (from ipykernel>=4.5.1->ipywidgets<9,>=7.6.0->ipyleaflet) (22.0)\n",
      "Requirement already satisfied: pyzmq>=17 in c:\\programdata\\anaconda3\\lib\\site-packages (from ipykernel>=4.5.1->ipywidgets<9,>=7.6.0->ipyleaflet) (23.2.0)\n",
      "Requirement already satisfied: nest-asyncio in c:\\programdata\\anaconda3\\lib\\site-packages (from ipykernel>=4.5.1->ipywidgets<9,>=7.6.0->ipyleaflet) (1.5.6)\n",
      "Requirement already satisfied: jedi>=0.16 in c:\\programdata\\anaconda3\\lib\\site-packages (from ipython>=4.0.0->ipywidgets<9,>=7.6.0->ipyleaflet) (0.18.1)\n",
      "Requirement already satisfied: pickleshare in c:\\programdata\\anaconda3\\lib\\site-packages (from ipython>=4.0.0->ipywidgets<9,>=7.6.0->ipyleaflet) (0.7.5)\n",
      "Requirement already satisfied: prompt-toolkit<3.1.0,>=3.0.30 in c:\\programdata\\anaconda3\\lib\\site-packages (from ipython>=4.0.0->ipywidgets<9,>=7.6.0->ipyleaflet) (3.0.36)\n",
      "Requirement already satisfied: stack-data in c:\\programdata\\anaconda3\\lib\\site-packages (from ipython>=4.0.0->ipywidgets<9,>=7.6.0->ipyleaflet) (0.2.0)\n",
      "Requirement already satisfied: decorator in c:\\programdata\\anaconda3\\lib\\site-packages (from ipython>=4.0.0->ipywidgets<9,>=7.6.0->ipyleaflet) (5.1.1)\n",
      "Requirement already satisfied: pygments>=2.4.0 in c:\\programdata\\anaconda3\\lib\\site-packages (from ipython>=4.0.0->ipywidgets<9,>=7.6.0->ipyleaflet) (2.11.2)\n",
      "Requirement already satisfied: backcall in c:\\programdata\\anaconda3\\lib\\site-packages (from ipython>=4.0.0->ipywidgets<9,>=7.6.0->ipyleaflet) (0.2.0)\n",
      "Requirement already satisfied: colorama in c:\\programdata\\anaconda3\\lib\\site-packages (from ipython>=4.0.0->ipywidgets<9,>=7.6.0->ipyleaflet) (0.4.6)\n",
      "Requirement already satisfied: jsonschema>=2.6 in c:\\programdata\\anaconda3\\lib\\site-packages (from nbformat>=4.2.0->ipywidgets<9,>=7.6.0->ipyleaflet) (4.17.3)\n",
      "Requirement already satisfied: fastjsonschema in c:\\programdata\\anaconda3\\lib\\site-packages (from nbformat>=4.2.0->ipywidgets<9,>=7.6.0->ipyleaflet) (2.16.2)\n",
      "Requirement already satisfied: jupyter-core in c:\\programdata\\anaconda3\\lib\\site-packages (from nbformat>=4.2.0->ipywidgets<9,>=7.6.0->ipyleaflet) (5.2.0)\n",
      "Requirement already satisfied: notebook>=4.4.1 in c:\\programdata\\anaconda3\\lib\\site-packages (from widgetsnbextension~=3.5.0->ipywidgets<9,>=7.6.0->ipyleaflet) (6.5.2)\n",
      "Requirement already satisfied: MarkupSafe>=2.0 in c:\\programdata\\anaconda3\\lib\\site-packages (from jinja2->branca>=0.5.0->ipyleaflet) (2.1.1)\n",
      "Requirement already satisfied: parso<0.9.0,>=0.8.0 in c:\\programdata\\anaconda3\\lib\\site-packages (from jedi>=0.16->ipython>=4.0.0->ipywidgets<9,>=7.6.0->ipyleaflet) (0.8.3)\n",
      "Requirement already satisfied: pyrsistent!=0.17.0,!=0.17.1,!=0.17.2,>=0.14.0 in c:\\programdata\\anaconda3\\lib\\site-packages (from jsonschema>=2.6->nbformat>=4.2.0->ipywidgets<9,>=7.6.0->ipyleaflet) (0.18.0)\n",
      "Requirement already satisfied: attrs>=17.4.0 in c:\\programdata\\anaconda3\\lib\\site-packages (from jsonschema>=2.6->nbformat>=4.2.0->ipywidgets<9,>=7.6.0->ipyleaflet) (22.1.0)\n",
      "Requirement already satisfied: python-dateutil>=2.8.2 in c:\\programdata\\anaconda3\\lib\\site-packages (from jupyter-client>=6.1.12->ipykernel>=4.5.1->ipywidgets<9,>=7.6.0->ipyleaflet) (2.8.2)\n",
      "Requirement already satisfied: entrypoints in c:\\programdata\\anaconda3\\lib\\site-packages (from jupyter-client>=6.1.12->ipykernel>=4.5.1->ipywidgets<9,>=7.6.0->ipyleaflet) (0.4)\n",
      "Requirement already satisfied: pywin32>=1.0 in c:\\programdata\\anaconda3\\lib\\site-packages (from jupyter-core->nbformat>=4.2.0->ipywidgets<9,>=7.6.0->ipyleaflet) (305.1)\n",
      "Requirement already satisfied: platformdirs>=2.5 in c:\\programdata\\anaconda3\\lib\\site-packages (from jupyter-core->nbformat>=4.2.0->ipywidgets<9,>=7.6.0->ipyleaflet) (2.5.2)\n",
      "Requirement already satisfied: nbconvert>=5 in c:\\programdata\\anaconda3\\lib\\site-packages (from notebook>=4.4.1->widgetsnbextension~=3.5.0->ipywidgets<9,>=7.6.0->ipyleaflet) (6.5.4)\n",
      "Requirement already satisfied: Send2Trash>=1.8.0 in c:\\programdata\\anaconda3\\lib\\site-packages (from notebook>=4.4.1->widgetsnbextension~=3.5.0->ipywidgets<9,>=7.6.0->ipyleaflet) (1.8.0)\n",
      "Requirement already satisfied: prometheus-client in c:\\programdata\\anaconda3\\lib\\site-packages (from notebook>=4.4.1->widgetsnbextension~=3.5.0->ipywidgets<9,>=7.6.0->ipyleaflet) (0.14.1)\n",
      "Requirement already satisfied: argon2-cffi in c:\\programdata\\anaconda3\\lib\\site-packages (from notebook>=4.4.1->widgetsnbextension~=3.5.0->ipywidgets<9,>=7.6.0->ipyleaflet) (21.3.0)\n",
      "Requirement already satisfied: nbclassic>=0.4.7 in c:\\programdata\\anaconda3\\lib\\site-packages (from notebook>=4.4.1->widgetsnbextension~=3.5.0->ipywidgets<9,>=7.6.0->ipyleaflet) (0.5.2)\n",
      "Requirement already satisfied: terminado>=0.8.3 in c:\\programdata\\anaconda3\\lib\\site-packages (from notebook>=4.4.1->widgetsnbextension~=3.5.0->ipywidgets<9,>=7.6.0->ipyleaflet) (0.17.1)\n",
      "Requirement already satisfied: wcwidth in c:\\programdata\\anaconda3\\lib\\site-packages (from prompt-toolkit<3.1.0,>=3.0.30->ipython>=4.0.0->ipywidgets<9,>=7.6.0->ipyleaflet) (0.2.5)\n",
      "Requirement already satisfied: asttokens in c:\\programdata\\anaconda3\\lib\\site-packages (from stack-data->ipython>=4.0.0->ipywidgets<9,>=7.6.0->ipyleaflet) (2.0.5)\n",
      "Requirement already satisfied: pure-eval in c:\\programdata\\anaconda3\\lib\\site-packages (from stack-data->ipython>=4.0.0->ipywidgets<9,>=7.6.0->ipyleaflet) (0.2.2)\n",
      "Requirement already satisfied: executing in c:\\programdata\\anaconda3\\lib\\site-packages (from stack-data->ipython>=4.0.0->ipywidgets<9,>=7.6.0->ipyleaflet) (0.8.3)\n",
      "Requirement already satisfied: notebook-shim>=0.1.0 in c:\\programdata\\anaconda3\\lib\\site-packages (from nbclassic>=0.4.7->notebook>=4.4.1->widgetsnbextension~=3.5.0->ipywidgets<9,>=7.6.0->ipyleaflet) (0.2.2)\n",
      "Requirement already satisfied: jupyter-server>=1.8 in c:\\programdata\\anaconda3\\lib\\site-packages (from nbclassic>=0.4.7->notebook>=4.4.1->widgetsnbextension~=3.5.0->ipywidgets<9,>=7.6.0->ipyleaflet) (1.23.4)\n",
      "Requirement already satisfied: pandocfilters>=1.4.1 in c:\\programdata\\anaconda3\\lib\\site-packages (from nbconvert>=5->notebook>=4.4.1->widgetsnbextension~=3.5.0->ipywidgets<9,>=7.6.0->ipyleaflet) (1.5.0)\n",
      "Requirement already satisfied: tinycss2 in c:\\programdata\\anaconda3\\lib\\site-packages (from nbconvert>=5->notebook>=4.4.1->widgetsnbextension~=3.5.0->ipywidgets<9,>=7.6.0->ipyleaflet) (1.2.1)\n",
      "Requirement already satisfied: bleach in c:\\programdata\\anaconda3\\lib\\site-packages (from nbconvert>=5->notebook>=4.4.1->widgetsnbextension~=3.5.0->ipywidgets<9,>=7.6.0->ipyleaflet) (4.1.0)\n",
      "Requirement already satisfied: lxml in c:\\programdata\\anaconda3\\lib\\site-packages (from nbconvert>=5->notebook>=4.4.1->widgetsnbextension~=3.5.0->ipywidgets<9,>=7.6.0->ipyleaflet) (4.9.1)\n",
      "Requirement already satisfied: jupyterlab-pygments in c:\\programdata\\anaconda3\\lib\\site-packages (from nbconvert>=5->notebook>=4.4.1->widgetsnbextension~=3.5.0->ipywidgets<9,>=7.6.0->ipyleaflet) (0.1.2)\n",
      "Requirement already satisfied: mistune<2,>=0.8.1 in c:\\programdata\\anaconda3\\lib\\site-packages (from nbconvert>=5->notebook>=4.4.1->widgetsnbextension~=3.5.0->ipywidgets<9,>=7.6.0->ipyleaflet) (0.8.4)\n",
      "Requirement already satisfied: nbclient>=0.5.0 in c:\\programdata\\anaconda3\\lib\\site-packages (from nbconvert>=5->notebook>=4.4.1->widgetsnbextension~=3.5.0->ipywidgets<9,>=7.6.0->ipyleaflet) (0.5.13)\n",
      "Requirement already satisfied: defusedxml in c:\\programdata\\anaconda3\\lib\\site-packages (from nbconvert>=5->notebook>=4.4.1->widgetsnbextension~=3.5.0->ipywidgets<9,>=7.6.0->ipyleaflet) (0.7.1)\n",
      "Requirement already satisfied: beautifulsoup4 in c:\\programdata\\anaconda3\\lib\\site-packages (from nbconvert>=5->notebook>=4.4.1->widgetsnbextension~=3.5.0->ipywidgets<9,>=7.6.0->ipyleaflet) (4.11.1)\n",
      "Requirement already satisfied: six>=1.5 in c:\\programdata\\anaconda3\\lib\\site-packages (from python-dateutil>=2.8.2->jupyter-client>=6.1.12->ipykernel>=4.5.1->ipywidgets<9,>=7.6.0->ipyleaflet) (1.16.0)\n",
      "Requirement already satisfied: pywinpty>=1.1.0 in c:\\programdata\\anaconda3\\lib\\site-packages (from terminado>=0.8.3->notebook>=4.4.1->widgetsnbextension~=3.5.0->ipywidgets<9,>=7.6.0->ipyleaflet) (2.0.10)\n",
      "Requirement already satisfied: argon2-cffi-bindings in c:\\programdata\\anaconda3\\lib\\site-packages (from argon2-cffi->notebook>=4.4.1->widgetsnbextension~=3.5.0->ipywidgets<9,>=7.6.0->ipyleaflet) (21.2.0)\n",
      "Requirement already satisfied: websocket-client in c:\\programdata\\anaconda3\\lib\\site-packages (from jupyter-server>=1.8->nbclassic>=0.4.7->notebook>=4.4.1->widgetsnbextension~=3.5.0->ipywidgets<9,>=7.6.0->ipyleaflet) (0.58.0)\n",
      "Requirement already satisfied: anyio<4,>=3.1.0 in c:\\programdata\\anaconda3\\lib\\site-packages (from jupyter-server>=1.8->nbclassic>=0.4.7->notebook>=4.4.1->widgetsnbextension~=3.5.0->ipywidgets<9,>=7.6.0->ipyleaflet) (3.5.0)\n",
      "Requirement already satisfied: cffi>=1.0.1 in c:\\programdata\\anaconda3\\lib\\site-packages (from argon2-cffi-bindings->argon2-cffi->notebook>=4.4.1->widgetsnbextension~=3.5.0->ipywidgets<9,>=7.6.0->ipyleaflet) (1.15.1)\n",
      "Requirement already satisfied: soupsieve>1.2 in c:\\programdata\\anaconda3\\lib\\site-packages (from beautifulsoup4->nbconvert>=5->notebook>=4.4.1->widgetsnbextension~=3.5.0->ipywidgets<9,>=7.6.0->ipyleaflet) (2.3.2.post1)\n",
      "Requirement already satisfied: webencodings in c:\\programdata\\anaconda3\\lib\\site-packages (from bleach->nbconvert>=5->notebook>=4.4.1->widgetsnbextension~=3.5.0->ipywidgets<9,>=7.6.0->ipyleaflet) (0.5.1)\n",
      "Requirement already satisfied: idna>=2.8 in c:\\programdata\\anaconda3\\lib\\site-packages (from anyio<4,>=3.1.0->jupyter-server>=1.8->nbclassic>=0.4.7->notebook>=4.4.1->widgetsnbextension~=3.5.0->ipywidgets<9,>=7.6.0->ipyleaflet) (3.4)\n",
      "Requirement already satisfied: sniffio>=1.1 in c:\\programdata\\anaconda3\\lib\\site-packages (from anyio<4,>=3.1.0->jupyter-server>=1.8->nbclassic>=0.4.7->notebook>=4.4.1->widgetsnbextension~=3.5.0->ipywidgets<9,>=7.6.0->ipyleaflet) (1.2.0)\n",
      "Requirement already satisfied: pycparser in c:\\programdata\\anaconda3\\lib\\site-packages (from cffi>=1.0.1->argon2-cffi-bindings->argon2-cffi->notebook>=4.4.1->widgetsnbextension~=3.5.0->ipywidgets<9,>=7.6.0->ipyleaflet) (2.21)\n",
      "Installing collected packages: xyzservices, traittypes, branca, ipyleaflet\n",
      "Successfully installed branca-0.6.0 ipyleaflet-0.17.3 traittypes-0.2.1 xyzservices-2023.5.0\n"
     ]
    },
    {
     "name": "stdout",
     "output_type": "stream",
     "text": [
      "Defaulting to user installation because normal site-packages is not writeable\n",
      "Requirement already satisfied: ipywidgets in c:\\programdata\\anaconda3\\lib\\site-packages (7.6.5)\n",
      "Requirement already satisfied: ipykernel>=4.5.1 in c:\\programdata\\anaconda3\\lib\\site-packages (from ipywidgets) (6.19.2)\n",
      "Requirement already satisfied: nbformat>=4.2.0 in c:\\programdata\\anaconda3\\lib\\site-packages (from ipywidgets) (5.7.0)\n",
      "Requirement already satisfied: ipython-genutils~=0.2.0 in c:\\programdata\\anaconda3\\lib\\site-packages (from ipywidgets) (0.2.0)\n",
      "Requirement already satisfied: traitlets>=4.3.1 in c:\\programdata\\anaconda3\\lib\\site-packages (from ipywidgets) (5.7.1)\n",
      "Requirement already satisfied: ipython>=4.0.0 in c:\\programdata\\anaconda3\\lib\\site-packages (from ipywidgets) (8.10.0)\n",
      "Requirement already satisfied: jupyterlab-widgets>=1.0.0 in c:\\programdata\\anaconda3\\lib\\site-packages (from ipywidgets) (1.0.0)\n",
      "Requirement already satisfied: widgetsnbextension~=3.5.0 in c:\\programdata\\anaconda3\\lib\\site-packages (from ipywidgets) (3.5.2)\n",
      "Requirement already satisfied: psutil in c:\\programdata\\anaconda3\\lib\\site-packages (from ipykernel>=4.5.1->ipywidgets) (5.9.0)\n",
      "Requirement already satisfied: packaging in c:\\programdata\\anaconda3\\lib\\site-packages (from ipykernel>=4.5.1->ipywidgets) (22.0)\n",
      "Requirement already satisfied: matplotlib-inline>=0.1 in c:\\programdata\\anaconda3\\lib\\site-packages (from ipykernel>=4.5.1->ipywidgets) (0.1.6)\n",
      "Requirement already satisfied: pyzmq>=17 in c:\\programdata\\anaconda3\\lib\\site-packages (from ipykernel>=4.5.1->ipywidgets) (23.2.0)\n",
      "Requirement already satisfied: jupyter-client>=6.1.12 in c:\\programdata\\anaconda3\\lib\\site-packages (from ipykernel>=4.5.1->ipywidgets) (7.3.4)\n",
      "Requirement already satisfied: nest-asyncio in c:\\programdata\\anaconda3\\lib\\site-packages (from ipykernel>=4.5.1->ipywidgets) (1.5.6)\n",
      "Requirement already satisfied: tornado>=6.1 in c:\\programdata\\anaconda3\\lib\\site-packages (from ipykernel>=4.5.1->ipywidgets) (6.1)\n",
      "Requirement already satisfied: comm>=0.1.1 in c:\\programdata\\anaconda3\\lib\\site-packages (from ipykernel>=4.5.1->ipywidgets) (0.1.2)\n",
      "Requirement already satisfied: debugpy>=1.0 in c:\\programdata\\anaconda3\\lib\\site-packages (from ipykernel>=4.5.1->ipywidgets) (1.5.1)\n",
      "Requirement already satisfied: prompt-toolkit<3.1.0,>=3.0.30 in c:\\programdata\\anaconda3\\lib\\site-packages (from ipython>=4.0.0->ipywidgets) (3.0.36)\n",
      "Requirement already satisfied: jedi>=0.16 in c:\\programdata\\anaconda3\\lib\\site-packages (from ipython>=4.0.0->ipywidgets) (0.18.1)\n",
      "Requirement already satisfied: stack-data in c:\\programdata\\anaconda3\\lib\\site-packages (from ipython>=4.0.0->ipywidgets) (0.2.0)\n",
      "Requirement already satisfied: pygments>=2.4.0 in c:\\programdata\\anaconda3\\lib\\site-packages (from ipython>=4.0.0->ipywidgets) (2.11.2)\n",
      "Requirement already satisfied: colorama in c:\\programdata\\anaconda3\\lib\\site-packages (from ipython>=4.0.0->ipywidgets) (0.4.6)\n",
      "Requirement already satisfied: decorator in c:\\programdata\\anaconda3\\lib\\site-packages (from ipython>=4.0.0->ipywidgets) (5.1.1)\n",
      "Requirement already satisfied: backcall in c:\\programdata\\anaconda3\\lib\\site-packages (from ipython>=4.0.0->ipywidgets) (0.2.0)\n",
      "Requirement already satisfied: pickleshare in c:\\programdata\\anaconda3\\lib\\site-packages (from ipython>=4.0.0->ipywidgets) (0.7.5)\n",
      "Requirement already satisfied: jupyter-core in c:\\programdata\\anaconda3\\lib\\site-packages (from nbformat>=4.2.0->ipywidgets) (5.2.0)\n",
      "Requirement already satisfied: jsonschema>=2.6 in c:\\programdata\\anaconda3\\lib\\site-packages (from nbformat>=4.2.0->ipywidgets) (4.17.3)\n",
      "Requirement already satisfied: fastjsonschema in c:\\programdata\\anaconda3\\lib\\site-packages (from nbformat>=4.2.0->ipywidgets) (2.16.2)\n",
      "Requirement already satisfied: notebook>=4.4.1 in c:\\programdata\\anaconda3\\lib\\site-packages (from widgetsnbextension~=3.5.0->ipywidgets) (6.5.2)\n",
      "Requirement already satisfied: parso<0.9.0,>=0.8.0 in c:\\programdata\\anaconda3\\lib\\site-packages (from jedi>=0.16->ipython>=4.0.0->ipywidgets) (0.8.3)\n",
      "Requirement already satisfied: pyrsistent!=0.17.0,!=0.17.1,!=0.17.2,>=0.14.0 in c:\\programdata\\anaconda3\\lib\\site-packages (from jsonschema>=2.6->nbformat>=4.2.0->ipywidgets) (0.18.0)\n",
      "Requirement already satisfied: attrs>=17.4.0 in c:\\programdata\\anaconda3\\lib\\site-packages (from jsonschema>=2.6->nbformat>=4.2.0->ipywidgets) (22.1.0)\n",
      "Requirement already satisfied: entrypoints in c:\\programdata\\anaconda3\\lib\\site-packages (from jupyter-client>=6.1.12->ipykernel>=4.5.1->ipywidgets) (0.4)\n",
      "Requirement already satisfied: python-dateutil>=2.8.2 in c:\\programdata\\anaconda3\\lib\\site-packages (from jupyter-client>=6.1.12->ipykernel>=4.5.1->ipywidgets) (2.8.2)\n",
      "Requirement already satisfied: pywin32>=1.0 in c:\\programdata\\anaconda3\\lib\\site-packages (from jupyter-core->nbformat>=4.2.0->ipywidgets) (305.1)\n",
      "Requirement already satisfied: platformdirs>=2.5 in c:\\programdata\\anaconda3\\lib\\site-packages (from jupyter-core->nbformat>=4.2.0->ipywidgets) (2.5.2)\n",
      "Requirement already satisfied: nbconvert>=5 in c:\\programdata\\anaconda3\\lib\\site-packages (from notebook>=4.4.1->widgetsnbextension~=3.5.0->ipywidgets) (6.5.4)\n",
      "Requirement already satisfied: terminado>=0.8.3 in c:\\programdata\\anaconda3\\lib\\site-packages (from notebook>=4.4.1->widgetsnbextension~=3.5.0->ipywidgets) (0.17.1)\n",
      "Requirement already satisfied: jinja2 in c:\\programdata\\anaconda3\\lib\\site-packages (from notebook>=4.4.1->widgetsnbextension~=3.5.0->ipywidgets) (3.1.2)\n",
      "Requirement already satisfied: prometheus-client in c:\\programdata\\anaconda3\\lib\\site-packages (from notebook>=4.4.1->widgetsnbextension~=3.5.0->ipywidgets) (0.14.1)\n",
      "Requirement already satisfied: argon2-cffi in c:\\programdata\\anaconda3\\lib\\site-packages (from notebook>=4.4.1->widgetsnbextension~=3.5.0->ipywidgets) (21.3.0)\n",
      "Requirement already satisfied: nbclassic>=0.4.7 in c:\\programdata\\anaconda3\\lib\\site-packages (from notebook>=4.4.1->widgetsnbextension~=3.5.0->ipywidgets) (0.5.2)\n",
      "Requirement already satisfied: Send2Trash>=1.8.0 in c:\\programdata\\anaconda3\\lib\\site-packages (from notebook>=4.4.1->widgetsnbextension~=3.5.0->ipywidgets) (1.8.0)\n",
      "Requirement already satisfied: wcwidth in c:\\programdata\\anaconda3\\lib\\site-packages (from prompt-toolkit<3.1.0,>=3.0.30->ipython>=4.0.0->ipywidgets) (0.2.5)\n",
      "Requirement already satisfied: executing in c:\\programdata\\anaconda3\\lib\\site-packages (from stack-data->ipython>=4.0.0->ipywidgets) (0.8.3)\n",
      "Requirement already satisfied: asttokens in c:\\programdata\\anaconda3\\lib\\site-packages (from stack-data->ipython>=4.0.0->ipywidgets) (2.0.5)\n",
      "Requirement already satisfied: pure-eval in c:\\programdata\\anaconda3\\lib\\site-packages (from stack-data->ipython>=4.0.0->ipywidgets) (0.2.2)\n",
      "Requirement already satisfied: notebook-shim>=0.1.0 in c:\\programdata\\anaconda3\\lib\\site-packages (from nbclassic>=0.4.7->notebook>=4.4.1->widgetsnbextension~=3.5.0->ipywidgets) (0.2.2)\n",
      "Requirement already satisfied: jupyter-server>=1.8 in c:\\programdata\\anaconda3\\lib\\site-packages (from nbclassic>=0.4.7->notebook>=4.4.1->widgetsnbextension~=3.5.0->ipywidgets) (1.23.4)\n",
      "Requirement already satisfied: beautifulsoup4 in c:\\programdata\\anaconda3\\lib\\site-packages (from nbconvert>=5->notebook>=4.4.1->widgetsnbextension~=3.5.0->ipywidgets) (4.11.1)\n",
      "Requirement already satisfied: defusedxml in c:\\programdata\\anaconda3\\lib\\site-packages (from nbconvert>=5->notebook>=4.4.1->widgetsnbextension~=3.5.0->ipywidgets) (0.7.1)\n",
      "Requirement already satisfied: mistune<2,>=0.8.1 in c:\\programdata\\anaconda3\\lib\\site-packages (from nbconvert>=5->notebook>=4.4.1->widgetsnbextension~=3.5.0->ipywidgets) (0.8.4)\n",
      "Requirement already satisfied: jupyterlab-pygments in c:\\programdata\\anaconda3\\lib\\site-packages (from nbconvert>=5->notebook>=4.4.1->widgetsnbextension~=3.5.0->ipywidgets) (0.1.2)\n",
      "Requirement already satisfied: bleach in c:\\programdata\\anaconda3\\lib\\site-packages (from nbconvert>=5->notebook>=4.4.1->widgetsnbextension~=3.5.0->ipywidgets) (4.1.0)\n",
      "Requirement already satisfied: tinycss2 in c:\\programdata\\anaconda3\\lib\\site-packages (from nbconvert>=5->notebook>=4.4.1->widgetsnbextension~=3.5.0->ipywidgets) (1.2.1)\n",
      "Requirement already satisfied: nbclient>=0.5.0 in c:\\programdata\\anaconda3\\lib\\site-packages (from nbconvert>=5->notebook>=4.4.1->widgetsnbextension~=3.5.0->ipywidgets) (0.5.13)\n",
      "Requirement already satisfied: lxml in c:\\programdata\\anaconda3\\lib\\site-packages (from nbconvert>=5->notebook>=4.4.1->widgetsnbextension~=3.5.0->ipywidgets) (4.9.1)\n",
      "Requirement already satisfied: pandocfilters>=1.4.1 in c:\\programdata\\anaconda3\\lib\\site-packages (from nbconvert>=5->notebook>=4.4.1->widgetsnbextension~=3.5.0->ipywidgets) (1.5.0)\n",
      "Requirement already satisfied: MarkupSafe>=2.0 in c:\\programdata\\anaconda3\\lib\\site-packages (from nbconvert>=5->notebook>=4.4.1->widgetsnbextension~=3.5.0->ipywidgets) (2.1.1)\n",
      "Requirement already satisfied: six>=1.5 in c:\\programdata\\anaconda3\\lib\\site-packages (from python-dateutil>=2.8.2->jupyter-client>=6.1.12->ipykernel>=4.5.1->ipywidgets) (1.16.0)\n",
      "Requirement already satisfied: pywinpty>=1.1.0 in c:\\programdata\\anaconda3\\lib\\site-packages (from terminado>=0.8.3->notebook>=4.4.1->widgetsnbextension~=3.5.0->ipywidgets) (2.0.10)\n",
      "Requirement already satisfied: argon2-cffi-bindings in c:\\programdata\\anaconda3\\lib\\site-packages (from argon2-cffi->notebook>=4.4.1->widgetsnbextension~=3.5.0->ipywidgets) (21.2.0)\n",
      "Requirement already satisfied: websocket-client in c:\\programdata\\anaconda3\\lib\\site-packages (from jupyter-server>=1.8->nbclassic>=0.4.7->notebook>=4.4.1->widgetsnbextension~=3.5.0->ipywidgets) (0.58.0)\n",
      "Requirement already satisfied: anyio<4,>=3.1.0 in c:\\programdata\\anaconda3\\lib\\site-packages (from jupyter-server>=1.8->nbclassic>=0.4.7->notebook>=4.4.1->widgetsnbextension~=3.5.0->ipywidgets) (3.5.0)\n",
      "Requirement already satisfied: cffi>=1.0.1 in c:\\programdata\\anaconda3\\lib\\site-packages (from argon2-cffi-bindings->argon2-cffi->notebook>=4.4.1->widgetsnbextension~=3.5.0->ipywidgets) (1.15.1)\n",
      "Requirement already satisfied: soupsieve>1.2 in c:\\programdata\\anaconda3\\lib\\site-packages (from beautifulsoup4->nbconvert>=5->notebook>=4.4.1->widgetsnbextension~=3.5.0->ipywidgets) (2.3.2.post1)\n",
      "Requirement already satisfied: webencodings in c:\\programdata\\anaconda3\\lib\\site-packages (from bleach->nbconvert>=5->notebook>=4.4.1->widgetsnbextension~=3.5.0->ipywidgets) (0.5.1)\n",
      "Requirement already satisfied: idna>=2.8 in c:\\programdata\\anaconda3\\lib\\site-packages (from anyio<4,>=3.1.0->jupyter-server>=1.8->nbclassic>=0.4.7->notebook>=4.4.1->widgetsnbextension~=3.5.0->ipywidgets) (3.4)\n",
      "Requirement already satisfied: sniffio>=1.1 in c:\\programdata\\anaconda3\\lib\\site-packages (from anyio<4,>=3.1.0->jupyter-server>=1.8->nbclassic>=0.4.7->notebook>=4.4.1->widgetsnbextension~=3.5.0->ipywidgets) (1.2.0)\n",
      "Requirement already satisfied: pycparser in c:\\programdata\\anaconda3\\lib\\site-packages (from cffi>=1.0.1->argon2-cffi-bindings->argon2-cffi->notebook>=4.4.1->widgetsnbextension~=3.5.0->ipywidgets) (2.21)\n"
     ]
    }
   ],
   "source": [
    "#  установка библиотек для вывода карты\n",
    "# !pip install ipyleaflet\n",
    "# !pip install ipywidgets"
   ]
  },
  {
   "cell_type": "code",
   "execution_count": 1,
   "id": "151bd0c3",
   "metadata": {},
   "outputs": [],
   "source": [
    "import pandas as pd\n",
    "import numpy as np\n",
    "import datetime\n",
    "from math import sqrt\n",
    "\n",
    "from sklearn.model_selection import train_test_split\n",
    "from sklearn.metrics import mean_squared_error\n",
    "from sklearn.linear_model import LinearRegression\n",
    "from sklearn.metrics import mean_absolute_error, mean_absolute_percentage_error\n",
    "\n",
    "# импорт библиотек для вывода карты с координатами аэропортов\n",
    "from ipywidgets import HTML\n",
    "from ipyleaflet import Map, Marker, Popup"
   ]
  },
  {
   "cell_type": "markdown",
   "id": "8e482189",
   "metadata": {},
   "source": [
    "# Обзор данных"
   ]
  },
  {
   "cell_type": "markdown",
   "id": "580e1ef1",
   "metadata": {},
   "source": [
    "## Импорт данных"
   ]
  },
  {
   "cell_type": "code",
   "execution_count": 2,
   "id": "db81a97b",
   "metadata": {},
   "outputs": [],
   "source": [
    "# авиакомпании\n",
    "al_pd = pd.read_csv('airlines.csv') \n",
    "# аэропорты\n",
    "ap_pd = pd.read_csv('airports.csv') "
   ]
  },
  {
   "cell_type": "code",
   "execution_count": 3,
   "id": "38a0d59b",
   "metadata": {
    "scrolled": true
   },
   "outputs": [
    {
     "name": "stdout",
     "output_type": "stream",
     "text": [
      "CPU times: total: 25.4 s\n",
      "Wall time: 25.9 s\n"
     ]
    }
   ],
   "source": [
    "%%time\n",
    "# перелеты как есть\n",
    "fl_pd = pd.read_csv('flights.csv',low_memory=False) "
   ]
  },
  {
   "cell_type": "markdown",
   "id": "0fef5d8f",
   "metadata": {},
   "source": [
    "Проведем оптимизацию, используя методы из статей https://habr.com/ru/articles/468637/ , https://habr.com/ru/articles/467785/ и https://habr.com/ru/companies/ruvds/articles/442516/\n",
    "— object в category;\n",
    "— int64 в uint8;\n",
    "— float64 в float32."
   ]
  },
  {
   "cell_type": "code",
   "execution_count": 5,
   "id": "e8daaf48",
   "metadata": {},
   "outputs": [],
   "source": [
    "# перелеты\n",
    "# Проведем оптимизацию, используя методы из предыдущего поста и статьи:\n",
    "# — object в category;\n",
    "# — int64 в uint8;\n",
    "# — float64 в float32.\n",
    "# fl_pd = pd.read_csv('flights.csv',low_memory=False,dtype ={\n",
    "# 'YEAR':'uint8', 'MONTH':'uint8','DAY':'uint8','DAY_OF_WEEK':'uint8','AIRLINE':'category', \n",
    "# 'FLIGHT_NUMBER':'uint8','TAIL_NUMBER':'category','ORIGIN_AIRPORT':'category',\n",
    "# 'DESTINATION_AIRPORT':'category','SCHEDULED_DEPARTURE':'uint8','DEPARTURE_TIME':'float32',\n",
    "# 'DEPARTURE_DELAY':'float32','TAXI_OUT':'float32', 'WHEELS_OFF':'float32',\n",
    "# 'SCHEDULED_TIME':'float32','ELAPSED_TIME':'float32', 'AIR_TIME':'float32', 'DISTANCE':'uint8',\n",
    "# 'WHEELS_ON':'float32','TAXI_IN':'float32','SCHEDULED_ARRIVAL':'uint8','ARRIVAL_TIME':'float32',\n",
    "# 'ARRIVAL_DELAY':'float32','DIVERTED':'uint8','CANCELLED':'uint8','CANCELLATION_REASON':'category',\n",
    "# 'AIR_SYSTEM_DELAY':'float32','SECURITY_DELAY':'float32','AIRLINE_DELAY':'float32',\n",
    "# 'LATE_AIRCRAFT_DELAY':'float32','WEATHER_DELAY':'float32'\n",
    "# }) "
   ]
  },
  {
   "cell_type": "code",
   "execution_count": 4,
   "id": "e1e398b2",
   "metadata": {},
   "outputs": [
    {
     "name": "stdout",
     "output_type": "stream",
     "text": [
      "<class 'pandas.core.frame.DataFrame'>\n",
      "RangeIndex: 5819079 entries, 0 to 5819078\n",
      "Data columns (total 31 columns):\n",
      " #   Column               Dtype  \n",
      "---  ------               -----  \n",
      " 0   YEAR                 int64  \n",
      " 1   MONTH                int64  \n",
      " 2   DAY                  int64  \n",
      " 3   DAY_OF_WEEK          int64  \n",
      " 4   AIRLINE              object \n",
      " 5   FLIGHT_NUMBER        int64  \n",
      " 6   TAIL_NUMBER          object \n",
      " 7   ORIGIN_AIRPORT       object \n",
      " 8   DESTINATION_AIRPORT  object \n",
      " 9   SCHEDULED_DEPARTURE  int64  \n",
      " 10  DEPARTURE_TIME       float64\n",
      " 11  DEPARTURE_DELAY      float64\n",
      " 12  TAXI_OUT             float64\n",
      " 13  WHEELS_OFF           float64\n",
      " 14  SCHEDULED_TIME       float64\n",
      " 15  ELAPSED_TIME         float64\n",
      " 16  AIR_TIME             float64\n",
      " 17  DISTANCE             int64  \n",
      " 18  WHEELS_ON            float64\n",
      " 19  TAXI_IN              float64\n",
      " 20  SCHEDULED_ARRIVAL    int64  \n",
      " 21  ARRIVAL_TIME         float64\n",
      " 22  ARRIVAL_DELAY        float64\n",
      " 23  DIVERTED             int64  \n",
      " 24  CANCELLED            int64  \n",
      " 25  CANCELLATION_REASON  object \n",
      " 26  AIR_SYSTEM_DELAY     float64\n",
      " 27  SECURITY_DELAY       float64\n",
      " 28  AIRLINE_DELAY        float64\n",
      " 29  LATE_AIRCRAFT_DELAY  float64\n",
      " 30  WEATHER_DELAY        float64\n",
      "dtypes: float64(16), int64(10), object(5)\n",
      "memory usage: 2.6 GB\n",
      "None\n"
     ]
    }
   ],
   "source": [
    "print(fl_pd.info(memory_usage='deep'))"
   ]
  },
  {
   "cell_type": "markdown",
   "id": "fadae427",
   "metadata": {},
   "source": [
    "# Исправление кодировки аэропортов за октябрь 2015"
   ]
  },
  {
   "cell_type": "markdown",
   "id": "fe7f222f",
   "metadata": {},
   "source": [
    "## Наличие кривых кодов"
   ]
  },
  {
   "cell_type": "code",
   "execution_count": 7,
   "id": "d3d6a7f0",
   "metadata": {
    "scrolled": true
   },
   "outputs": [
    {
     "data": {
      "text/plain": [
       "array(['STL', 'TRI', 'ORD', '14869', 'CLT', 'LEX', 'SMF', 'LAX', '12266',\n",
       "       '10397', 'SFO', 'CVG', 'DFW', 'SAN', 'SLC', '14771', 'MIA', 'PHX',\n",
       "       'MDW', 'LAS', 'RIC', 'DEN', 'DAL', 'CLE', 'LNK', 'SEA', 'JAN',\n",
       "       'MSP', 'RDM', 'EWR', '11292', 'LGA', 'OAK', 'PBI', 'MKE', 'DCA',\n",
       "       'BOS', 'SNA', 'OGG'], dtype=object)"
      ]
     },
     "execution_count": 7,
     "metadata": {},
     "output_type": "execute_result"
    }
   ],
   "source": [
    "# есть кривые кодировки\n",
    "fl_pd['ORIGIN_AIRPORT'].sample(60).unique()"
   ]
  },
  {
   "cell_type": "code",
   "execution_count": 8,
   "id": "5e7c1e84",
   "metadata": {},
   "outputs": [
    {
     "data": {
      "text/plain": [
       "array(['10397', '13930', '11140', '11259', '11292', '13342', '13198',\n",
       "       '11298'], dtype=object)"
      ]
     },
     "execution_count": 8,
     "metadata": {},
     "output_type": "execute_result"
    }
   ],
   "source": [
    "# вывод неслькольких только \"плохих\" кодов\n",
    "fl_pd[~fl_pd['ORIGIN_AIRPORT'].str.contains('^[A-Z][A-Z][A-Z]$', regex=True, na=False)].ORIGIN_AIRPORT.sample(10).unique()"
   ]
  },
  {
   "cell_type": "code",
   "execution_count": 9,
   "id": "8a06a6a0",
   "metadata": {},
   "outputs": [
    {
     "data": {
      "text/plain": [
       "306"
      ]
     },
     "execution_count": 9,
     "metadata": {},
     "output_type": "execute_result"
    }
   ],
   "source": [
    "# вывод уникальных \"плохих\" кодов\n",
    "fl_pd[~fl_pd['ORIGIN_AIRPORT'].str.contains('^[A-Z][A-Z][A-Z]$', regex=True, na=False)].ORIGIN_AIRPORT.nunique()"
   ]
  },
  {
   "cell_type": "markdown",
   "id": "532a5f23",
   "metadata": {},
   "source": [
    "## Импортируем таблицу соответствия кодов"
   ]
  },
  {
   "cell_type": "markdown",
   "id": "d3b4caaa",
   "metadata": {},
   "source": [
    "Два файла ниже взяты от сюда\n",
    "\n",
    "5-digit codes: https://www.transtats.bts.gov/FieldInfo.asp?Field_Desc=Origin%20Airport%2C%20Airport%20ID.%20An%20identification%20number%20assigned%20by%20US%20DOT%20to%20identify%20a%20unique%20airport.%20%20Use%20this%20field%20for%20airport%20analysis%20across%20a%20range%20of%20years%20because%20an%20airport%20can%20change%20its%20airport%20code%20and%20airport%20codes%20can%20be%20reused.&Field_Type=Num&Lookup_Table=L_AIRPORT_ID&Table_ID=236&SYS_Table_Name=T_ONTIME&Sys_Field_Name=ORIGIN_AIRPORT_ID\n",
    "3-letter codes: https://www.transtats.bts.gov/FieldInfo.asp?Field_Desc=Origin%20Airport&Field_Type=Char&Lookup_Table=L_AIRPORT&Table_ID=236&SYS_Table_Name=T_ONTIME&Sys_Field_Name=ORIGIN"
   ]
  },
  {
   "cell_type": "code",
   "execution_count": 5,
   "id": "66841f13",
   "metadata": {},
   "outputs": [],
   "source": [
    "d5_ap_df = pd.read_csv('L_AIRPORT_ID.csv')\n",
    "c3_ap_df = pd.read_csv('L_AIRPORT.csv')"
   ]
  },
  {
   "cell_type": "code",
   "execution_count": 6,
   "id": "9ae06e14",
   "metadata": {},
   "outputs": [
    {
     "data": {
      "text/plain": [
       "(322, 9)"
      ]
     },
     "execution_count": 6,
     "metadata": {},
     "output_type": "execute_result"
    }
   ],
   "source": [
    "# Подтягиваем описания для аэропортов США из файла L_AIRPORT.csv\n",
    "descr_ap_df = ap_pd.merge(c3_ap_df, how = 'inner', left_on = 'IATA_CODE', right_on='Code')\n",
    "descr_ap_df.shape"
   ]
  },
  {
   "cell_type": "code",
   "execution_count": 7,
   "id": "09a7ddb7",
   "metadata": {},
   "outputs": [
    {
     "data": {
      "text/html": [
       "<div>\n",
       "<style scoped>\n",
       "    .dataframe tbody tr th:only-of-type {\n",
       "        vertical-align: middle;\n",
       "    }\n",
       "\n",
       "    .dataframe tbody tr th {\n",
       "        vertical-align: top;\n",
       "    }\n",
       "\n",
       "    .dataframe thead th {\n",
       "        text-align: right;\n",
       "    }\n",
       "</style>\n",
       "<table border=\"1\" class=\"dataframe\">\n",
       "  <thead>\n",
       "    <tr style=\"text-align: right;\">\n",
       "      <th></th>\n",
       "      <th>IATA_CODE</th>\n",
       "      <th>Code_y</th>\n",
       "      <th>Code_s</th>\n",
       "    </tr>\n",
       "  </thead>\n",
       "  <tbody>\n",
       "    <tr>\n",
       "      <th>0</th>\n",
       "      <td>ABE</td>\n",
       "      <td>10135</td>\n",
       "      <td>10135</td>\n",
       "    </tr>\n",
       "    <tr>\n",
       "      <th>1</th>\n",
       "      <td>ABI</td>\n",
       "      <td>10136</td>\n",
       "      <td>10136</td>\n",
       "    </tr>\n",
       "    <tr>\n",
       "      <th>2</th>\n",
       "      <td>ABQ</td>\n",
       "      <td>10140</td>\n",
       "      <td>10140</td>\n",
       "    </tr>\n",
       "    <tr>\n",
       "      <th>3</th>\n",
       "      <td>ABR</td>\n",
       "      <td>10141</td>\n",
       "      <td>10141</td>\n",
       "    </tr>\n",
       "    <tr>\n",
       "      <th>4</th>\n",
       "      <td>ABY</td>\n",
       "      <td>10146</td>\n",
       "      <td>10146</td>\n",
       "    </tr>\n",
       "  </tbody>\n",
       "</table>\n",
       "</div>"
      ],
      "text/plain": [
       "  IATA_CODE  Code_y Code_s\n",
       "0       ABE   10135  10135\n",
       "1       ABI   10136  10136\n",
       "2       ABQ   10140  10140\n",
       "3       ABR   10141  10141\n",
       "4       ABY   10146  10146"
      ]
     },
     "execution_count": 7,
     "metadata": {},
     "output_type": "execute_result"
    }
   ],
   "source": [
    "# Подтягиваем коды по полю Description из файла L_AIRPORT_ID.csv\n",
    "cod_ap_df = descr_ap_df.merge(d5_ap_df, how = 'inner', on = 'Description')\n",
    "cod_ap_df = cod_ap_df.drop(['AIRPORT','CITY','STATE','COUNTRY','LATITUDE','LONGITUDE','Description','Code_x'],axis = 1)\n",
    "cod_ap_df['Code_s'] = cod_ap_df['Code_y'].apply(lambda x: str(x))\n",
    "cod_ap_df.head()"
   ]
  },
  {
   "cell_type": "code",
   "execution_count": 8,
   "id": "d2f9dc1b",
   "metadata": {
    "scrolled": true
   },
   "outputs": [
    {
     "data": {
      "text/html": [
       "<div>\n",
       "<style scoped>\n",
       "    .dataframe tbody tr th:only-of-type {\n",
       "        vertical-align: middle;\n",
       "    }\n",
       "\n",
       "    .dataframe tbody tr th {\n",
       "        vertical-align: top;\n",
       "    }\n",
       "\n",
       "    .dataframe thead th {\n",
       "        text-align: right;\n",
       "    }\n",
       "</style>\n",
       "<table border=\"1\" class=\"dataframe\">\n",
       "  <thead>\n",
       "    <tr style=\"text-align: right;\">\n",
       "      <th></th>\n",
       "      <th>IATA_CODE</th>\n",
       "      <th>Code_y</th>\n",
       "      <th>Code_s</th>\n",
       "    </tr>\n",
       "  </thead>\n",
       "  <tbody>\n",
       "    <tr>\n",
       "      <th>321</th>\n",
       "      <td>YUM</td>\n",
       "      <td>13785</td>\n",
       "      <td>13785</td>\n",
       "    </tr>\n",
       "    <tr>\n",
       "      <th>322</th>\n",
       "      <td>YUM</td>\n",
       "      <td>16218</td>\n",
       "      <td>16218</td>\n",
       "    </tr>\n",
       "  </tbody>\n",
       "</table>\n",
       "</div>"
      ],
      "text/plain": [
       "    IATA_CODE  Code_y Code_s\n",
       "321       YUM   13785  13785\n",
       "322       YUM   16218  16218"
      ]
     },
     "execution_count": 8,
     "metadata": {},
     "output_type": "execute_result"
    }
   ],
   "source": [
    "# есть два разных кода для 'YUM'\n",
    "cod_ap_df[(cod_ap_df['IATA_CODE']=='YUM')]"
   ]
  },
  {
   "cell_type": "code",
   "execution_count": 9,
   "id": "50230e8f",
   "metadata": {},
   "outputs": [
    {
     "data": {
      "text/html": [
       "<div>\n",
       "<style scoped>\n",
       "    .dataframe tbody tr th:only-of-type {\n",
       "        vertical-align: middle;\n",
       "    }\n",
       "\n",
       "    .dataframe tbody tr th {\n",
       "        vertical-align: top;\n",
       "    }\n",
       "\n",
       "    .dataframe thead th {\n",
       "        text-align: right;\n",
       "    }\n",
       "</style>\n",
       "<table border=\"1\" class=\"dataframe\">\n",
       "  <thead>\n",
       "    <tr style=\"text-align: right;\">\n",
       "      <th></th>\n",
       "      <th>YEAR</th>\n",
       "      <th>MONTH</th>\n",
       "      <th>DAY</th>\n",
       "      <th>DAY_OF_WEEK</th>\n",
       "      <th>AIRLINE</th>\n",
       "      <th>FLIGHT_NUMBER</th>\n",
       "      <th>TAIL_NUMBER</th>\n",
       "      <th>ORIGIN_AIRPORT</th>\n",
       "      <th>DESTINATION_AIRPORT</th>\n",
       "      <th>SCHEDULED_DEPARTURE</th>\n",
       "      <th>...</th>\n",
       "      <th>ARRIVAL_TIME</th>\n",
       "      <th>ARRIVAL_DELAY</th>\n",
       "      <th>DIVERTED</th>\n",
       "      <th>CANCELLED</th>\n",
       "      <th>CANCELLATION_REASON</th>\n",
       "      <th>AIR_SYSTEM_DELAY</th>\n",
       "      <th>SECURITY_DELAY</th>\n",
       "      <th>AIRLINE_DELAY</th>\n",
       "      <th>LATE_AIRCRAFT_DELAY</th>\n",
       "      <th>WEATHER_DELAY</th>\n",
       "    </tr>\n",
       "  </thead>\n",
       "  <tbody>\n",
       "  </tbody>\n",
       "</table>\n",
       "<p>0 rows × 31 columns</p>\n",
       "</div>"
      ],
      "text/plain": [
       "Empty DataFrame\n",
       "Columns: [YEAR, MONTH, DAY, DAY_OF_WEEK, AIRLINE, FLIGHT_NUMBER, TAIL_NUMBER, ORIGIN_AIRPORT, DESTINATION_AIRPORT, SCHEDULED_DEPARTURE, DEPARTURE_TIME, DEPARTURE_DELAY, TAXI_OUT, WHEELS_OFF, SCHEDULED_TIME, ELAPSED_TIME, AIR_TIME, DISTANCE, WHEELS_ON, TAXI_IN, SCHEDULED_ARRIVAL, ARRIVAL_TIME, ARRIVAL_DELAY, DIVERTED, CANCELLED, CANCELLATION_REASON, AIR_SYSTEM_DELAY, SECURITY_DELAY, AIRLINE_DELAY, LATE_AIRCRAFT_DELAY, WEATHER_DELAY]\n",
       "Index: []\n",
       "\n",
       "[0 rows x 31 columns]"
      ]
     },
     "execution_count": 9,
     "metadata": {},
     "output_type": "execute_result"
    }
   ],
   "source": [
    "# но один не из них (13785) не встречается в таблице полетов\n",
    "filter_list = [13785]\n",
    "fl_pd[(fl_pd['ORIGIN_AIRPORT'].isin(filter_list))|(fl_pd['DESTINATION_AIRPORT'].isin(filter_list))]"
   ]
  },
  {
   "cell_type": "markdown",
   "id": "2cbdcf2a",
   "metadata": {},
   "source": [
    "## Исправляем аэропорт вылета"
   ]
  },
  {
   "cell_type": "code",
   "execution_count": 10,
   "id": "125f7ab0",
   "metadata": {},
   "outputs": [
    {
     "name": "stdout",
     "output_type": "stream",
     "text": [
      "CPU times: total: 9.77 s\n",
      "Wall time: 9.77 s\n"
     ]
    },
    {
     "data": {
      "text/plain": [
       "(5819079, 31)"
      ]
     },
     "execution_count": 10,
     "metadata": {},
     "output_type": "execute_result"
    }
   ],
   "source": [
    "%%time\n",
    "# преобразуем все в значения в поле ORIGIN_AIRPORT в строку т.к. есть integer\n",
    "fl_pd['ORIGIN_AIRPORT_s'] = fl_pd['ORIGIN_AIRPORT'].apply(lambda x: str(x))\n",
    "# делаем левый join по ID аэропорта\n",
    "flO_df = fl_pd.merge(cod_ap_df, how = 'left', left_on = 'ORIGIN_AIRPORT_s', right_on = 'Code_s')\n",
    "# заполняем пустоты значениями из поля ORIGIN_AIRPORT\n",
    "flO_df['ORIGIN_AIRPORT_'] = flO_df['IATA_CODE'].fillna(flO_df['ORIGIN_AIRPORT_s'])\n",
    "flO_df = flO_df.drop(['ORIGIN_AIRPORT','ORIGIN_AIRPORT_s','Code_y','Code_s','IATA_CODE'],axis=1)\n",
    "flO_df.shape"
   ]
  },
  {
   "cell_type": "markdown",
   "id": "73c08bcc",
   "metadata": {},
   "source": [
    "## Исправляем аэропорт прилета"
   ]
  },
  {
   "cell_type": "code",
   "execution_count": 11,
   "id": "35400476",
   "metadata": {},
   "outputs": [
    {
     "data": {
      "text/plain": [
       "(5819079, 31)"
      ]
     },
     "execution_count": 11,
     "metadata": {},
     "output_type": "execute_result"
    }
   ],
   "source": [
    "# преобразуем все в значения в поле DESTINATION_AIRPORT в строку т.к. есть integer\n",
    "flO_df['DESTINATION_AIRPORT_s'] = flO_df['DESTINATION_AIRPORT'].apply(lambda x: str(x))\n",
    "# делаем левый join по ID аэропорта\n",
    "fl_df = flO_df.merge(cod_ap_df, how = 'left', left_on = 'DESTINATION_AIRPORT_s', right_on = 'Code_s')\n",
    "# заполняем пустоты значениями из поля DESTINATION_AIRPORT\n",
    "fl_df['DESTINATION_AIRPORT_'] = fl_df['IATA_CODE'].fillna(fl_df['DESTINATION_AIRPORT_s'])\n",
    "fl_df = fl_df.drop(['DESTINATION_AIRPORT','DESTINATION_AIRPORT_s','Code_y','Code_s','IATA_CODE'],axis=1)\n",
    "fl_df.shape"
   ]
  },
  {
   "cell_type": "code",
   "execution_count": 12,
   "id": "1ea33b1e",
   "metadata": {},
   "outputs": [
    {
     "data": {
      "text/plain": [
       "322"
      ]
     },
     "execution_count": 12,
     "metadata": {},
     "output_type": "execute_result"
    }
   ],
   "source": [
    "fl_df['DESTINATION_AIRPORT_'].nunique()"
   ]
  },
  {
   "cell_type": "markdown",
   "id": "94637fad",
   "metadata": {},
   "source": [
    "## Сохраняем исправления в файл"
   ]
  },
  {
   "cell_type": "code",
   "execution_count": 18,
   "id": "16f1d221",
   "metadata": {},
   "outputs": [],
   "source": [
    "fl_df.to_csv(r'corrected_flights.v1.csv')"
   ]
  },
  {
   "cell_type": "markdown",
   "id": "6d68ceb5",
   "metadata": {},
   "source": [
    "# Задание 1. Найти аэропорт с минимальной задержкой вылета  "
   ]
  },
  {
   "cell_type": "code",
   "execution_count": 14,
   "id": "1461177c",
   "metadata": {},
   "outputs": [],
   "source": [
    "# берем данные только по задержке рейса(не пустые) и аэропорт.\n",
    "dd_fl_df = fl_df[(fl_df['DEPARTURE_DELAY'].notna())][['ORIGIN_AIRPORT_','DEPARTURE_DELAY']]\n"
   ]
  },
  {
   "cell_type": "code",
   "execution_count": 15,
   "id": "f228cc27",
   "metadata": {},
   "outputs": [],
   "source": [
    "# считаем среднее время задержки по каждому аэропорту\n",
    "mean_dd_fl_df = dd_fl_df.groupby(['ORIGIN_AIRPORT_']).mean().sort_values('DEPARTURE_DELAY')\n"
   ]
  },
  {
   "cell_type": "markdown",
   "id": "36f99305",
   "metadata": {},
   "source": [
    "## Аэропорт с минимальным временем задержки"
   ]
  },
  {
   "cell_type": "code",
   "execution_count": 16,
   "id": "7e37b92e",
   "metadata": {},
   "outputs": [
    {
     "name": "stdout",
     "output_type": "stream",
     "text": [
      "IATA_CODE                YAK\n",
      "AIRPORT      Yakutat Airport\n",
      "CITY                 Yakutat\n",
      "STATE                     AK\n",
      "COUNTRY                  USA\n",
      "LATITUDE            59.50336\n",
      "LONGITUDE         -139.66023\n",
      "Name: 320, dtype: object\n",
      "Среднее время задержки, мин: [-6.07093185]\n"
     ]
    }
   ],
   "source": [
    "# Аэропорт с минимальным временем задержки\n",
    "ap_s = ap_pd[(ap_pd['IATA_CODE']==mean_dd_fl_df.index[0])].squeeze()\n",
    "print(ap_s)\n",
    "print(f'Среднее время задержки, мин: {mean_dd_fl_df.iloc[0].values}')\n"
   ]
  },
  {
   "cell_type": "markdown",
   "id": "aa06ccff",
   "metadata": {},
   "source": [
    "## Вывод точки координат аэропорта на карту"
   ]
  },
  {
   "cell_type": "code",
   "execution_count": 17,
   "id": "6e61e777",
   "metadata": {},
   "outputs": [
    {
     "data": {
      "text/plain": [
       "\"{'AIRPORT': 'Yakutat Airport', 'CITY': 'Yakutat', 'STATE': 'AK'}\""
      ]
     },
     "execution_count": 17,
     "metadata": {},
     "output_type": "execute_result"
    }
   ],
   "source": [
    "str(ap_s[['AIRPORT','CITY','STATE']].to_dict())"
   ]
  },
  {
   "cell_type": "code",
   "execution_count": 18,
   "id": "60760920",
   "metadata": {},
   "outputs": [
    {
     "data": {
      "application/vnd.jupyter.widget-view+json": {
       "model_id": "abc14558abf1496cae8e008f73aaa79e",
       "version_major": 2,
       "version_minor": 0
      },
      "text/plain": [
       "Map(center=[59.50336, -139.66023], controls=(ZoomControl(options=['position', 'zoom_in_text', 'zoom_in_title',…"
      ]
     },
     "metadata": {},
     "output_type": "display_data"
    }
   ],
   "source": [
    "# для отражения карты после первичной установки нужно перезапустить notebook через консоль\n",
    "point = (ap_s['LATITUDE'],ap_s['LONGITUDE'])\n",
    "m = Map(center=point, zoom=10)\n",
    "marker = Marker(location=point)\n",
    "info_box_template = \"\"\"\n",
    "<dl>\n",
    "<dt>Airport: {AIRPORT}</dt>\n",
    "<dt>City: {CITY}</dt>\n",
    "<dt>State: {STATE}</dt>\n",
    "</dl>\n",
    "\"\"\"\n",
    "locations_info  = info_box_template.format(**ap_s.to_dict())\n",
    "marker.popup = HTML(locations_info)\n",
    "# marker = Marker(location=point)\n",
    "m.add_layer(marker)\n",
    "m"
   ]
  },
  {
   "cell_type": "markdown",
   "id": "8585711e",
   "metadata": {},
   "source": [
    "# Задание 2. Самая пунктуальная авиакомпания на прилет в Los Angeles International Airport"
   ]
  },
  {
   "cell_type": "code",
   "execution_count": 19,
   "id": "bcadcb9c",
   "metadata": {},
   "outputs": [],
   "source": [
    "# код Los Angeles International Airport\n",
    "ap_code = ap_pd[(ap_pd['AIRPORT']=='Los Angeles International Airport')].IATA_CODE.iloc[0]\n",
    "# берем только данные по нужному аэропорту и столбцы: авиакомпания, время задержки прилёта.\n",
    "lax_fl_df = fl_df[(fl_df['DESTINATION_AIRPORT_']==ap_code)][['AIRLINE','ARRIVAL_DELAY']]\n",
    "# убираем строки с отсутствующими значениями \n",
    "lax_fl_df = lax_fl_df[(lax_fl_df['ARRIVAL_DELAY'].notna())]\n",
    "# время задержки берем по модулю, т.к. пунктуальность это прибытьие точно в срок без опозданий и раньше времени\n",
    "lax_fl_df['ABS_ARRIVAL_DELAY'] = lax_fl_df['ARRIVAL_DELAY'].apply(lambda x: abs(x))"
   ]
  },
  {
   "cell_type": "code",
   "execution_count": 20,
   "id": "7318406d",
   "metadata": {
    "scrolled": true
   },
   "outputs": [
    {
     "name": "stdout",
     "output_type": "stream",
     "text": [
      "Самая пунктуальная авиакомпания на прилет в Los Angeles International Airport: Alaska Airlines Inc.\n"
     ]
    }
   ],
   "source": [
    "mean_lax_fd_df = lax_fl_df.groupby('AIRLINE').mean().sort_values('ABS_ARRIVAL_DELAY')\n",
    "al_code=mean_lax_fd_df[(mean_lax_fd_df['ABS_ARRIVAL_DELAY']==mean_lax_fd_df['ABS_ARRIVAL_DELAY'].min())].index[0]\n",
    "\n",
    "airline = al_pd[(al_pd['IATA_CODE']==al_code)].AIRLINE\n",
    "print(f'Самая пунктуальная авиакомпания на прилет в Los Angeles International Airport: {str(airline.iloc[0])}')"
   ]
  },
  {
   "cell_type": "markdown",
   "id": "3cb91f84",
   "metadata": {},
   "source": [
    "# Задание 3. Найти аэропорт, где самолёты проводят больше всего времени на рулении (среднее значение)"
   ]
  },
  {
   "cell_type": "code",
   "execution_count": 21,
   "id": "cf9fe429",
   "metadata": {},
   "outputs": [],
   "source": [
    "# \"Время на руление\" указано в двух столбцах. Это TAXI_OUT(руление перед вылетом,\n",
    "# соотвественно аэропорт указан в ORIGIN_AIRPORT_) и TAXI_IN (руление после посадки,\n",
    "# соответственно аэропорт в DESTINATION_AIRPORT_)\n",
    "# taxi_out\n",
    "taxi_out_fl_df = fl_df[['ORIGIN_AIRPORT_','TAXI_OUT']]\n",
    "taxi_out_fl_df = taxi_out_fl_df.rename(columns={'ORIGIN_AIRPORT_':'AIRPORT','TAXI_OUT':'TAXI'})\n",
    "# taxi_in\n",
    "taxi_in_fl_df  = fl_df[['DESTINATION_AIRPORT_','TAXI_IN']]\n",
    "taxi_in_fl_df = taxi_in_fl_df.rename(columns={'DESTINATION_AIRPORT_':'AIRPORT','TAXI_IN':'TAXI'})\n",
    "\n",
    "taxi_df = pd.concat([taxi_out_fl_df,taxi_in_fl_df])"
   ]
  },
  {
   "cell_type": "code",
   "execution_count": 22,
   "id": "818ee1e9",
   "metadata": {
    "scrolled": true
   },
   "outputs": [],
   "source": [
    "# вычисляем среднее время руления по каждому аэропорту\n",
    "avg_taxi_df = taxi_df.groupby('AIRPORT', dropna=True).mean().sort_values(by='TAXI')\n"
   ]
  },
  {
   "cell_type": "code",
   "execution_count": 23,
   "id": "0fb40471",
   "metadata": {
    "scrolled": true
   },
   "outputs": [
    {
     "name": "stdout",
     "output_type": "stream",
     "text": [
      "IATA_CODE                                        LGA\n",
      "AIRPORT      LaGuardia Airport (Marine Air Terminal)\n",
      "CITY                                        New York\n",
      "STATE                                             NY\n",
      "COUNTRY                                          USA\n",
      "LATITUDE                                    40.77724\n",
      "LONGITUDE                                  -73.87261\n",
      "Name: 182, dtype: object\n",
      "Среднее время рулежки, мин: 17.788690735102218\n"
     ]
    },
    {
     "data": {
      "application/vnd.jupyter.widget-view+json": {
       "model_id": "7b6f439d9d9d4d009b1acb69e41da726",
       "version_major": 2,
       "version_minor": 0
      },
      "text/plain": [
       "Map(center=[40.77724, -73.87261], controls=(ZoomControl(options=['position', 'zoom_in_text', 'zoom_in_title', …"
      ]
     },
     "metadata": {},
     "output_type": "display_data"
    }
   ],
   "source": [
    "# Находим аэропорт с максимальным средним значением времени затрачиваемого на руление\n",
    "filter_s = avg_taxi_df[(avg_taxi_df['TAXI'] == avg_taxi_df['TAXI'].max())]\n",
    "ap_maxTaxi_s = ap_pd[(ap_pd['IATA_CODE'].isin(filter_s.index))].squeeze()\n",
    "# Вывод информации\n",
    "print(ap_maxTaxi_s)\n",
    "print(f'Среднее время рулежки, мин: {avg_taxi_df.TAXI.max()}')\n",
    "# Вывод карты\n",
    "str(ap_maxTaxi_s[['AIRPORT','CITY','STATE']].to_dict())\n",
    "point = (ap_maxTaxi_s['LATITUDE'],ap_maxTaxi_s['LONGITUDE'])\n",
    "m = Map(center=point, zoom=12)\n",
    "marker = Marker(location=point)\n",
    "m.add_layer(marker)\n",
    "m"
   ]
  },
  {
   "cell_type": "code",
   "execution_count": 56,
   "id": "e7b28110",
   "metadata": {},
   "outputs": [
    {
     "name": "stdout",
     "output_type": "stream",
     "text": [
      "IATA_CODE                  CNY\n",
      "AIRPORT      Canyonlands Field\n",
      "CITY                      Moab\n",
      "STATE                       UT\n",
      "COUNTRY                    USA\n",
      "LATITUDE              38.75496\n",
      "LONGITUDE           -109.75484\n",
      "Name: 70, dtype: object\n",
      "Среднее время рулежки, мин: 4.626829268292683\n"
     ]
    },
    {
     "data": {
      "application/vnd.jupyter.widget-view+json": {
       "model_id": "43410993b4344cb5ad662c5d0684079a",
       "version_major": 2,
       "version_minor": 0
      },
      "text/plain": [
       "Map(center=[38.75496, -109.75484], controls=(ZoomControl(options=['position', 'zoom_in_text', 'zoom_in_title',…"
      ]
     },
     "metadata": {},
     "output_type": "display_data"
    }
   ],
   "source": [
    "# посмотрим аэропорты с минимальным  значениями\n",
    "# Находим аэропорт с максимальным средним значением времени затрачиваемого на руление\n",
    "filter_s = avg_taxi_df[(avg_taxi_df['TAXI'] == avg_taxi_df['TAXI'].min())]\n",
    "ap_maxTaxi_s = ap_pd[(ap_pd['IATA_CODE'].isin(filter_s.index))].squeeze()\n",
    "# Вывод информации\n",
    "print(ap_maxTaxi_s)\n",
    "print(f'Среднее время рулежки, мин: {avg_taxi_df.TAXI.min()}')\n",
    "# Вывод карты\n",
    "str(ap_maxTaxi_s[['AIRPORT','CITY','STATE']].to_dict())\n",
    "point = (ap_maxTaxi_s['LATITUDE'],ap_maxTaxi_s['LONGITUDE'])\n",
    "m = Map(center=point, zoom=12)\n",
    "marker = Marker(location=point)\n",
    "m.add_layer(marker)\n",
    "m"
   ]
  },
  {
   "cell_type": "markdown",
   "id": "2d85a87c",
   "metadata": {},
   "source": [
    "# Модель которая будет выбирать топ 3 аэропорта прилета (вероятность опоздания минимальная – RMSE метрика),  в зависимости от аэропорта вылета  \n"
   ]
  },
  {
   "cell_type": "markdown",
   "id": "d7edfaba",
   "metadata": {},
   "source": [
    "## Решение с использованием TimeSeries"
   ]
  },
  {
   "cell_type": "code",
   "execution_count": 25,
   "id": "402def37",
   "metadata": {},
   "outputs": [],
   "source": [
    "# функции\n",
    "# сборка поля даты\n",
    "def make_date(df):\n",
    "    return datetime.date(df.YEAR, df.MONTH, df.DAY)\n",
    "\n",
    "# создаем фичи для прогнозирования в зависимости от n предыдущих дней\n",
    "def make_features(data, max_lag, rolling_mean_size):\n",
    "    data['year'] = data.dDate.dt.year\n",
    "    data['month'] = data.dDate.dt.month\n",
    "    data['day'] = data.dDate.dt.day\n",
    "    data['dayofweek'] = data.dDate.dt.dayofweek\n",
    "    for lag in range(1, max_lag + 1):\n",
    "        data['lag_{}'.format(lag)] = data['ARRIVAL_DELAY'].shift(lag)\n",
    "\n",
    "# создаем фичи для прогнозирования в зависимости от n предыдущих дней + m среднее\n",
    "def make_features_rl(data, max_lag, rolling_mean_size):\n",
    "    data['year'] = data.dDate.dt.year\n",
    "    data['month'] = data.dDate.dt.month\n",
    "    data['day'] = data.dDate.dt.day\n",
    "    data['dayofweek'] = data.dDate.dt.dayofweek\n",
    "    for lag in range(1, max_lag + 1):\n",
    "        data['lag_{}'.format(lag)] = data['ARRIVAL_DELAY'].shift(lag)\n",
    "    \n",
    "    data['roll_mean'] = data['ARRIVAL_DELAY'].shift().rolling(rolling_mean_size).mean()\n",
    "    "
   ]
  },
  {
   "cell_type": "code",
   "execution_count": 26,
   "id": "8f85ecc3",
   "metadata": {},
   "outputs": [
    {
     "name": "stdout",
     "output_type": "stream",
     "text": [
      "CPU times: total: 6min 42s\n",
      "Wall time: 6min 48s\n"
     ]
    }
   ],
   "source": [
    "%%time\n",
    "#собираем поле в формате даты\n",
    "fl_df['dDate'] = fl_df.apply(make_date,axis = 1)"
   ]
  },
  {
   "cell_type": "code",
   "execution_count": 27,
   "id": "f65dc10b",
   "metadata": {
    "scrolled": true
   },
   "outputs": [
    {
     "name": "stdout",
     "output_type": "stream",
     "text": [
      "CPU times: total: 1.83 s\n",
      "Wall time: 1.88 s\n"
     ]
    }
   ],
   "source": [
    "%%time\n",
    "sum_fl_df = fl_df.groupby(['dDate','DESTINATION_AIRPORT_'])['ARRIVAL_DELAY'].mean().reset_index()\n",
    "sum_fl_df['dDate'] = pd.to_datetime(sum_fl_df['dDate'])"
   ]
  },
  {
   "cell_type": "markdown",
   "id": "98317bed",
   "metadata": {},
   "source": [
    "Проверка точности построения модели для 1 аэропорта(подбор параметров)"
   ]
  },
  {
   "cell_type": "code",
   "execution_count": 40,
   "id": "41af0be0",
   "metadata": {},
   "outputs": [
    {
     "name": "stdout",
     "output_type": "stream",
     "text": [
      "RSME = 21.525254583326902\n",
      "CPU times: total: 109 ms\n",
      "Wall time: 62 ms\n"
     ]
    },
    {
     "data": {
      "text/html": [
       "<div>\n",
       "<style scoped>\n",
       "    .dataframe tbody tr th:only-of-type {\n",
       "        vertical-align: middle;\n",
       "    }\n",
       "\n",
       "    .dataframe tbody tr th {\n",
       "        vertical-align: top;\n",
       "    }\n",
       "\n",
       "    .dataframe thead th {\n",
       "        text-align: right;\n",
       "    }\n",
       "</style>\n",
       "<table border=\"1\" class=\"dataframe\">\n",
       "  <thead>\n",
       "    <tr style=\"text-align: right;\">\n",
       "      <th></th>\n",
       "      <th>real</th>\n",
       "      <th>pred</th>\n",
       "    </tr>\n",
       "    <tr>\n",
       "      <th>dDate</th>\n",
       "      <th></th>\n",
       "      <th></th>\n",
       "    </tr>\n",
       "  </thead>\n",
       "  <tbody>\n",
       "    <tr>\n",
       "      <th>2015-12-21</th>\n",
       "      <td>-5.317343</td>\n",
       "      <td>9.388166</td>\n",
       "    </tr>\n",
       "    <tr>\n",
       "      <th>2015-12-22</th>\n",
       "      <td>-2.479705</td>\n",
       "      <td>-3.186111</td>\n",
       "    </tr>\n",
       "    <tr>\n",
       "      <th>2015-11-19</th>\n",
       "      <td>60.820084</td>\n",
       "      <td>4.460006</td>\n",
       "    </tr>\n",
       "    <tr>\n",
       "      <th>2015-12-16</th>\n",
       "      <td>-10.922535</td>\n",
       "      <td>-4.307094</td>\n",
       "    </tr>\n",
       "    <tr>\n",
       "      <th>2015-12-15</th>\n",
       "      <td>-4.494585</td>\n",
       "      <td>26.197966</td>\n",
       "    </tr>\n",
       "    <tr>\n",
       "      <th>2015-12-14</th>\n",
       "      <td>81.139831</td>\n",
       "      <td>2.776876</td>\n",
       "    </tr>\n",
       "    <tr>\n",
       "      <th>2015-12-10</th>\n",
       "      <td>-5.809028</td>\n",
       "      <td>2.152143</td>\n",
       "    </tr>\n",
       "    <tr>\n",
       "      <th>2015-12-19</th>\n",
       "      <td>8.913462</td>\n",
       "      <td>-7.105688</td>\n",
       "    </tr>\n",
       "    <tr>\n",
       "      <th>2015-12-07</th>\n",
       "      <td>0.138298</td>\n",
       "      <td>4.626276</td>\n",
       "    </tr>\n",
       "    <tr>\n",
       "      <th>2015-12-26</th>\n",
       "      <td>8.258065</td>\n",
       "      <td>0.351855</td>\n",
       "    </tr>\n",
       "  </tbody>\n",
       "</table>\n",
       "</div>"
      ],
      "text/plain": [
       "                 real       pred\n",
       "dDate                           \n",
       "2015-12-21  -5.317343   9.388166\n",
       "2015-12-22  -2.479705  -3.186111\n",
       "2015-11-19  60.820084   4.460006\n",
       "2015-12-16 -10.922535  -4.307094\n",
       "2015-12-15  -4.494585  26.197966\n",
       "2015-12-14  81.139831   2.776876\n",
       "2015-12-10  -5.809028   2.152143\n",
       "2015-12-19   8.913462  -7.105688\n",
       "2015-12-07   0.138298   4.626276\n",
       "2015-12-26   8.258065   0.351855"
      ]
     },
     "execution_count": 40,
     "metadata": {},
     "output_type": "execute_result"
    }
   ],
   "source": [
    "%%time\n",
    "# модель для одного аэропорта, например LGA\n",
    "tempo = sum_fl_df[sum_fl_df.DESTINATION_AIRPORT_=='LGA'][['dDate','ARRIVAL_DELAY']]\n",
    "tempo.columns = ['dDate','ARRIVAL_DELAY']\n",
    "tempo = pd.DataFrame(tempo)\n",
    "\n",
    "try:\n",
    "    make_features_rl(tempo,11,6)\n",
    "    tempo.dropna(inplace=True)\n",
    "    tempo.set_index('dDate',inplace=True)\n",
    "\n",
    "    X_train,X_test,y_train, y_test = train_test_split(tempo.drop('ARRIVAL_DELAY', axis=1),tempo.ARRIVAL_DELAY, shuffle=False, test_size=0.20)\n",
    "\n",
    "    model_lr = LinearRegression()\n",
    "    model_lr.fit(X_train,y_train)\n",
    "\n",
    "    y_predicted_lr = model_lr.predict(X_test)\n",
    "\n",
    "except Exception as e:\n",
    "    print('Error', str(e))\n",
    "\n",
    "print('RSME =',np.sqrt(mean_squared_error(y_test, y_predicted_lr)))    \n",
    "check_df=pd.DataFrame()\n",
    "check_df['real'] = y_test\n",
    "check_df['pred']= y_predicted_lr\n",
    "check_df.sample(10)"
   ]
  },
  {
   "cell_type": "code",
   "execution_count": 41,
   "id": "c517017d",
   "metadata": {},
   "outputs": [
    {
     "name": "stdout",
     "output_type": "stream",
     "text": [
      "CPU times: total: 44.5 s\n",
      "Wall time: 11.8 s\n"
     ]
    }
   ],
   "source": [
    "%%time\n",
    "where_to_go = []\n",
    "for dest in sum_fl_df.DESTINATION_AIRPORT_.unique():\n",
    "    tempo = sum_fl_df[sum_fl_df.DESTINATION_AIRPORT_==dest][['dDate','ARRIVAL_DELAY']]\n",
    "    tempo.columns = ['dDate','ARRIVAL_DELAY']\n",
    "    tempo = pd.DataFrame(tempo)\n",
    "    \n",
    "    try:\n",
    "    \n",
    "        make_features_rl(tempo,11,6)\n",
    "        tempo.dropna(inplace=True)\n",
    "        tempo.set_index('dDate',inplace=True)\n",
    "           \n",
    "        X_train,X_test,y_train, y_test = train_test_split(tempo.drop('ARRIVAL_DELAY', axis=1),tempo.ARRIVAL_DELAY, shuffle=False, test_size=0.25)\n",
    "\n",
    "        model_lr = LinearRegression()\n",
    "        model_lr.fit(X_train,y_train)\n",
    "\n",
    "        y_predicted_lr = model_lr.predict(X_test)\n",
    "        where_to_go.append([dest,y_test.mean(),np.sqrt(mean_squared_error(y_test, y_predicted_lr))])\n",
    "\n",
    "    except Exception as e:\n",
    "        print('Error', str(e))"
   ]
  },
  {
   "cell_type": "code",
   "execution_count": 42,
   "id": "2641c9db",
   "metadata": {},
   "outputs": [
    {
     "name": "stdout",
     "output_type": "stream",
     "text": [
      "CPU times: total: 0 ns\n",
      "Wall time: 4 ms\n"
     ]
    }
   ],
   "source": [
    "%%time\n",
    "where_to_go = pd.DataFrame(where_to_go)\n",
    "where_to_go.columns = ['DESTINATION_AIRPORT','MEAN_ARRIVAL_DELAY_IN_PAST','RMSE']"
   ]
  },
  {
   "cell_type": "code",
   "execution_count": 96,
   "id": "bf807683",
   "metadata": {},
   "outputs": [
    {
     "name": "stdout",
     "output_type": "stream",
     "text": [
      "Лучшие направления с аэропорта MFR\n",
      "\n",
      "  DESTINATION_AIRPORT  MEAN_ARRIVAL_DELAY_IN_PAST       RMSE\n",
      "2                 SLC                    0.078870   5.841369\n",
      "0                 DEN                    3.866123  17.940528\n",
      "1                 SFO                    7.169514  20.935513\n",
      "CPU times: total: 1.08 s\n",
      "Wall time: 1.08 s\n"
     ]
    },
    {
     "data": {
      "application/vnd.jupyter.widget-view+json": {
       "model_id": "62765beea4cd4070a1c443cfc7e4edd2",
       "version_major": 2,
       "version_minor": 0
      },
      "text/plain": [
       "Map(center=[40.78839, -111.97777], controls=(ZoomControl(options=['position', 'zoom_in_text', 'zoom_in_title',…"
      ]
     },
     "metadata": {},
     "output_type": "display_data"
    }
   ],
   "source": [
    "%%time\n",
    "start_airport = np.random.choice(fl_df['ORIGIN_AIRPORT_'].unique()) \n",
    "where_to_go_from_start_airport = fl_df[fl_df.ORIGIN_AIRPORT_==start_airport]['DESTINATION_AIRPORT_'].unique()\n",
    "\n",
    "where_to_go_from_start_airport = pd.DataFrame(where_to_go_from_start_airport)\n",
    "where_to_go_from_start_airport.columns = ['DESTINATION_AIRPORT']\n",
    "\n",
    "top3 = where_to_go_from_start_airport\\\n",
    "    .merge(where_to_go,on='DESTINATION_AIRPORT',how='inner')\\\n",
    "    .sort_values(by=['RMSE','MEAN_ARRIVAL_DELAY_IN_PAST'],ascending=[True, True])\\\n",
    "    .head(3)\n",
    "\n",
    "print(f'Лучшие направления с аэропорта {start_airport}')\n",
    "print('')\n",
    "print(top3)\n",
    "\n",
    "#Вывод карты\n",
    "latitude_1 = float(ap_pd[(ap_pd.IATA_CODE==top3.iloc[0].DESTINATION_AIRPORT)]['LATITUDE'])\n",
    "longitude_1 = float(ap_pd[(ap_pd.IATA_CODE==top3.iloc[0].DESTINATION_AIRPORT)]['LONGITUDE'])\n",
    "latitude_2 = float(ap_pd[(ap_pd.IATA_CODE==top3.iloc[1].DESTINATION_AIRPORT)]['LATITUDE'])\n",
    "longitude_2 = float(ap_pd[(ap_pd.IATA_CODE==top3.iloc[1].DESTINATION_AIRPORT)]['LONGITUDE'])\n",
    "latitude_3 = float(ap_pd[(ap_pd.IATA_CODE==top3.iloc[2].DESTINATION_AIRPORT)]['LATITUDE'])\n",
    "longitude_3 = float(ap_pd[(ap_pd.IATA_CODE==top3.iloc[2].DESTINATION_AIRPORT)]['LONGITUDE'])\n",
    "point_1 = (latitude_1,longitude_1)\n",
    "point_2 = (latitude_2,longitude_2)\n",
    "point_3 = (latitude_3,longitude_3)\n",
    "                   \n",
    "m = Map(center=point_1, zoom=4)\n",
    "marker_1 = Marker(location=point_1)\n",
    "m.add_layer(marker_1)\n",
    "marker_2 = Marker(location=point_2)\n",
    "m.add_layer(marker_2)\n",
    "marker_3 = Marker(location=point_3)\n",
    "m.add_layer(marker_3)\n",
    "m\n",
    "# ------------------------\n"
   ]
  }
 ],
 "metadata": {
  "kernelspec": {
   "display_name": "Python 3 (ipykernel)",
   "language": "python",
   "name": "python3"
  },
  "language_info": {
   "codemirror_mode": {
    "name": "ipython",
    "version": 3
   },
   "file_extension": ".py",
   "mimetype": "text/x-python",
   "name": "python",
   "nbconvert_exporter": "python",
   "pygments_lexer": "ipython3",
   "version": "3.10.9"
  },
  "nbTranslate": {
   "displayLangs": [
    "*"
   ],
   "hotkey": "alt-t",
   "langInMainMenu": true,
   "sourceLang": "en",
   "targetLang": "fr",
   "useGoogleTranslate": true
  },
  "toc": {
   "base_numbering": 1,
   "nav_menu": {},
   "number_sections": true,
   "sideBar": true,
   "skip_h1_title": false,
   "title_cell": "Table of Contents",
   "title_sidebar": "Contents",
   "toc_cell": true,
   "toc_position": {},
   "toc_section_display": true,
   "toc_window_display": true
  }
 },
 "nbformat": 4,
 "nbformat_minor": 5
}
